{
 "cells": [
  {
   "cell_type": "markdown",
   "metadata": {
    "id": "qYlywGyxucjy"
   },
   "source": [
    "**Лабораторная работа №2.**\n",
    "\n",
    "**Numpy. Продукционная модель представления знаний**\n",
    "\n",
    "**Цель работы.**\n",
    "\n",
    "Ознакомление с библиотекой numpy Python. Разработка и исследование продукционной модели представления знаний.\n",
    "\n",
    "**ВНИМАНИЕ**, для выполнения лабораторных работ вам **НЕОБХОДИМА** учетная запись Google."
   ]
  },
  {
   "cell_type": "markdown",
   "metadata": {
    "id": "gkxYt52Yx-8c"
   },
   "source": [
    "\n",
    "---\n",
    "\n",
    "\n",
    "# 1. Использование модулей\n",
    "\n",
    "\n",
    "---"
   ]
  },
  {
   "cell_type": "markdown",
   "metadata": {
    "id": "xsH8QiLrzTt5"
   },
   "source": [
    "---\n",
    "\n",
    "**Импорт и вызов функций**\n",
    "\n",
    "---\n",
    "\n",
    "Допустим, нам необходимо использовать функцию косинуса.\n",
    "Эта функция и многие другие математические функции\n",
    "находятся в модуле `math`.\n",
    "Чтобы сообщить Python, что мы хотим получить доступ к функциям, предлагаемым\n",
    "этим модулем, мы можем передать оператор `import math`. Теперь модуль загружен в память.\n",
    "Теперь мы можем вызвать функцию следующим образом:\n",
    "\n",
    "``\n",
    "math.cos(0)\n",
    "``\n",
    "\n",
    "Обратите внимание, что мы должны указать имя модуля, в котором находится функция `cos`.\n",
    "Это связано с тем, что другие модули могут иметь функцию (или другой атрибут модуля) с таким же именем.\n",
    "Использование различных пространств имен для каждого модуля предотвращает столкновения имен. Например, функции `gzip.open`, `os.open` не следует путать со встроенной функцией `open`."
   ]
  },
  {
   "cell_type": "markdown",
   "metadata": {
    "id": "5leNLLLNzRGA"
   },
   "source": [
    "Пример использования функций sqrt (извлечение квадратного корня) и pow (возведение в степень) из модуля math:"
   ]
  },
  {
   "cell_type": "code",
   "execution_count": 1,
   "metadata": {
    "id": "VtpoNg74zO7t"
   },
   "outputs": [
    {
     "name": "stdout",
     "output_type": "stream",
     "text": [
      "2.0 2.23606797749979\n",
      "256.0 25.0\n"
     ]
    }
   ],
   "source": [
    "from math import sqrt, pow\n",
    "print(sqrt(4), sqrt(5))\n",
    "print(pow(2, 8), pow(5, 2))"
   ]
  },
  {
   "cell_type": "markdown",
   "metadata": {
    "id": "3UztUlMpiifw"
   },
   "source": [
    "---\n",
    "\n",
    "**Нарушение пространства имен**\n",
    "\n",
    "---\n",
    "\n",
    "Если косинус нужен часто, то может оказаться утомительным\n",
    "всегда указывать пространство имен, особенно если имя\n",
    "пространства имен/модуля длинное.\n",
    "Для таких случаев существует другой способ импорта модулей.\n",
    "Для того, чтобы добавить имя в текущую область видимости, воспользуемся командой `from math import cos`.\n",
    "Теперь мы можем использовать его без спецификатора пространства имен: `cos(1)`.\n",
    "\n",
    "Несколько имен можно импортировать в текущую область видимости с помощью оператора\n",
    "`from math import name1, name2, ...`.\n",
    "Можно добавить все имена модуля, например для модуля `math` с помощью команды `from math import *`.\n",
    "Последняя форма имеет смысл только в некоторых случаях, обычно она просто\n",
    "запутывает ситуацию и способствует появлению конфликтов имен.\n",
    "\n",
    "---\n",
    "\n",
    "**Иерархия модулей**\n",
    "\n",
    "---\n",
    "\n",
    "Стандартная библиотека содержит сотни модулей.\n",
    "Следовательно, трудно понять, что включает в себя библиотека.\n",
    "Поэтому модули необходимо как-то упорядочить.\n",
    "В Python модули могут быть организованы в иерархии с помощью\n",
    "*пакетов*.\n",
    "Пакет - это модуль, который может содержать другие пакеты и\n",
    "модули.\n",
    "Например, часто используемый пользователями Python пакет `numpy` содержит подпакеты `core`,\n",
    "`distutils`, `f2py`, `fft`, `lib`, `linalg`, `ma`, `numarray`, `oldnumeric`,\n",
    "`random`, и `testing`.\n",
    "А пакет `numpy.linalg`, в свою очередь, содержит модули `linalg`,\n",
    "`lapack_lite` и `info`.\n",
    "\n",
    "---\n",
    "\n",
    "**Импортирование из пакетов**\n",
    "\n",
    "---\n",
    "\n",
    "Команда `import numpy` импортирует пакет верхнего уровня `numpy`\n",
    "и его подпакеты.\n",
    "\n",
    "* `import numpy.linalg` импортирует только подпакет, и\n",
    "* `import numpy.linalg.linalg` импортирует только модуль.\n",
    "\n",
    "Если мы хотим пропустить длинную спецификацию пространства имен, мы можем\n",
    "использовать следующую команду\n",
    "\n",
    "``python\n",
    "from numpy.linalg import linalg\n",
    "``\n",
    "\n",
    "или\n",
    "\n",
    "``python\n",
    "from numpy.linalg import linalg as lin\n",
    "``\n",
    "\n",
    "если мы хотим использовать другое имя для модуля. Следующая команда импортирует функцию `det` (вычисляет определитель матрицы) из модуля linalg, который содержится в подпакете linalg, принадлежащем пакету numpy:\n",
    "``python\n",
    "from numpy.linalg.linalg import det\n",
    "``\n",
    "\n",
    "Если бы мы импортировали только пакет верхнего уровня `numpy`, нам пришлось бы обращаться к функции `det` с полным именем `numpy.linalg.linalg.det`.\n",
    "\n",
    "Вот краткое описание иерархии модулей:\n",
    "\n",
    "```\n",
    "пакет numpy\n",
    "  .\n",
    "подпакет linalg\n",
    "  .\n",
    "модуль linalg\n",
    "  .\n",
    "функция det\n",
    "```\n",
    "\n",
    "---\n",
    "\n",
    "**Соответствие между иерархиями папок и модулей**\n",
    "\n",
    "---\n",
    "\n",
    "Пакеты представлены папками в файловой системе.\n",
    "Папка должна содержать файл с именем `__init__.py`, который\n",
    "обрабатывает инициализацию\n",
    "пакета.\n",
    "Папка может также содержать другие папки\n",
    "(подпакеты) или файлы Python (обычные модули).\n",
    "\n",
    "```\n",
    "a/\n",
    "    __init__.py\n",
    "    b.py\n",
    "    c/\n",
    "        __init__.py\n",
    "        d.py\n",
    "```"
   ]
  },
  {
   "cell_type": "markdown",
   "metadata": {
    "collapsed": false,
    "jupyter": {
     "outputs_hidden": false
    }
   },
   "source": [
    "Пример использования функций sqrt (извлечение квадратного корня) и pow (возведение в степень) из модуля math"
   ]
  },
  {
   "cell_type": "code",
   "execution_count": 2,
   "metadata": {
    "id": "SgDnOiWxiifw"
   },
   "outputs": [
    {
     "name": "stdout",
     "output_type": "stream",
     "text": [
      "2.0 2.23606797749979\n",
      "256.0 25.0\n"
     ]
    }
   ],
   "source": [
    "from math import sqrt, pow\n",
    "print(sqrt(4), sqrt(5))\n",
    "print(pow(2, 8), pow(5, 2))"
   ]
  },
  {
   "cell_type": "markdown",
   "metadata": {
    "id": "jdAkIPLbzfbK"
   },
   "source": [
    "---\n",
    "\n",
    "**Модуль os**\n",
    "\n",
    "---\n",
    "\n",
    "Модули  [*os*](https://docs.python.org/3/library/os.html) и *os.path* включают в себя множество функций для взаимодействия с файловой системой, причём их поведение, как правило, не зависит от ОС, поэтому программы остаются переносимыми. Здесь приведены наиболее часто используемые из них.\n",
    "\n",
    "`os.name` - имя операционной системы. Доступные варианты: 'posix', 'nt', 'mac', 'os2', 'ce', 'java'.\n",
    "\n",
    "`os.environ` - словарь переменных окружения. Изменяемый (можно добавлять и удалять переменные окружения).\n",
    "\n",
    "`os.getlogin()` - имя пользователя, вошедшего в терминал (Unix).\n",
    "\n",
    "`os.getpid()` - текущий id процесса.\n",
    "\n",
    "`os.uname()` - информация об ОС. возвращает объект с атрибутами: sysname - имя операционной системы, nodename - имя машины в сети (определяется реализацией), release - релиз, version - версия, machine - идентификатор машины.\n",
    "\n",
    "`os.access(path, mode, *, dir_fd=None, effective_ids=False, follow_symlinks=True)` - проверка доступа к объекту у текущего пользователя. Флаги: os.F_OK - объект существует, os.R_OK - доступен на чтение, os.W_OK - доступен на запись, os.X_OK - доступен на исполнение.\n",
    "\n",
    "`os.chdir(path) `- смена текущей директории.\n",
    "\n",
    "`os.chmod(path, mode, *, dir_fd=None, follow_symlinks=True)` - смена прав доступа к объекту (mode - восьмеричное число).\n",
    "\n",
    "`os.chown(path, uid, gid, *, dir_fd=None, follow_symlinks=True)` - меняет id владельца и группы (Unix).\n",
    "\n",
    "`os.getcwd()` - текущая рабочая директория.\n",
    "\n",
    "`os.link(src, dst, *, src_dir_fd=None, dst_dir_fd=None, follow_symlinks=True)` - создаёт жёсткую ссылку.\n",
    "\n",
    "`os.listdir(path=\".\")` - список файлов и директорий в папке.\n",
    "\n",
    "`os.mkdir(path, mode=0o777, *, dir_fd=None)` - создаёт директорию. OSError, если директория существует.\n",
    "\n",
    "`os.makedirs(path, mode=0o777, exist_ok=False)` - создаёт директорию, создавая при этом промежуточные директории.\n",
    "\n",
    "`os.remove(path, *, dir_fd=None)` - удаляет путь к файлу.\n",
    "\n",
    "`os.rename(src, dst, *, src_dir_fd=None, dst_dir_fd=None)` - переименовывает файл или директорию из src в dst.\n",
    "\n",
    "`os.renames(old, new)` - переименовывает old в new, создавая промежуточные директории.\n",
    "\n",
    "`os.replace(src, dst, *, src_dir_fd=None, dst_dir_fd=None)` - переименовывает из src в dst с принудительной заменой.\n",
    "\n",
    "`os.rmdir(path, *, dir_fd=None)` - удаляет пустую директорию.\n",
    "\n",
    "`os.removedirs(path)` - удаляет директорию, затем пытается удалить родительские директории, и удаляет их рекурсивно, пока они пусты.\n",
    "\n",
    "`os.symlink(source, link_name, target_is_directory=False, *, dir_fd=None)` - создаёт символическую ссылку на объект.\n",
    "\n",
    "`os.sync()` - записывает все данные на диск (Unix).\n",
    "\n",
    "`os.truncate(path, length)` - обрезает файл до длины length.\n",
    "\n",
    "`os.utime(path, times=None, *, ns=None, dir_fd=None, follow_symlinks=True)` - модификация времени последнего доступа и изменения файла. Либо times - кортеж (время доступа в секундах, время изменения в секундах), либо ns - кортеж (время доступа в наносекундах, время изменения в наносекундах).\n",
    "\n",
    "`os.walk(top, topdown=True, onerror=None, followlinks=False)` - генерация имён файлов в дереве каталогов, сверху вниз (если topdown равен True), либо снизу вверх (если False). Для каждого каталога функция walk возвращает кортеж (путь к каталогу, список каталогов, список файлов).\n",
    "\n",
    "`os.system(command)` - исполняет системную команду, возвращает код её завершения (в случае успеха 0).\n",
    "\n",
    "`os.urandom(n)` - n случайных байт. Возможно использование этой функции в криптографических целях.\n",
    "\n",
    "`os.path` - модуль, реализующий некоторые полезные функции на работы с путями.\n"
   ]
  },
  {
   "cell_type": "code",
   "execution_count": 1,
   "metadata": {
    "id": "-9woZOC91QjN"
   },
   "outputs": [
    {
     "name": "stdout",
     "output_type": "stream",
     "text": [
      "Текущая рабочая директория:  /IdeaProjects/tusur-ai-1/notebooks\n",
      "['ii_lab2.ipynb', '2test_5', 'test_0', '2test_3', 'test_2', 'test_5', 'test_8', 'test_7', 'test_6', '2test_4', '2test_2', '2test_0', '2test_6', '2test_7', 'test_3', '2test_9', '.ipynb_checkpoints', 'test_4', 'test_9', '2test_1', 'ИИ_ЛР2.ipynb', 'test_1', '2test_8']\n"
     ]
    }
   ],
   "source": [
    "import os\n",
    "print('Текущая рабочая директория: ', os.getcwd())\n",
    "# создаем папки\n",
    "for i in range(10):\n",
    "  os.mkdir('test' + '_' + str(i))\n",
    "  os.mkdir(os.getcwd() + '/2test' + '_' + str(i))\n",
    "# создаем папки\n",
    "print(os.listdir())"
   ]
  },
  {
   "cell_type": "markdown",
   "metadata": {
    "id": "hCwZjVvD4H1P"
   },
   "source": [
    "---\n",
    "\n",
    "**Модуль time**\n",
    "\n",
    "---\n",
    "\n",
    "`time` - модуль для работы со временем в Python.\n",
    "\n",
    "`time.sleep(сек)` - позволяетприостановить выполнение программы на заданное количество секунд.\n",
    "\n",
    "`time.time()` - время, выраженное в секундах с начала эпохи. Можно использовать для довольно примерного измерения времени работы функций вне многопотокового контекста."
   ]
  },
  {
   "cell_type": "markdown",
   "metadata": {
    "id": "SWaltpGQSn92"
   },
   "source": [
    "\n",
    "---\n",
    "\n",
    "\n",
    "# 2. Numpy\n",
    "\n",
    "\n",
    "---\n",
    "\n",
    "[NumPy](https://numpy.org/) это open-source пакет Python, фундаментальный для научных вычислений на Python. В этой библиотеке предоставляются объект многомерного массива, различные производные объекты (массивы с масками и матрицы), а также набор процедур для быстрых операций с массивами, включая математические, логические, манипуляции с формами, сортировку, выборку, ввод-вывод, дискретные преобразования Фурье, основы линейной алгебры, базовые статистические операции, моделирование случайных величин и многое другое.\n",
    "\n",
    "В основе пакета NumPy лежит объект ndarray. Он инкапсулирует n-мерные массивы однородных типов данных. Библиотека частично написана на Python, а частично на C и C++ — в тех местах, которые требуют скорости. Кроме того, код NumPy оптимизирован под большинство современных процессоров. Основные отличия между массивами NumPy и стандартными списками Python:\n",
    "\n",
    "1. Массивы NumPy имеют фиксированный размер при создании, в отличие от списков Python (которые могут динамически увеличиваться). Изменение размера массива ndarray приведет к созданию нового массива и удалению исходного.\n",
    "\n",
    "2. Элементы массива NumPy должны быть одного типа данных и, следовательно, будут иметь одинаковый размер в памяти. Исключение: можно создавать массивы из объектов (Python, включая NumPy), что позволяет создавать массивы из элементов разного размера (так как содержат только ссылки на объекты).\n",
    "\n",
    "Массивы NumPy облегчают сложные математические и другие виды операций над большим количеством данных, а также работу с вещественными числами.\n",
    "\n",
    "NumPy - один из ключевых модулей в экосистеме Python, в том числе при решении задач машинного обучения и искусственного интеллекта. Основан NumPy на библиотеке LAPAC, которая написана на Fortran."
   ]
  },
  {
   "cell_type": "markdown",
   "metadata": {
    "id": "j42zD3zQUB29"
   },
   "source": [
    "\n",
    "\n",
    "---\n",
    "\n",
    "\n",
    "**Установка**\n",
    "\n",
    "Если вы используете Google Colab, то numpy уже установлен на виртуальной машине и вы можете им пользоваться.\n",
    "\n",
    "Иначе, можете воспользоваться командой установки, записанной через восклицательный знак\n",
    "\n",
    "\n",
    "```\n",
    "!pip install numpy\n",
    "```\n",
    "Таким образом, в среде ipynb мы вызываем системную команду pip, которая сама установит данный модуль в виртуальную среду.\n"
   ]
  },
  {
   "cell_type": "code",
   "execution_count": 3,
   "metadata": {
    "id": "-u28cDMWUASF"
   },
   "outputs": [
    {
     "name": "stdout",
     "output_type": "stream",
     "text": [
      "Collecting numpy\n",
      "  Downloading numpy-1.26.4-cp312-cp312-manylinux_2_17_aarch64.manylinux2014_aarch64.whl.metadata (62 kB)\n",
      "\u001b[2K     \u001b[90m━━━━━━━━━━━━━━━━━━━━━━━━━━━━━━━━━━━━━━━\u001b[0m \u001b[32m62.3/62.3 kB\u001b[0m \u001b[31m495.4 kB/s\u001b[0m eta \u001b[36m0:00:00\u001b[0ma \u001b[36m0:00:01\u001b[0m\n",
      "\u001b[?25hDownloading numpy-1.26.4-cp312-cp312-manylinux_2_17_aarch64.manylinux2014_aarch64.whl (13.9 MB)\n",
      "\u001b[2K   \u001b[90m━━━━━━━━━━━━━━━━━━━━━━━━━━━━━━━━━━━━━━━━\u001b[0m \u001b[32m13.9/13.9 MB\u001b[0m \u001b[31m38.2 MB/s\u001b[0m eta \u001b[36m0:00:00\u001b[0m00:01\u001b[0m00:01\u001b[0m\n",
      "\u001b[?25hInstalling collected packages: numpy\n",
      "Successfully installed numpy-1.26.4\n",
      "Note: you may need to restart the kernel to use updated packages.\n"
     ]
    }
   ],
   "source": [
    "%pip install numpy"
   ]
  },
  {
   "cell_type": "markdown",
   "metadata": {
    "id": "GphEpwROubE7"
   },
   "source": [
    "Большинство модулей Python распространяется свободно. Для их установки обычно используется pip3. pip3 это официальный менеджер пакетов. Команда pip для Python 3 реализует установку и управление пакетов от сторонних разработчиков, что позволяет добавлять дополнительный функционал языка, которого нет в его стандартной библиотеке Python. Pip3 устанавливает пакеты из PyPI (Python Package Index).\n",
    "\n",
    "В Google Colab большинство нужных пакетов уже установлено. Чтобы получить их список, можно выполнить команду !pip list"
   ]
  },
  {
   "cell_type": "code",
   "execution_count": 5,
   "metadata": {
    "id": "xQ9WIWioiifz"
   },
   "outputs": [
    {
     "name": "stdout",
     "output_type": "stream",
     "text": [
      "Package           Version\n",
      "----------------- -----------\n",
      "asttokens         2.4.1\n",
      "comm              0.2.2\n",
      "debugpy           1.8.1\n",
      "decorator         5.1.1\n",
      "executing         2.0.1\n",
      "ipykernel         6.29.4\n",
      "ipython           8.23.0\n",
      "jedi              0.19.1\n",
      "jupyter_client    8.6.1\n",
      "jupyter_core      5.7.2\n",
      "matplotlib-inline 0.1.7\n",
      "nest-asyncio      1.6.0\n",
      "numpy             1.26.4\n",
      "packaging         24.0\n",
      "parso             0.8.4\n",
      "pexpect           4.9.0\n",
      "pip               24.0\n",
      "platformdirs      4.2.0\n",
      "prompt-toolkit    3.0.43\n",
      "psutil            5.9.8\n",
      "ptyprocess        0.7.0\n",
      "pure-eval         0.2.2\n",
      "Pygments          2.17.2\n",
      "python-dateutil   2.9.0.post0\n",
      "pyzmq             26.0.2\n",
      "six               1.16.0\n",
      "stack-data        0.6.3\n",
      "tornado           6.4\n",
      "traitlets         5.14.3\n",
      "wcwidth           0.2.13\n"
     ]
    }
   ],
   "source": [
    "!pip list"
   ]
  },
  {
   "cell_type": "markdown",
   "metadata": {
    "id": "KRUvD4byiifz"
   },
   "source": [
    "Для обновления модуля можно использовать следующую команду:"
   ]
  },
  {
   "cell_type": "code",
   "execution_count": 4,
   "metadata": {
    "id": "VRs2qBjDiifz"
   },
   "outputs": [
    {
     "name": "stdout",
     "output_type": "stream",
     "text": [
      "Requirement already satisfied: numpy in /workspaces/tusur-ai-1/.venv/lib/python3.12/site-packages (1.26.4)\n"
     ]
    }
   ],
   "source": [
    "!pip install numpy --upgrade\n",
    "# или можно так !pip install numpy --U\n",
    "# а удалить пакет можно так !pip uninstall numpy"
   ]
  },
  {
   "cell_type": "markdown",
   "metadata": {
    "id": "Or1DjwFYiifz"
   },
   "source": [
    "Также можно использовать другие bash команды (ls, cd и т.д.):"
   ]
  },
  {
   "cell_type": "code",
   "execution_count": null,
   "metadata": {
    "id": "M1HIfMjtiif0"
   },
   "outputs": [],
   "source": [
    "!ls"
   ]
  },
  {
   "cell_type": "markdown",
   "metadata": {
    "id": "eiCKlC1MVTxD"
   },
   "source": [
    "\n",
    "\n",
    "---\n",
    "\n",
    "\n",
    "**Подключение**\n",
    "\n",
    "Для подключения модулей в Python используется команда `import` или её вариации. В случае с numpy часто используется команда импорта с использованием псевдонима (alias) `(as) np`."
   ]
  },
  {
   "cell_type": "code",
   "execution_count": null,
   "metadata": {
    "id": "2VnPtDPcSQvi"
   },
   "outputs": [],
   "source": [
    "# классический вариант\n",
    "import numpy"
   ]
  },
  {
   "cell_type": "code",
   "execution_count": null,
   "metadata": {
    "id": "7Yqz0e4cSnj5"
   },
   "outputs": [],
   "source": [
    "# часто используемый вариант\n",
    "import numpy as np"
   ]
  },
  {
   "cell_type": "markdown",
   "metadata": {
    "id": "XkFuEgPVV0at"
   },
   "source": [
    "При таком импорте к любым командам из модуля numpy придётся дописывать название модуля\n",
    "\n",
    "```\n",
    "numpy.comand\n",
    "np.comand\n",
    "```\n",
    "Есть другой вариант, в котором можно использовать только команду без указания модуля. Но так как в разных модулях могут быть одинаковые функции, использовать такой вариант не рекомендуется.\n"
   ]
  },
  {
   "cell_type": "code",
   "execution_count": null,
   "metadata": {
    "id": "CSSdlFA6WfCg"
   },
   "outputs": [],
   "source": [
    "from numpy import *"
   ]
  },
  {
   "cell_type": "markdown",
   "metadata": {
    "id": "KROHUh0xi1nD"
   },
   "source": [
    "\n",
    "\n",
    "---\n",
    "\n",
    "\n",
    "**Особые константы**\n",
    "\n",
    "Numpy реализует несколько особых значений через константы (например, np.NaN, not a number - не число; np.Inf, infinity - бесконечность)."
   ]
  },
  {
   "cell_type": "code",
   "execution_count": null,
   "metadata": {
    "id": "407sxkUFjCZn"
   },
   "outputs": [],
   "source": [
    "np.NaN\n",
    "# not a number - Не число"
   ]
  },
  {
   "cell_type": "code",
   "execution_count": null,
   "metadata": {
    "id": "j_XDMb9-jJh1"
   },
   "outputs": [],
   "source": [
    "np.Inf\n",
    "# infinity - бесконечность"
   ]
  },
  {
   "cell_type": "code",
   "execution_count": null,
   "metadata": {
    "id": "kM0raBgp7RRr"
   },
   "outputs": [],
   "source": [
    "np.pi\n",
    "# число pi"
   ]
  },
  {
   "cell_type": "markdown",
   "metadata": {
    "id": "nKw_yo1lXWXM"
   },
   "source": [
    "\n",
    "\n",
    "---\n",
    "\n",
    "\n",
    "**Массивы**\n",
    "\n",
    "Главная особенность и элемент, с которым необходимо работать, в numpy - это массивы (ndarray).\n",
    "\n",
    "Массивы NumPy могут быть определены с помощью последовательностей Python, таких как списки и кортежи. Списки и кортежи определяются с помощью [...] и (...), соответственно. Списки и кортежи могут определять создание массивов:\n",
    "\n",
    "* список чисел создаст одномерный массив,\n",
    "\n",
    "* список списков создаст двумерный массив,\n",
    "\n",
    "* дальнейшие вложенные списки создадут массивы более высокой размерности. В целом, в NumPy любой массив называется ndarray.\n",
    "\n",
    "При использовании numpy.array для определения нового массива необходимо учитывать dtype элементов массива, который может быть указан явно. Эта возможность дает больше контроля над базовыми структурами данных и тем, как элементы обрабатываются в функциях C/C++."
   ]
  },
  {
   "cell_type": "code",
   "execution_count": null,
   "metadata": {
    "id": "FKmqlaxTYZ2M"
   },
   "outputs": [],
   "source": [
    "a1D = np.array([1, 2, 3, 4])\n",
    "a2D = np.array([[1, 2], [3, 4]])\n",
    "a3D = np.array([[[1, 2], [3, 4]], [[5, 6], [7, 8]]])\n",
    "\n",
    "a = np.array([1, 2, 3, 4], dtype=float)\n",
    "print('Array:', a)\n",
    "print('Тип: ',type(a))\n",
    "# обратное преобразование\n",
    "print(a.tolist())"
   ]
  },
  {
   "cell_type": "markdown",
   "metadata": {
    "id": "epHsm7o4vXXU"
   },
   "source": [
    "С np.array можно работать как и с обычным list - индексировать элементы, создавать срезы."
   ]
  },
  {
   "cell_type": "code",
   "execution_count": null,
   "metadata": {
    "id": "RKkm4CVBZAJ0"
   },
   "outputs": [],
   "source": [
    "# показываем, что можно также работать с np.array, как и с обычным list\n",
    "a = np.array([1, 2, 4, 4])\n",
    "\n",
    "print('1: ', a[0])\n",
    "print('2: ', a[1:3])\n",
    "print('3: ', a[-1])\n",
    "a[0] = 5\n",
    "print('4: ', a[0])"
   ]
  },
  {
   "cell_type": "markdown",
   "metadata": {
    "id": "vy4SFxsZ8FR6"
   },
   "source": [
    "Функции создания одномерных массивов, например, numpy.linspace и numpy.arange, обычно нуждаются как минимум в двух аргументах - start и stop.\n",
    "\n",
    "numpy.arange создает массивы с регулярно увеличивающимися значениями и похож по функционалу на встроенную функцию `range`.\n",
    "\n",
    "Наилучшей практикой для numpy.arange является использование целочисленных значений начала (start), конца (stop) и шага (step).\n",
    "\n",
    "numpy.linspace создает массивы с заданным количеством элементов, расположенных на равном расстоянии между заданными начальным и конечным значениями. В случае этой функции гарантируется количество элементов, а также начальную и конечную точка. Предыдущий вариант arange(start, stop, step) не будет включать значение stop."
   ]
  },
  {
   "cell_type": "code",
   "execution_count": null,
   "metadata": {
    "id": "HivVvAAg8xA5"
   },
   "outputs": [],
   "source": [
    "print(np.arange(10))\n",
    "print(np.arange(2, 10, dtype=float))\n",
    "print(np.arange(2, 3, 0.1))\n",
    "print(np.linspace(1., 4., 6))"
   ]
  },
  {
   "cell_type": "markdown",
   "metadata": {
    "id": "SLoj4f8b9FsT"
   },
   "source": [
    "Также можно создавать массивы произвольной формы, заполненные нулями (`np.zeros(shape=(\"здесь размерность массива через запятую\"))`) или единицами (`np.ones(shape=(\"здесь размерность массива через запятую\"))`)"
   ]
  },
  {
   "cell_type": "code",
   "execution_count": null,
   "metadata": {
    "id": "5xwtYTT49H3A"
   },
   "outputs": [],
   "source": [
    "print(np.zeros(shape=(5,)))\n",
    "print(np.ones(shape=(5,)))"
   ]
  },
  {
   "cell_type": "markdown",
   "metadata": {
    "id": "u2G1XvOJ9uzt"
   },
   "source": [
    "Также можно создавать массивы произвольной формы, заполненные случайными значениями из равномерного распределения от 0. до 1. (`np.random.uniform(size=(\"здесь размерность массива через запятую\"))`)"
   ]
  },
  {
   "cell_type": "code",
   "execution_count": null,
   "metadata": {
    "id": "2Ii7wXzJ-Wik"
   },
   "outputs": [],
   "source": [
    "print(np.random.uniform())\n",
    "print(np.random.uniform(size=(5,)))"
   ]
  },
  {
   "cell_type": "markdown",
   "metadata": {
    "id": "9_-6tQKK-bbg"
   },
   "source": [
    "Команда `numpy.random.normal` позволяет получить использовать Гауссово распределения для генерации случайных чисел"
   ]
  },
  {
   "cell_type": "code",
   "execution_count": null,
   "metadata": {
    "id": "l55FgO7M-bDO"
   },
   "outputs": [],
   "source": [
    "mu, sigma = 0, 0.1\n",
    "print(np.random.normal(mu, sigma))\n",
    "print(np.random.normal(mu, sigma, size=(3, 3)))"
   ]
  },
  {
   "cell_type": "markdown",
   "metadata": {
    "id": "tL0JTnZ4_Ida"
   },
   "source": [
    "`random.randint(low, high=None, size=None, dtype=int)`\n",
    "возвращает случайные целые числа из \"дискретного равномерного\" распределения указанного dtype в \"полуоткрытом\" интервале [low, high). Если значение high равно None (по умолчанию), то результаты будут получены из интервала [0, low)."
   ]
  },
  {
   "cell_type": "code",
   "execution_count": null,
   "metadata": {
    "id": "IZWAMWF4_BD2"
   },
   "outputs": [],
   "source": [
    "np.random.randint(1, 40, 5)"
   ]
  },
  {
   "cell_type": "markdown",
   "metadata": {
    "id": "mfoc1cFG_Tk1"
   },
   "source": [
    "Как вы уже должны были заметить, с помощью аргумента shape или size (в зависимости от функции, можно создавать в качестве результата как одиночные числа, так и вектора, двумерные массивы, трехмерные массивы и т.д.)"
   ]
  },
  {
   "cell_type": "markdown",
   "metadata": {
    "id": "uzW3ZG1tZbBf"
   },
   "source": [
    "\n",
    "\n",
    "---\n",
    "\n",
    "\n",
    "**Многомерные массивы**\n",
    "\n",
    "Наибольшая ценность numpy в том, что пакет дает возможность достаточно эффективной работы работы с многомерными массивами. Например, любое изображение - как минимум, двумерный массив (а чаще всего - трехмерный, из-за наличия нескольких каналов). А при обучении нейронных сетей для работы с компьютерным зрением используются, по сути, четырёхмерные массивы. У всех созданных массивов есть поле shape, которое дает информацию об их размерности, а также dtype - тип данных внутри."
   ]
  },
  {
   "cell_type": "code",
   "execution_count": null,
   "metadata": {
    "id": "0cIM9tWyZaUJ"
   },
   "outputs": [],
   "source": [
    "a = np.array([[1, 2, 3], [4, 5, 6]], int)\n",
    "print('0: ', a)\n",
    "print('1: ', a[0,0])\n",
    "print('2: ', a[1,0])\n",
    "print('3: ', a[0,1])"
   ]
  },
  {
   "cell_type": "code",
   "execution_count": null,
   "metadata": {
    "id": "X-7XOsgia1Yt"
   },
   "outputs": [],
   "source": [
    "# срезы (сленг - слайсы) с двумерным массивом\n",
    "print('4: ', a[1,:])\n",
    "print('5: ', a[:,2])\n",
    "print('6: ', a[-1:, -2:])"
   ]
  },
  {
   "cell_type": "code",
   "execution_count": null,
   "metadata": {
    "id": "50-siHxAz3Ox"
   },
   "outputs": [],
   "source": [
    "# размеры\n",
    "a.shape"
   ]
  },
  {
   "cell_type": "code",
   "execution_count": null,
   "metadata": {
    "id": "fyYdBYYcfbmR"
   },
   "outputs": [],
   "source": [
    "# тип данных внутри\n",
    "# напоминаем, массив numpy может хранить только один тип данных\n",
    "a.dtype"
   ]
  },
  {
   "cell_type": "markdown",
   "metadata": {
    "id": "bzNwVUuOgAuH"
   },
   "source": [
    "\n",
    "\n",
    "---\n",
    "\n",
    "\n",
    "**Изменение размеров массива**"
   ]
  },
  {
   "cell_type": "markdown",
   "metadata": {
    "id": "rG4mwTNIATWS"
   },
   "source": [
    "С помощью функции reshape, встроенной в ndarray, можно менять размерность массива (при условии сохранения общего числа элементов). В процессе изменения размера создается новый массив, а не изменяется старый (как и в большинстве функций numpy). Функция flatten() позволяет сделать массив одномерным."
   ]
  },
  {
   "cell_type": "code",
   "execution_count": null,
   "metadata": {
    "id": "wIgFAsuSKMKM"
   },
   "outputs": [],
   "source": [
    "a"
   ]
  },
  {
   "cell_type": "code",
   "execution_count": null,
   "metadata": {
    "id": "8Qa8TyQOgDL8"
   },
   "outputs": [],
   "source": [
    "a2 = a.reshape(4,2)\n",
    "a2"
   ]
  },
  {
   "cell_type": "code",
   "execution_count": null,
   "metadata": {
    "id": "N3ZuJCHxgNeR"
   },
   "outputs": [],
   "source": [
    "# обратите внимание, что в процессе изменения размера создан новый массив, а не изменён старый\n",
    "a"
   ]
  },
  {
   "cell_type": "code",
   "execution_count": null,
   "metadata": {
    "id": "OJnHnxVHgqgG"
   },
   "outputs": [],
   "source": [
    "# с помощью этой команды можно \"вытянуть\" массив в одномерную \"строку\"\n",
    "a.flatten()"
   ]
  },
  {
   "cell_type": "code",
   "execution_count": null,
   "metadata": {
    "id": "nnuze3P0g0F7"
   },
   "outputs": [],
   "source": [
    "# обратите внимание, что в процессе изменения размера создан новый массив, а не изменён старый\n",
    "a"
   ]
  },
  {
   "cell_type": "markdown",
   "metadata": {
    "id": "KjtLwv5MA0vL"
   },
   "source": [
    "`np.identity` позволяет создать квадратную матрицу с единицами на главной диагонали. `np.eye` возвращает двумерный массив с единицами на диагонали и нулями в остальных местах."
   ]
  },
  {
   "cell_type": "code",
   "execution_count": null,
   "metadata": {
    "id": "D484-EYBidsq"
   },
   "outputs": [],
   "source": [
    "np.identity(4)"
   ]
  },
  {
   "cell_type": "code",
   "execution_count": null,
   "metadata": {
    "id": "me3MDosSigXa"
   },
   "outputs": [],
   "source": [
    "# k - номер диагонали для заполнения единицами\n",
    "np.eye(5,4, k=2)"
   ]
  },
  {
   "cell_type": "markdown",
   "metadata": {
    "id": "PFi4IJAPl7W3"
   },
   "source": [
    "\n",
    "\n",
    "---\n",
    "\n",
    "\n",
    "**Перебор элементов массива**"
   ]
  },
  {
   "cell_type": "code",
   "execution_count": null,
   "metadata": {
    "id": "XbHUaIYjl6tM"
   },
   "outputs": [],
   "source": [
    "a = np.array([1, 4, 5], int)"
   ]
  },
  {
   "cell_type": "code",
   "execution_count": null,
   "metadata": {
    "id": "ZKmehRBNl_dx"
   },
   "outputs": [],
   "source": [
    "# простой перебор для одномерного случая\n",
    "for x in a:\n",
    "   print(x)"
   ]
  },
  {
   "cell_type": "code",
   "execution_count": null,
   "metadata": {
    "id": "mF7_afUImDye"
   },
   "outputs": [],
   "source": [
    "# простой перебор для многомерного случая работает плохо, он перебирает по первой размерности\n",
    "a = np.array([[1, 2], [3, 4], [5, 6]], float)\n",
    "for x in a:\n",
    "   print(x)"
   ]
  },
  {
   "cell_type": "code",
   "execution_count": null,
   "metadata": {
    "id": "DOvWtnSq00E6"
   },
   "outputs": [],
   "source": [
    "a.shape"
   ]
  },
  {
   "cell_type": "code",
   "execution_count": null,
   "metadata": {
    "id": "-V4y9g8AmO-7"
   },
   "outputs": [],
   "source": [
    "# перебор правильным способом\n",
    "for x in range(a.shape[0]):\n",
    "  for y in range(a.shape[1]):\n",
    "    print(a[x, y])"
   ]
  },
  {
   "cell_type": "markdown",
   "metadata": {
    "id": "XOFzhZRTm0sJ"
   },
   "source": [
    "\n",
    "\n",
    "---\n",
    "\n",
    "\n",
    "**Операции над массивами**"
   ]
  },
  {
   "cell_type": "markdown",
   "metadata": {
    "id": "r2uNeGpuirH0"
   },
   "source": [
    "\n",
    "\n",
    "---\n",
    "\n",
    "\n",
    "**Математические операции над массивами**\n",
    "\n",
    "С массивами можно применять стандартные математические операции. Они будут работать так, как будто происходит поэлементная работа одной и той же операции. Для матричных операций есть специальные команды.\n",
    "\n",
    "**Стандартные математические операции применимы только к массивам одинаковых размеров.**"
   ]
  },
  {
   "cell_type": "code",
   "execution_count": null,
   "metadata": {
    "id": "K1hOsCfeiqJu"
   },
   "outputs": [],
   "source": [
    "a = np.arange(1, 4, 1, dtype=int)\n",
    "b = np.arange(6, 9, 1, dtype=int)\n",
    "print('a: ', a)\n",
    "print('b: ', b)"
   ]
  },
  {
   "cell_type": "code",
   "execution_count": null,
   "metadata": {
    "id": "TpowhPPXjRkK"
   },
   "outputs": [],
   "source": [
    "a + b"
   ]
  },
  {
   "cell_type": "code",
   "execution_count": null,
   "metadata": {
    "id": "vyVouUUsjS66"
   },
   "outputs": [],
   "source": [
    "a - b"
   ]
  },
  {
   "cell_type": "code",
   "execution_count": null,
   "metadata": {
    "id": "zB1ctuxdjWY6"
   },
   "outputs": [],
   "source": [
    "a * b"
   ]
  },
  {
   "cell_type": "code",
   "execution_count": null,
   "metadata": {
    "id": "VfvB9qhPjXvr"
   },
   "outputs": [],
   "source": [
    "b / a"
   ]
  },
  {
   "cell_type": "code",
   "execution_count": null,
   "metadata": {
    "id": "gyn1iRjojZG_"
   },
   "outputs": [],
   "source": [
    "a % b"
   ]
  },
  {
   "cell_type": "code",
   "execution_count": null,
   "metadata": {
    "id": "1sROVXt_jasJ"
   },
   "outputs": [],
   "source": [
    "b**a"
   ]
  },
  {
   "cell_type": "code",
   "execution_count": null,
   "metadata": {
    "id": "N3wNkmy1jcX_"
   },
   "outputs": [],
   "source": [
    "a // b"
   ]
  },
  {
   "cell_type": "markdown",
   "metadata": {
    "id": "5C02Z_nOj7Vv"
   },
   "source": [
    "Кроме того, поэлементно могут быть применены другие математические операции"
   ]
  },
  {
   "cell_type": "code",
   "execution_count": null,
   "metadata": {
    "id": "qD8eOzmpj6pi"
   },
   "outputs": [],
   "source": [
    "# корень\n",
    "np.sqrt(a)"
   ]
  },
  {
   "cell_type": "code",
   "execution_count": null,
   "metadata": {
    "id": "mcX6QHJpkE5J"
   },
   "outputs": [],
   "source": [
    "a = np.array([1.1, 1.5, 1.9], float)"
   ]
  },
  {
   "cell_type": "code",
   "execution_count": null,
   "metadata": {
    "id": "AxZwfU8XkGLv"
   },
   "outputs": [],
   "source": [
    "# округление вниз\n",
    "np.floor(a)"
   ]
  },
  {
   "cell_type": "code",
   "execution_count": null,
   "metadata": {
    "id": "0Jqw5BxKkHcS"
   },
   "outputs": [],
   "source": [
    "# округление вверх\n",
    "np.ceil(a)"
   ]
  },
  {
   "cell_type": "code",
   "execution_count": null,
   "metadata": {
    "id": "Hmf_VZnKkIxm"
   },
   "outputs": [],
   "source": [
    "# округление по правилам математики\n",
    "np.rint(a)"
   ]
  },
  {
   "cell_type": "markdown",
   "metadata": {
    "id": "9RVxKPPzm48-"
   },
   "source": [
    "\n",
    "\n",
    "---\n",
    "\n",
    "\n",
    "**Простые операции над массивами**"
   ]
  },
  {
   "cell_type": "markdown",
   "metadata": {
    "id": "4kul0PInoCR9"
   },
   "source": [
    "\n",
    "\n",
    "---\n",
    "\n",
    "\n",
    "**Одномерные массивы**"
   ]
  },
  {
   "cell_type": "code",
   "execution_count": null,
   "metadata": {
    "id": "mq19j01pnN8G"
   },
   "outputs": [],
   "source": [
    "a = np.arange(1, 6, 1)\n",
    "print(a)\n",
    "print('Сумма: ', a.sum())\n",
    "print('Перемножение: ', a.prod())"
   ]
  },
  {
   "cell_type": "code",
   "execution_count": null,
   "metadata": {
    "id": "6Mr3ICs2nlLF"
   },
   "outputs": [],
   "source": [
    "# среднее (математическое ожидание)\n",
    "a.mean()"
   ]
  },
  {
   "cell_type": "code",
   "execution_count": null,
   "metadata": {
    "id": "BuUYDhLe1N9t"
   },
   "outputs": [],
   "source": [
    "np.mean(a)"
   ]
  },
  {
   "cell_type": "code",
   "execution_count": null,
   "metadata": {
    "id": "2YYUh5JdnmaL"
   },
   "outputs": [],
   "source": [
    "# дисперсия (смещенная - это будет важно в дальнейшем)\n",
    "a.var()"
   ]
  },
  {
   "cell_type": "code",
   "execution_count": null,
   "metadata": {
    "id": "ahaWzOm0nnia"
   },
   "outputs": [],
   "source": [
    "# стандартное отклонение (несмещенное - это тоже будет важно в дальнейшем)\n",
    "a.std()"
   ]
  },
  {
   "cell_type": "code",
   "execution_count": null,
   "metadata": {
    "id": "b-bIkJ2Wn2x5"
   },
   "outputs": [],
   "source": [
    "a.min()"
   ]
  },
  {
   "cell_type": "code",
   "execution_count": null,
   "metadata": {
    "id": "0AxTdqczn4jx"
   },
   "outputs": [],
   "source": [
    "a.argmin()"
   ]
  },
  {
   "cell_type": "code",
   "execution_count": null,
   "metadata": {
    "id": "QIYU068WodfS"
   },
   "outputs": [],
   "source": [
    "# clip позволяет \"отрезать\" значения больше и меньше указанных пределов\n",
    "a = np.array([6, 2, 5, -1, 0, 6, 2, 5, 4], float)\n",
    "a.clip(0, 5)"
   ]
  },
  {
   "cell_type": "code",
   "execution_count": null,
   "metadata": {
    "id": "U2LfpmtFoswk"
   },
   "outputs": [],
   "source": [
    "np.unique(a, return_counts=True)"
   ]
  },
  {
   "cell_type": "markdown",
   "metadata": {
    "id": "44hny-booF_m"
   },
   "source": [
    "\n",
    "\n",
    "---\n",
    "\n",
    "\n",
    "**Многомерные массивы**\n",
    "Для работы с многомерными массивами можно использовать параметр `axis`."
   ]
  },
  {
   "cell_type": "code",
   "execution_count": null,
   "metadata": {
    "id": "JP1uT4h1oBCW"
   },
   "outputs": [],
   "source": [
    "a = np.array([[5, 2], [4, 1], [3, -1]])\n",
    "print(a)\n",
    "print(a.mean(axis=0))\n",
    "print(a.mean(axis=1))\n",
    "a.mean()"
   ]
  },
  {
   "cell_type": "code",
   "execution_count": null,
   "metadata": {
    "id": "TToRKGL21mGH"
   },
   "outputs": [],
   "source": [
    "np.mean(a)"
   ]
  },
  {
   "cell_type": "markdown",
   "metadata": {
    "id": "I-CcWYy6gZmu"
   },
   "source": [
    "\n",
    "\n",
    "---\n",
    "\n",
    "\n",
    "**Логические операции над массивами**"
   ]
  },
  {
   "cell_type": "code",
   "execution_count": null,
   "metadata": {
    "id": "z3bn4sbfg29f"
   },
   "outputs": [],
   "source": [
    "a = np.array([1, 3, 0])\n",
    "b = np.array([0, 3, 2])\n",
    "\n",
    "print(a > b, type(a>b))"
   ]
  },
  {
   "cell_type": "code",
   "execution_count": null,
   "metadata": {
    "id": "XzxjJtORhJu4"
   },
   "outputs": [],
   "source": [
    "c = a > 2\n",
    "c"
   ]
  },
  {
   "cell_type": "code",
   "execution_count": null,
   "metadata": {
    "id": "Lsugeay6hR4P"
   },
   "outputs": [],
   "source": [
    "# проверяем, что хотя бы один элемент истинный\n",
    "print(any(c))\n",
    "# проверяем, что все элементы истинны\n",
    "print(all(c))"
   ]
  },
  {
   "cell_type": "markdown",
   "metadata": {
    "id": "sMnWDf0ehlKw"
   },
   "source": [
    "Если вы хотите провести сравнение логическим И или лолгическим ИЛИ, то необходимо воспользоваться специальными методами:\n",
    "\n",
    "\n",
    "```\n",
    "np.logical_and(_, _)\n",
    "np.logical_or(_, _)\n",
    "np.logical_not(_)\n",
    "```\n",
    "\n"
   ]
  },
  {
   "cell_type": "code",
   "execution_count": null,
   "metadata": {
    "id": "waHiE2F5huzL"
   },
   "outputs": [],
   "source": [
    "(a < 3) * (a > 0)"
   ]
  },
  {
   "cell_type": "code",
   "execution_count": null,
   "metadata": {
    "id": "osCxOg27hzeH"
   },
   "outputs": [],
   "source": [
    "np.logical_and(a > 0, a < 3)"
   ]
  },
  {
   "cell_type": "markdown",
   "metadata": {
    "id": "7cz4ZxqNiKwk"
   },
   "source": [
    "С помощью `np.where` можно создать массив на основе условий.\n",
    "Синтаксис:\n",
    "\n",
    "\n",
    "```\n",
    "where(boolarray, truearray, falsearray)\n",
    "```\n",
    "\n"
   ]
  },
  {
   "cell_type": "code",
   "execution_count": null,
   "metadata": {
    "id": "buVWH0XEOaGw"
   },
   "outputs": [],
   "source": [
    "a = np.array([1, 3, 0])\n",
    "a"
   ]
  },
  {
   "cell_type": "code",
   "execution_count": null,
   "metadata": {
    "id": "lNuVgYU_iTt2"
   },
   "outputs": [],
   "source": [
    "np.where(a != 0, 1 / a, a)"
   ]
  },
  {
   "cell_type": "markdown",
   "metadata": {
    "id": "iFFWAZjqjtm3"
   },
   "source": [
    "Можно проверять элементы массива на наличие NaN и бесконечностей."
   ]
  },
  {
   "cell_type": "code",
   "execution_count": null,
   "metadata": {
    "id": "1ue7ilLfixGs"
   },
   "outputs": [],
   "source": [
    "a = np.array([1, np.NaN, np.Inf], float)\n",
    "a"
   ]
  },
  {
   "cell_type": "code",
   "execution_count": null,
   "metadata": {
    "id": "f4m9oOQijaAA"
   },
   "outputs": [],
   "source": [
    "np.isnan(a)"
   ]
  },
  {
   "cell_type": "code",
   "execution_count": null,
   "metadata": {
    "id": "kzYOI003jdCT"
   },
   "outputs": [],
   "source": [
    "np.isfinite(a)"
   ]
  },
  {
   "cell_type": "markdown",
   "metadata": {
    "id": "8t6HiD0ckFk1"
   },
   "source": [
    "\n",
    "\n",
    "---\n",
    "\n",
    "\n",
    "**Выбор элементов массива по условию**\n",
    "\n",
    "Очень важной особенностью массивов является то, что элементы в них можно брать на основании других массивов. Это особенно полезно при реализации свёрточных нейронных сетей."
   ]
  },
  {
   "cell_type": "code",
   "execution_count": null,
   "metadata": {
    "id": "ydOgfU9Oj4Cx"
   },
   "outputs": [],
   "source": [
    "# это результат применения логической операции к многомерному массиву\n",
    "a = np.array([[6, 4], [5, 9]], float)\n",
    "a >= 6"
   ]
  },
  {
   "cell_type": "code",
   "execution_count": null,
   "metadata": {
    "id": "CP9XFc23ksri"
   },
   "outputs": [],
   "source": [
    "# а это результат фильтрации элементов\n",
    "# обратите внимание, получился одномерный массив, содержащий только элементы, удовлетворяющие условию\n",
    "a[a >= 6]"
   ]
  },
  {
   "cell_type": "code",
   "execution_count": null,
   "metadata": {
    "id": "SYnoVd85lNOi"
   },
   "outputs": [],
   "source": [
    "a[np.logical_and(a > 5, a < 9)]"
   ]
  },
  {
   "cell_type": "markdown",
   "metadata": {
    "id": "RE6p2vyRlPnn"
   },
   "source": [
    "Обратите внимание, что если передать целочисленные значения, в качестве условий, то результат будет другой. Будут выбраные соответствующие элементы."
   ]
  },
  {
   "cell_type": "code",
   "execution_count": null,
   "metadata": {
    "id": "EiQhJ-OmlaW7"
   },
   "outputs": [],
   "source": [
    "a = np.array([2, 4, 6, 8], float)\n",
    "b = np.array([0, 0, 1, 3, 2], int)\n",
    "a[b]"
   ]
  },
  {
   "cell_type": "code",
   "execution_count": null,
   "metadata": {
    "id": "9VzF3Achpgsw"
   },
   "outputs": [],
   "source": [
    "# Для выбора значений из многомерных массивов необходимо передать массивы, которые определяют индексы по каждому из направлений. Они должны быть, естественно, целочисленными.\n",
    "a = np.array([[1, 4], [9, 16]], float)\n",
    "b = np.array([0, 0, 1, 1, 0], int)\n",
    "c = np.array([0, 1, 1, 1, 1], int)\n",
    "a[b,c]"
   ]
  },
  {
   "cell_type": "markdown",
   "metadata": {
    "id": "tcAPABuYp8s0"
   },
   "source": [
    "\n",
    "\n",
    "---\n",
    "\n",
    "\n",
    "**Векторная и матричная математика с использованием numpy**\n",
    "\n",
    "Векторная математика в numpy - это главная причина того, что numpy стал ключевым модулем Python среди всех представленных модулей. Векторные вычисления позволяют значительно ускорить обработку численной информации.\n",
    "\n",
    "В дополнении к арифметически операциям мы рассмотрим некоторые векторные операции."
   ]
  },
  {
   "cell_type": "markdown",
   "metadata": {
    "id": "CmYD6oX1sU0Y"
   },
   "source": [
    "\n",
    "\n",
    "---\n",
    "\n",
    "\n",
    "**Скалярное произведение**\n",
    "\n",
    "Для двух векторов a и b одинаковой длины скалярное произведение считается по следующей формуле:\n",
    "\n",
    "$ a*b = \\sum_{i=0}^{len(a)}  a_i*b_i $"
   ]
  },
  {
   "cell_type": "code",
   "execution_count": null,
   "metadata": {
    "id": "DxYXBsMdrEih"
   },
   "outputs": [],
   "source": [
    "# скалярное произвдение векторов, также операция свёртки в свёрточных нейронных сетях\n",
    "\n",
    "a = np.array([1, 2, 3], float)\n",
    "b = np.array([0, 1, 1], float)\n",
    "np.dot(a, b)"
   ]
  },
  {
   "cell_type": "markdown",
   "metadata": {
    "id": "pTodEGiqrogd"
   },
   "source": [
    "\n",
    "\n",
    "---\n",
    "\n",
    "\n",
    "**Произведение матриц**\n",
    "\n",
    "О матричном произведении целесообразно говорить в рамках соответствующих разделов математики. Тем не менее, используя numpy легко получить матричное произведение."
   ]
  },
  {
   "cell_type": "code",
   "execution_count": null,
   "metadata": {
    "id": "U7Dk0saXse_3"
   },
   "outputs": [],
   "source": [
    "a = np.array([[0, 1], [2, 3]], float)\n",
    "b = np.array([2, 3], float)\n",
    "d = np.array([[1, 1, 1], [1, 1, 1], [1, 1, 1]], float)"
   ]
  },
  {
   "cell_type": "code",
   "execution_count": null,
   "metadata": {
    "id": "2bfSYAVWs_-7"
   },
   "outputs": [],
   "source": [
    "np.dot(b, a)"
   ]
  },
  {
   "cell_type": "code",
   "execution_count": null,
   "metadata": {
    "id": "yOxVqmgqtAjj"
   },
   "outputs": [],
   "source": [
    "np.dot(a, b)"
   ]
  },
  {
   "cell_type": "code",
   "execution_count": null,
   "metadata": {
    "id": "KdF8ZTYdtM6N"
   },
   "outputs": [],
   "source": [
    "# следите за размерностью, иначе ничего не получится\n",
    "np.dot(b, d)"
   ]
  },
  {
   "cell_type": "markdown",
   "metadata": {
    "id": "HE0b3-mVtj5L"
   },
   "source": [
    "\n",
    "\n",
    "---\n",
    "\n",
    "\n",
    "**Определитель матриц**\n",
    "\n",
    "Многие математические операции, связанные с линейной алгеброй реализованы в модуле linalg внутри numpy. Мы пока не будем углубляться в различные функциия модуля, рассмотрим для примера определитель."
   ]
  },
  {
   "cell_type": "code",
   "execution_count": null,
   "metadata": {
    "id": "_SeZ2fV6vaVV"
   },
   "outputs": [],
   "source": [
    "np.linalg.det(a)"
   ]
  },
  {
   "cell_type": "markdown",
   "metadata": {
    "id": "q3DIozYzv8Yi"
   },
   "source": [
    "\n",
    "---\n",
    "\n",
    "\n",
    "# 2. Продукционные модели\n",
    "\n",
    "\n",
    "---\n"
   ]
  },
  {
   "cell_type": "markdown",
   "metadata": {
    "id": "CCrJkZx1zK7z"
   },
   "source": [
    "**Знакомство с методологией построения продукционных систем**\n",
    "\n",
    "\n",
    "---\n",
    "\n"
   ]
  },
  {
   "cell_type": "markdown",
   "metadata": {
    "id": "SAIQsb6vv_J4"
   },
   "source": [
    "\n",
    "Продукционное правило или продукция – это оператор преобразования, представляющий собой выражение следующего вида:\n",
    "\n",
    "**<ситуации> → <заключение>.**\n",
    "\n",
    "Левая часть связана с распознаваемой ситуацией и содержит список признаков, которые должны быть выполнены, чтобы было выполнено заключение, содержащийся в правой части.\n",
    "\n",
    "Возможна и другая трактовка понятия продукции:\n",
    "\n",
    "**<ситуации> → <действие>.**\n",
    "\n",
    "Правая часть содержит здесь список действий, которые должны быть выполнены, если выполнен список признаков, описывающих ситуацию.\n",
    "\n",
    "*Продукционная система* – это машина, которая воспринимает совокупность известных фактов и строит новые заключения, работая в режиме распознавание – заключение (действие).\n",
    "\n",
    "Продукционная система состоит из трех основных компонентов. Первый из них – это набор правил, используемый как база знаний, иногда его еще называют *базой правил*. Второй компонент – это *база фактов* или *рабочая память* – память для временного хранения, в которой хранятся предпосылки, касающиеся конкретных задач предметной области, и результаты выводов, получаемые на их основании. Третий компонент реализует *механизм логического вывода*, обрабатывающий правила в соответствии с содержанием рабочей памяти; другое название этого компонента – машина логического вывода.\n"
   ]
  },
  {
   "cell_type": "markdown",
   "metadata": {
    "id": "yGQ7ePvIwSZp"
   },
   "source": [
    "![image.png](data:image/png;base64,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)"
   ]
  },
  {
   "cell_type": "markdown",
   "metadata": {
    "id": "WlC7GfgPwuLj"
   },
   "source": [
    "Вывод в продукционной системе основан на правиле *модус поненс*:\n",
    "* посылка\t$p$,\n",
    "* правило\t\t$p → q$,\n",
    "* заключение\t$q$.\n",
    "\n",
    "Рабочая память в начале работы продукционной системы содержит исходные данные для поставленной задачи и пополняется фактами, установленными в процессе работы системы. Правила продукций применяются к содержимому рабочей памяти. Как было указано выше, правило состоит из двух частей: условной и заключительной.\n",
    "\n",
    "Условная часть может состоять из одного или нескольких условий. Если условная часть правила удовлетворяет содержимому  рабочей памяти, то правило может быть применено, что приведет к изменению рабочей памяти. Машина логического вывода выполняет следующие действия:\n",
    "1.\tопределяет, какое именно правило следует выбрать;\n",
    "2.\tвыполняет выбранное правило и дополняет рабочую память;\n",
    "3.\tпрекращает вычисления, если выполнено одно из двух условий:\n",
    "> *\tвыполнено условие останова;\n",
    "> *\tневозможно применить ни одного правила из базы правил.\n",
    "\n",
    "Указанные выше действия положены в основу алгоритма работы системы продукций.\n",
    "Рассмотрим пример продукционной системы со следующим набором правил:\n",
    "\n",
    "$C \\wedge D→A \\qquad \\qquad B→A \\qquad \\qquad E→C \\qquad \\qquad F→C \\qquad \\qquad\tG \\wedge H→D \\qquad \\qquad\tJ \\wedge K \\wedge L→B$.\n",
    "\n",
    "В правилах из показанного примера ситуации описываются буквами, например, правило:\n",
    "\n",
    "$C \\wedge D→A$\n",
    "\n",
    "означает следующее:\n",
    "$ЕСЛИ$ наблюдается как ситуация $C$, так и ситуация $D$,\n",
    "$ТО$ имеет место ситуация $A$.\n",
    "Пусть в рабочей памяти имеются следующие факты: $J, K, E, G, H$. Тогда работу продукционной системы можно представить как последовательное применение правил и переписывание содержимого рабочей памяти:\n",
    "\n"
   ]
  },
  {
   "cell_type": "markdown",
   "metadata": {
    "id": "EhNinXO6upbj"
   },
   "source": [
    "![1.png](data:image/png;base64,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)"
   ]
  },
  {
   "cell_type": "markdown",
   "metadata": {
    "id": "KQ5dk-8vvhgw"
   },
   "source": [
    "Машина логического вывода сопоставляет образцы из условной части правил с образцами, хранимыми в рабочей памяти.  Если все образцы присутствуют в рабочей памяти, тогда правило выполняется, в противном случае – отклоняется. Будем предполагать также, что из всех возможных кандидатов выполняется первое (самое верхнее) правило. После применения правило выбывает из числа кандидатов (выгорает) и его вторичное применение не возможно. В нашем случае сначала будет применено правило $E→C$, а рабочая память дополнится фактом $C$, затем сработает правило $G \\wedge H→D$, в рабочую память будет помещен факт $D$, и, наконец, после применения правила $C \\wedge D→A$, рабочая память пополнится фактом $A$. После чего система остановится, так как правил для выполнения больше не будет.\n",
    "\n",
    "Такой способ получения новых фактов называется прямым выводом или выводом от данных к цели потому, что поиск новых сведений здесь происходит в направлении стрелки, разделяющей левые и правые части правил. Вывод в нашем случае проведен в три этапа. Цепочка логического вывода, порождаемая в приведенном примере, может быть представлена в виде И/ИЛИ дерева.\n"
   ]
  },
  {
   "cell_type": "markdown",
   "metadata": {
    "id": "TDytBC8HvuT9"
   },
   "source": [
    "![2.png](data:image/png;base64,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)"
   ]
  },
  {
   "cell_type": "markdown",
   "metadata": {
    "id": "pm0GC8egwTAc"
   },
   "source": [
    "В дерево И/ИЛИ входят связки двух типов. Ребра, формирующие связку типа И, помечены дугой, связка типа ИЛИ такой дуги не имеет. Терминальные вершины (исходные факты) обозначены двойной окружностью."
   ]
  },
  {
   "cell_type": "code",
   "execution_count": null,
   "metadata": {
    "id": "VXkKaVye-uTo"
   },
   "outputs": [],
   "source": [
    "# пример реализации прямого вывода для представленного выше примера\n",
    "\n",
    "import numpy as np\n",
    "\n",
    "class Rule(object):\n",
    "    def __init__(self, condition, conclusion):\n",
    "      self.condition = condition\n",
    "      self.conclusion = conclusion\n",
    "\n",
    "    def execute(self, facts):\n",
    "      return (np.all(np.isin(self.condition, facts)))\n",
    "\n",
    "class ProductionSystem(object):\n",
    "    def __init__(self):\n",
    "        print('Инициализирована продукционная система')\n",
    "        self.rules = []\n",
    "        self.facts = []\n",
    "\n",
    "    # добавление правил\n",
    "    def add_rule(self, condition, conclusion):\n",
    "        rule = Rule(condition, conclusion)\n",
    "        self.rules.append(rule)\n",
    "        print('В продукционную систему добавлено правило:', ' & '.join(rule.condition), '-> ' + rule.conclusion)\n",
    "\n",
    "    # процедура проверки достижимости факта с помощью прямого вывода\n",
    "    def execute(self, fact):\n",
    "        self.forward_update()\n",
    "        if fact not in self.facts:\n",
    "          print('Проверка достижимости факта:', fact, 'не пройдена')\n",
    "        else:\n",
    "          print('Проверка достижимости факта:', fact, 'пройдена')\n",
    "\n",
    "    # процедура прямого вывода\n",
    "    def forward_update(self):\n",
    "        print('Выполняется процедура прямого вывода продукционной системы')\n",
    "        stopping_criterion = False\n",
    "        print('База фактов:', self.facts)\n",
    "        while not stopping_criterion:\n",
    "          stopping_criterion = True\n",
    "          for rule in self.rules:\n",
    "            if (rule.execute(self.facts) & (rule.conclusion not in self.facts)):\n",
    "              self.facts.append(rule.conclusion)\n",
    "              print('Выполняется правило:', ' & '.join(rule.condition), '-> ' + rule.conclusion)\n",
    "              print('Обновленная база фактов:', self.facts)\n",
    "              stopping_criterion = False\n",
    "        print('Окончание процедуры вывода')\n",
    "\n",
    "# инициализация продукционной системы\n",
    "example1 = ProductionSystem()\n",
    "# добавляем правила\n",
    "example1.add_rule(['C', 'D'], 'A')\n",
    "example1.add_rule(['B'], 'A')\n",
    "example1.add_rule(['E'], 'C')\n",
    "example1.add_rule(['F'], 'C')\n",
    "example1.add_rule(['G', 'H'], 'D')\n",
    "example1.add_rule(['J', 'K', 'L'], 'B')\n",
    "# добавляем факты в базу\n",
    "example1.facts = ['J', 'K', 'E', 'G', 'H']\n",
    "# выполняем процедуру прямого вывода\n",
    "example1.forward_update()"
   ]
  },
  {
   "cell_type": "markdown",
   "metadata": {
    "id": "H8jgqn0kwVhs"
   },
   "source": [
    "Предположим, что наша продукционная система использовалась с целью определения того, возможно ли получение факта A из фактов $J, K, E, G, H$.  Тогда можно считать, что система отработала успешно, так как позволила установить факт $A$, не сделав лишней работы. Однако если базу правил дополнить еще двумя правилами $E \\wedge J→M$ и $G→M$, и в качестве исходных данных оставить $J, K, E, G, H$, то в зависимости от последовательности применения правил общий останов случится через три этапа или через пять. Здесь могут отработать еще и два вновь введенных правила, которые отдалят получение целевого факта $A$."
   ]
  },
  {
   "cell_type": "markdown",
   "metadata": {
    "id": "Lgepebvtwj5A"
   },
   "source": [
    "![3.png](data:image/png;base64,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)"
   ]
  },
  {
   "cell_type": "code",
   "execution_count": null,
   "metadata": {
    "id": "zJ9RrfUU_RU4"
   },
   "outputs": [],
   "source": [
    "# инициализация продукционной системы\n",
    "example2 = ProductionSystem()\n",
    "# добавляем правила\n",
    "example2.add_rule(['C', 'D'], 'A')\n",
    "example2.add_rule(['B'], 'A')\n",
    "example2.add_rule(['E'], 'C')\n",
    "example2.add_rule(['F'], 'C')\n",
    "example2.add_rule(['G', 'H'], 'D')\n",
    "example2.add_rule(['J', 'K', 'L'], 'B')\n",
    "# добавляем новые правила\n",
    "example2.add_rule(['E', 'J'], 'M')\n",
    "example2.add_rule(['G'], 'M')\n",
    "# добавляем факты в базу\n",
    "example2.facts = ['J', 'K', 'E', 'G', 'H']\n",
    "# выполняем процедуру прямого вывода\n",
    "example2.execute('A')"
   ]
  },
  {
   "cell_type": "markdown",
   "metadata": {
    "id": "VE1NktCjwoR4"
   },
   "source": [
    "Увеличение числа шагов логического вывода произошло за счет вывода новых фактов, хотя и справедливых, но никак не связанных с получением целевого факта $A$. Поэтому если речь идет о выводе единственного конкретного факта, то в этом случае прямой вывод может оказаться неэффективным.  В такой ситуации с точки зрения затрат более целесообразным может оказаться использование процедуры обратного вывода. При использовании такого способа вывода система начинает работу с формулировки того, что требуется доказать, например, предполагая, что ситуация $A$ присутствует, и выполняет только те правила, которые имеют отношение к доказательству предположения. Ниже показано, каким образом работает процедура обратного вывода при использовании правил из предыдущего примера. Процедура работает по принципу «слева и вглубь»."
   ]
  },
  {
   "cell_type": "markdown",
   "metadata": {
    "id": "Ej5hpUSkwtEb"
   },
   "source": [
    "**Шаг 1.**  В систему поступает указание о необходимости вывода A. Сначала осуществляется проверка наличия $A$ в базе фактов и после отрицательного ответа поиск правил, заканчивающихся на $A$, то есть имеющих $A$ справа от стрелки. Система находит два правила $C \\wedge D→A$, $B→A$ и принимает решение о том, что для подтверждения $A$ необходимо установить наличие или $C$ и $D$, или $B$.\n",
    "\n",
    "**Шаг 2.**  Система пытается установить $C$ в результате проверки сначала базы фактов и последующего обнаружения правил, приводящих к $C$. Обнаружено два таких правила $E→C$ и $F→C$. Система приходит к решению о том, что для получения вывода о присутствии $C$ ей необходимо установить наличие или $E$, или $F$.\n",
    "\n",
    "**Шаг 3.**  Система обнаруживает $E$ в базе фактов, подтвердив возможность вывода $C$.\n",
    "\n",
    "**Шаг 4.**  Система пытается установить $D$ сначала в базе фактов, потом в результате поиска правил, приводящих к $D$. Обнаружено одно такое правило $G \\wedge H→D$. Система приходит к решению о том, что для получения вывода о присутствии $D$ ей необходимо установить наличие $G$ и $H$.\n",
    "\n",
    "**Шаг 5.**  Система обнаруживает $G$ и $H$ в базе фактов, подтвердив возможность вывода $D$.\n",
    "\n",
    "**Шаг 6.**  Система выполняет правило $E→C$ и устанавливает факт $C$.\n",
    "\n",
    "**Шаг 7.**  Система выполняет правило $G \\wedge H→D$ и устанавливает факт $D$.\n",
    "\n",
    "**Шаг 8.**  Система выполняет правило $C \\wedge D→A$ и устанавливает факт $A$.\n",
    "\n"
   ]
  },
  {
   "cell_type": "markdown",
   "metadata": {
    "id": "4U-HxI6wxiQ5"
   },
   "source": [
    "\n",
    "\n",
    "Цепочка обратного логического вывода, порождаемая в приведенном примере, может быть представлена в виде И/ИЛИ дерева."
   ]
  },
  {
   "cell_type": "markdown",
   "metadata": {
    "id": "9nyEj-Vdxo9X"
   },
   "source": [
    "![4.png](data:image/png;base64,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)"
   ]
  },
  {
   "cell_type": "code",
   "execution_count": 10,
   "metadata": {
    "id": "rUZLJwxqBo38"
   },
   "outputs": [
    {
     "name": "stdout",
     "output_type": "stream",
     "text": [
      "Инициализирована продукционная система\n",
      "В продукционную систему добавлено правило: C & D -> A\n",
      "В продукционную систему добавлено правило: B -> A\n",
      "В продукционную систему добавлено правило: E -> C\n",
      "В продукционную систему добавлено правило: F -> C\n",
      "В продукционную систему добавлено правило: G & H -> D\n",
      "В продукционную систему добавлено правило: J & K & L -> B\n",
      "В продукционную систему добавлено правило: E & J -> M\n",
      "В продукционную систему добавлено правило: G -> M\n",
      "Проверка достижимости факта A\n",
      "Проверка правила: C & D -> A на наличие факта A в выводе правила\n",
      "Факт A найден в выводе правила: C & D -> A\n",
      "Проверка достижимости фактов в условии правила: C & D -> A\n",
      "Проверка достижимости факта: C для правила: C & D -> A\n",
      "Проверка правила: C & D -> A на наличие факта C в выводе правила\n",
      "Проверка правила: B -> A на наличие факта C в выводе правила\n",
      "Проверка правила: E -> C на наличие факта C в выводе правила\n",
      "Факт C найден в выводе правила: E -> C\n",
      "Проверка достижимости фактов в условии правила: E -> C\n",
      "Проверка достижимости факта: E для правила: E -> C\n",
      "Факт E  найден в базе фактов: ['J', 'K', 'E']\n",
      "Факт C  достижим для правила: E -> C\n",
      "Проверка достижимости факта: D для правила: C & D -> A\n",
      "Проверка правила: C & D -> A на наличие факта D в выводе правила\n",
      "Проверка правила: B -> A на наличие факта D в выводе правила\n",
      "Проверка правила: E -> C на наличие факта D в выводе правила\n",
      "Проверка правила: F -> C на наличие факта D в выводе правила\n",
      "Проверка правила: G & H -> D на наличие факта D в выводе правила\n",
      "Факт D найден в выводе правила: G & H -> D\n",
      "Проверка достижимости фактов в условии правила: G & H -> D\n",
      "Проверка достижимости факта: G для правила: G & H -> D\n",
      "Проверка правила: C & D -> A на наличие факта G в выводе правила\n",
      "Проверка правила: B -> A на наличие факта G в выводе правила\n",
      "Проверка правила: E -> C на наличие факта G в выводе правила\n",
      "Проверка правила: F -> C на наличие факта G в выводе правила\n",
      "Проверка правила: G & H -> D на наличие факта G в выводе правила\n",
      "Проверка правила: J & K & L -> B на наличие факта G в выводе правила\n",
      "Проверка правила: E & J -> M на наличие факта G в выводе правила\n",
      "Проверка правила: G -> M на наличие факта G в выводе правила\n",
      "Проверка достижимости факта: H для правила: G & H -> D\n",
      "Проверка правила: C & D -> A на наличие факта H в выводе правила\n",
      "Проверка правила: B -> A на наличие факта H в выводе правила\n",
      "Проверка правила: E -> C на наличие факта H в выводе правила\n",
      "Проверка правила: F -> C на наличие факта H в выводе правила\n",
      "Проверка правила: G & H -> D на наличие факта H в выводе правила\n",
      "Проверка правила: J & K & L -> B на наличие факта H в выводе правила\n",
      "Проверка правила: E & J -> M на наличие факта H в выводе правила\n",
      "Проверка правила: G -> M на наличие факта H в выводе правила\n",
      "Факт D не достижим для правила: G & H -> D\n",
      "Проверка правила: J & K & L -> B на наличие факта D в выводе правила\n",
      "Проверка правила: E & J -> M на наличие факта D в выводе правила\n",
      "Проверка правила: G -> M на наличие факта D в выводе правила\n",
      "Факт A не достижим для правила: C & D -> A\n",
      "Проверка правила: B -> A на наличие факта A в выводе правила\n",
      "Факт A найден в выводе правила: B -> A\n",
      "Проверка достижимости фактов в условии правила: B -> A\n",
      "Проверка достижимости факта: B для правила: B -> A\n",
      "Проверка правила: C & D -> A на наличие факта B в выводе правила\n",
      "Проверка правила: B -> A на наличие факта B в выводе правила\n",
      "Проверка правила: E -> C на наличие факта B в выводе правила\n",
      "Проверка правила: F -> C на наличие факта B в выводе правила\n",
      "Проверка правила: G & H -> D на наличие факта B в выводе правила\n",
      "Проверка правила: J & K & L -> B на наличие факта B в выводе правила\n",
      "Факт B найден в выводе правила: J & K & L -> B\n",
      "Проверка достижимости фактов в условии правила: J & K & L -> B\n",
      "Проверка достижимости факта: J для правила: J & K & L -> B\n",
      "Факт J  найден в базе фактов: ['J', 'K', 'E']\n",
      "Проверка достижимости факта: K для правила: J & K & L -> B\n",
      "Факт K  найден в базе фактов: ['J', 'K', 'E']\n",
      "Проверка достижимости факта: L для правила: J & K & L -> B\n",
      "Проверка правила: C & D -> A на наличие факта L в выводе правила\n",
      "Проверка правила: B -> A на наличие факта L в выводе правила\n",
      "Проверка правила: E -> C на наличие факта L в выводе правила\n",
      "Проверка правила: F -> C на наличие факта L в выводе правила\n",
      "Проверка правила: G & H -> D на наличие факта L в выводе правила\n",
      "Проверка правила: J & K & L -> B на наличие факта L в выводе правила\n",
      "Проверка правила: E & J -> M на наличие факта L в выводе правила\n",
      "Проверка правила: G -> M на наличие факта L в выводе правила\n",
      "Факт B не достижим для правила: J & K & L -> B\n",
      "Проверка правила: E & J -> M на наличие факта B в выводе правила\n",
      "Проверка правила: G -> M на наличие факта B в выводе правила\n",
      "Факт A не достижим для правила: B -> A\n",
      "Проверка правила: E -> C на наличие факта A в выводе правила\n",
      "Проверка правила: F -> C на наличие факта A в выводе правила\n",
      "Проверка правила: G & H -> D на наличие факта A в выводе правила\n",
      "Проверка правила: J & K & L -> B на наличие факта A в выводе правила\n",
      "Проверка правила: E & J -> M на наличие факта A в выводе правила\n",
      "Проверка правила: G -> M на наличие факта A в выводе правила\n",
      "Проверка достижимости факта A не пройдена\n"
     ]
    }
   ],
   "source": [
    "# пример реализации обратного вывода для представленного выше примера\n",
    "\n",
    "import numpy as np\n",
    "\n",
    "class Rule(object):\n",
    "    def __init__(self, condition, conclusion):\n",
    "      self.condition = condition\n",
    "      self.conclusion = conclusion\n",
    "\n",
    "    def execute(self, facts):\n",
    "      return (np.all(np.isin(self.condition, facts)))\n",
    "\n",
    "class ProductionSystem(object):\n",
    "    def __init__(self):\n",
    "        print('Инициализирована продукционная система')\n",
    "        self.rules = []\n",
    "        self.facts = []\n",
    "\n",
    "    # добавление правил\n",
    "    def add_rule(self, condition, conclusion):\n",
    "        rule = Rule(condition, conclusion)\n",
    "        self.rules.append(rule)\n",
    "        print('В продукционную систему добавлено правило:', ' & '.join(rule.condition), '-> ' + rule.conclusion)\n",
    "\n",
    "    # процедура проверки достижимости факта с помощью прямого вывода\n",
    "    def execute(self, fact):\n",
    "        self.forward_update()\n",
    "        if fact not in self.facts:\n",
    "          print('Проверка достижимости факта:', fact, 'не пройдена')\n",
    "        else:\n",
    "          print('Проверка достижимости факта:', fact, 'пройдена')\n",
    "\n",
    "\n",
    "    # процедура прямого вывода\n",
    "    def forward_update(self):\n",
    "        print('Выполняется процедура прямого вывода продукционной системы')\n",
    "        stopping_criterion = False\n",
    "        print('База фактов:', self.facts)\n",
    "        while not stopping_criterion:\n",
    "          stopping_criterion = True\n",
    "          for rule in self.rules:\n",
    "            if (rule.execute(self.facts) & (rule.conclusion not in self.facts)):\n",
    "              self.facts.append(rule.conclusion)\n",
    "              print('Выполняется правило:', ' & '.join(rule.condition), '-> ' + rule.conclusion)\n",
    "              print('Обновленная база фактов:', self.facts)\n",
    "              stopping_criterion = False\n",
    "        print('Окончание процедуры вывода')\n",
    "\n",
    "    # процедура обратного вывода\n",
    "    def rule_inner_check(self, fact, exclude=[]):\n",
    "      if (fact in self.facts):\n",
    "        print('Факт', fact, ' найден в базе фактов:', self.facts)\n",
    "        return True\n",
    "      for rule in self.rules:\n",
    "        print('Проверка правила:', ' & '.join(rule.condition), '-> ' + rule.conclusion, 'на наличие факта', fact, 'в выводе правила')\n",
    "        if fact == rule.conclusion:\n",
    "          print('Факт', fact, 'найден в выводе правила:', ' & '.join(rule.condition), '-> ' + rule.conclusion)\n",
    "          print('Проверка достижимости фактов в условии правила:', ' & '.join(rule.condition), '-> ' + rule.conclusion)\n",
    "          result = []\n",
    "          for fact_inner in rule.condition:\n",
    "            if (fact_inner not in exclude):\n",
    "              print('Проверка достижимости факта:', fact_inner, 'для правила:', ' & '.join(rule.condition), '-> ' + rule.conclusion)\n",
    "              exclude_inner = exclude.copy()\n",
    "              exclude_inner.append(fact_inner)\n",
    "              result.append(self.rule_inner_check(fact_inner, exclude=exclude_inner))\n",
    "            else:\n",
    "              result.append(False)\n",
    "              break\n",
    "          result = np.all(result)\n",
    "          if (result):\n",
    "            print('Факт', fact, ' достижим для правила:', ' & '.join(rule.condition), '-> ' + rule.conclusion)\n",
    "            return True\n",
    "          else:\n",
    "            print('Факт', fact, 'не достижим для правила:', ' & '.join(rule.condition), '-> ' + rule.conclusion)\n",
    "      return False\n",
    "\n",
    "    # процедура проверки достижимости факта с помощью обратного вывода\n",
    "    def reverse_execute(self, fact):\n",
    "      result = False\n",
    "      print('Проверка достижимости факта', fact)\n",
    "      if (fact in self.facts):\n",
    "        print('Факт', fact, ' найден в базе фактов:', self.facts)\n",
    "        result = True\n",
    "      else:\n",
    "        result = self.rule_inner_check(fact, exclude=[fact])\n",
    "      if (result == False):\n",
    "        print('Проверка достижимости факта', fact, 'не пройдена')\n",
    "      else:\n",
    "        print('Проверка достижимости факта', fact, 'пройдена')\n",
    "\n",
    "# инициализация продукционной системы\n",
    "example3 = ProductionSystem()\n",
    "# добавляем правила\n",
    "example3.add_rule(['C', 'D'], 'A')\n",
    "example3.add_rule(['B'], 'A')\n",
    "example3.add_rule(['E'], 'C')\n",
    "example3.add_rule(['F'], 'C')\n",
    "example3.add_rule(['G', 'H'], 'D')\n",
    "example3.add_rule(['J', 'K', 'L'], 'B')\n",
    "# добавляем новые правила\n",
    "example3.add_rule(['E', 'J'], 'M')\n",
    "example3.add_rule(['G'], 'M')\n",
    "# добавляем факты в базу\n",
    "example3.facts = ['J', 'K', 'E']\n",
    "# выполняем процедуру обратного вывода\n",
    "example3.reverse_execute('A')"
   ]
  },
  {
   "cell_type": "markdown",
   "metadata": {
    "id": "Yds8YGT8xwwS"
   },
   "source": [
    "Различие двух подходов связано со способом, с помощью которого осуществляется поиск фактов и правил. Два позже введенных правила $E \\wedge J→M$ и $G→M$ в обратном выводе не участвуют, однако здесь, также как и при прямом выводе, возникает проблема выбора. На шаге 1 необходимо определить какое правило сначала подтверждать - $C \\wedge D→A$ или $B→A$, а на шаге 2 необходимо выбрать между $E→C$ или $F→C$.\n",
    "\n",
    "Если на каждом этапе логического вывода существует множество применяемых правил, то это множество носит название **конфликтного набора**, а выбор одного из них называется **разрешением конфликта**.\n",
    "\n",
    "Конфликтные наборы при прямом выводе с включенными в базу двумя правилами имеют вид:\n",
    "\n",
    "на первом уровне $\\{E \\wedge J→M, G→M, E→C, G \\wedge H→D\\}$;\n",
    "\n",
    "на втором уровне $\\{C \\wedge D→A\\}$ – конфликта нет.\n",
    "\n",
    "Конфликтные наборы при обратном выводе с включенными в базу двумя правилами имеют вид:\n",
    "\n",
    "на первом уровне $\\{C \\wedge D→A, B→A\\}$;\n",
    "\n",
    "на втором уровне $\\{E→C, F→C\\}$.\n",
    "\n",
    "Чтобы повысить эффективность продукционной системы, необходимо решить проблему управления последовательностью применения правил или управления выводом."
   ]
  },
  {
   "cell_type": "markdown",
   "metadata": {
    "id": "mMlW5GslycpM"
   },
   "source": [
    "В продукционных системах есть **этап формирования конфликтного набора**, и есть **этап разрешения конфликта**.\n",
    "\n",
    "В конфликтный набор включаются правила, которые могут быть выполнены на текущем уровне.\n",
    "\n",
    "При прямом выводе (от данных к цели) в нашем примере в базе фактов присутствуют $J, K, E, G, H$. Этих фактов достаточно для выполнения правил $E \\wedge J→M$, $G→M$, $E→C$, $G \\wedge H→D$. Из них и сформирован конфликтный набор.\n",
    "\n",
    "При обратном выводе (от цели к данным) на первом этапе необходимо рассмотреть правила, правая часть которых содержит цель А. Таких правил два: $C \\wedge D→A, B→A$. Это и есть конфликтный набор на первом уровне. На втором уровне необходимо подтвердить цель С. Таких правил два: $E→C, F→C$. Это  конфликтный набор на втором уровне.\n"
   ]
  },
  {
   "cell_type": "markdown",
   "metadata": {
    "id": "wyl-GL9tzNAr"
   },
   "source": [
    "---\n",
    "\n",
    "**Пример представления и решения задачи из планиметрии треугольника**\n",
    "\n",
    "\n",
    "---\n"
   ]
  },
  {
   "cell_type": "markdown",
   "metadata": {
    "id": "H1p9PkEwzVtQ"
   },
   "source": [
    "Пусть необходимо решать задачи из планиметрии треугольника, вычисляя одни параметры через другие."
   ]
  },
  {
   "cell_type": "markdown",
   "metadata": {
    "id": "lQKrtNhKzgod"
   },
   "source": [
    "![5.png](data:image/png;base64,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)"
   ]
  },
  {
   "cell_type": "markdown",
   "metadata": {
    "id": "Fc7fd_tszn1S"
   },
   "source": [
    " Причём исходными данными являются не формулы, а заранее заданные математические отношения ($\\mathrm{R}_i$), поскольку до формулировки задачи не известно, что является исходными данными  и что должно быть результатом."
   ]
  },
  {
   "cell_type": "markdown",
   "metadata": {
    "id": "N3m446f70kVR"
   },
   "source": [
    "\\begin{array}{|c|c|}\n",
    "\\hline & Математические \\; отношения \\\\ \\hline\n",
    "\\mathrm{R}_1 & \\alpha + \\beta + \\gamma - \\pi = 0 \\\\ \\hline\n",
    "\\mathrm{R}_2 & (a / \\sin \\alpha) - (b / \\sin \\beta) \\\\ \\hline\n",
    "\\mathrm{R}_3 & h_c - b \\cdot (\\sin \\alpha) = 0 \\\\ \\hline\n",
    "\\mathrm{R}_4 & c \\cdot (\\sin \\gamma) - b \\cdot (\\sin \\beta) = 0 \\\\ \\hline\n",
    "\\mathrm{R}_5 & a + b + c - p = 0 \\\\ \\hline\n",
    "\\mathrm{R}_6 & (c \\cdot h_c) / 2 - S = 0 \\\\ \\hline\n",
    "\\mathrm{R}_7 & \\sqrt{\\frac{p}{2}\\cdot(\\frac{p}{2}-a)\\cdot(\\frac{p}{2}-b)\\cdot(\\frac{p}{2}-c)} - S = 0 \\\\ \\hline\n",
    "\\end{array}"
   ]
  },
  {
   "cell_type": "markdown",
   "metadata": {
    "id": "4JvM3oOc3Xm_"
   },
   "source": [
    "\n",
    "После того как задача сформулирована, необходимо определить, достаточно ли исходных данных для её решения и не противоречивы ли эти исходные данные. Соответственно, задача решается в два этапа, на первом проверяется собственно возможность решения, на втором этапе из математических отношений строятся формулы и на основе этих формул вычисляются искомые параметры треугольника.\n",
    "\n",
    "\n",
    "Сформулируем модель предметной области – планиметрия треугольника – на основе продукционных правил."
   ]
  },
  {
   "cell_type": "markdown",
   "metadata": {
    "id": "MKoH01YA3dI4"
   },
   "source": [
    "$\\quad\\quad\\quad\\quad$ **База продукционных правил**\n",
    "\\begin{array}{|c|c|}\n",
    "\\hline\n",
    "\\mathrm{R}_1 & \\alpha \\wedge \\beta → \\gamma & \\alpha \\wedge \\gamma → \\beta & \\gamma \\wedge \\beta → \\alpha & \\; & \\; \\\\ \\hline\n",
    "\\mathrm{R}_2 & \\alpha \\wedge \\beta \\wedge a → b & \\alpha \\wedge \\beta \\wedge b → a & b \\wedge \\alpha \\wedge a → \\beta & b \\wedge \\beta \\wedge a → \\alpha \\\\ \\hline\n",
    "\\mathrm{R}_3 & b \\wedge h_c → \\alpha & b \\wedge \\alpha → h_c & h_c \\wedge \\alpha → b & \\; & \\; \\\\ \\hline\n",
    "\\mathrm{R}_4 & \\gamma \\wedge \\beta \\wedge c → b & \\gamma \\wedge \\beta \\wedge b → c & b \\wedge \\gamma \\wedge c → \\beta & b \\wedge \\beta \\wedge c → \\gamma & \\;   \\\\ \\hline\n",
    "\\mathrm{R}_5 & a \\wedge b \\wedge c → p & p \\wedge b \\wedge c → a & a \\wedge p \\wedge c → b & a \\wedge b \\wedge p → c \\\\ \\hline\n",
    "\\mathrm{R}_6 & c \\wedge h_c → S & c \\wedge S → h_c & h_c \\wedge S → c  \\\\ \\hline\n",
    "\\mathrm{R}_7 & p \\wedge S \\wedge a \\wedge b → c & c \\wedge S \\wedge a \\wedge b → p & p \\wedge c \\wedge a \\wedge b → S & p \\wedge S \\wedge c \\wedge b → a & p \\wedge S \\wedge a \\wedge c → b \\\\ \\hline\n",
    "\\end{array}"
   ]
  },
  {
   "cell_type": "markdown",
   "metadata": {
    "id": "pDmiS0Y28cP9"
   },
   "source": [
    "Пусть пользователю необходимо решить задачу:\n",
    "\n",
    "«*Найти площадь треугольника* $S$ *по* **известной** *стороне* $c$ *и* **известным** *прилегающим углам* $\\alpha$ и $\\beta$».\n",
    "\n",
    "В начале работы база фактов содержит $c, \\alpha, \\beta$. Обход базы правил выполняется построчно сверху вниз. Будем использовать прямой вывод и стратегию «первый найден – первый выполнен», причём математические отношение ($\\mathrm{R}_i$) участвует в выводе только один раз.\n",
    "\n",
    "**Шаг 1.** Выполняется правило $\\alpha \\wedge \\beta → \\gamma$, база фактов пополнится фактом $\\gamma$.\n",
    "\n",
    "**Шаг 2.**  Выполняется правило $\\gamma \\wedge \\beta \\wedge c → b$, в базу фактов запишется факт $b$.\n",
    "\n",
    "**Шаг 3.**  Выполняется правило $b \\wedge \\alpha → h_c$, база фактов пополнится фактом $h_c$.\n",
    "\n",
    "**Шаг 4.** Выполняется правило $\\alpha \\wedge \\beta \\wedge b → a$, в базу фактов запишется факт $a$.\n",
    "\n",
    "**Шаг 5.** Выполняется правило $c \\wedge h_c → S$, база фактов пополнится фактом $S$.\n",
    "\n",
    "Можно провести несложный анализ выполнения правил и прийти к заключению, что четвертый шаг является лишним с точки зрения получения конечного результата. Исключить этот шаг из дальнейших вычислений можно разными способами, в том числе и с использованием уже известного обратного вывода в продукционной системе.\n",
    "\n",
    "Ниже приведена программная реализация прямого вывода проверки возможности вычисления S по заданному условию:\n"
   ]
  },
  {
   "cell_type": "code",
   "execution_count": 2,
   "metadata": {
    "ExecuteTime": {
     "end_time": "2024-03-25T02:26:02.070451Z",
     "start_time": "2024-03-25T02:26:02.050397Z"
    },
    "id": "Vbyo44_GxXVy"
   },
   "outputs": [
    {
     "ename": "NameError",
     "evalue": "name 'ProductionSystem' is not defined",
     "output_type": "error",
     "traceback": [
      "\u001b[0;31m---------------------------------------------------------------------------\u001b[0m",
      "\u001b[0;31mNameError\u001b[0m                                 Traceback (most recent call last)",
      "Cell \u001b[0;32mIn[2], line 1\u001b[0m\n\u001b[0;32m----> 1\u001b[0m example4 \u001b[38;5;241m=\u001b[39m \u001b[43mProductionSystem\u001b[49m()\n\u001b[1;32m      3\u001b[0m \u001b[38;5;66;03m# R1\u001b[39;00m\n\u001b[1;32m      4\u001b[0m example4\u001b[38;5;241m.\u001b[39madd_rule([\u001b[38;5;124m'\u001b[39m\u001b[38;5;124malpha\u001b[39m\u001b[38;5;124m'\u001b[39m, \u001b[38;5;124m'\u001b[39m\u001b[38;5;124mbeta\u001b[39m\u001b[38;5;124m'\u001b[39m], \u001b[38;5;124m'\u001b[39m\u001b[38;5;124mgamma\u001b[39m\u001b[38;5;124m'\u001b[39m)\n",
      "\u001b[0;31mNameError\u001b[0m: name 'ProductionSystem' is not defined"
     ]
    }
   ],
   "source": [
    "example4 = ProductionSystem()\n",
    "\n",
    "# R1\n",
    "example4.add_rule(['alpha', 'beta'], 'gamma')\n",
    "example4.add_rule(['alpha', 'gamma'], 'beta')\n",
    "example4.add_rule(['beta', 'gamma'], 'alpha')\n",
    "\n",
    "# R2\n",
    "example4.add_rule(['alpha', 'beta', 'a'], 'b')\n",
    "example4.add_rule(['alpha', 'beta', 'b'], 'a')\n",
    "example4.add_rule(['b', 'alpha', 'a'], 'beta')\n",
    "example4.add_rule(['b', 'beta', 'a'], 'alpha')\n",
    "\n",
    "# R3\n",
    "example4.add_rule(['b', 'h_c'], 'alpha')\n",
    "example4.add_rule(['b', 'alpha'], 'h_c')\n",
    "example4.add_rule(['h_c', 'alpha'], 'alpha')\n",
    "\n",
    "# R4\n",
    "example4.add_rule(['gamma', 'beta', 'c'], 'b')\n",
    "example4.add_rule(['gamma', 'beta', 'b'], 'c')\n",
    "example4.add_rule(['b', 'gamma', 'c'], 'beta')\n",
    "example4.add_rule(['b', 'beta', 'c'], 'gamma')\n",
    "\n",
    "# R5\n",
    "example4.add_rule(['a', 'b', 'c'], 'p')\n",
    "example4.add_rule(['p', 'b', 'c'], 'a')\n",
    "example4.add_rule(['a', 'p', 'c'], 'b')\n",
    "example4.add_rule(['a', 'b', 'p'], 'c')\n",
    "\n",
    "# R6\n",
    "example4.add_rule(['c', 'h_c'], 'S')\n",
    "example4.add_rule(['c', 'S'], 'h_c')\n",
    "example4.add_rule(['h_c', 'S'], 'c')\n",
    "\n",
    "# R7\n",
    "example4.add_rule(['p', 'S', 'a', 'b'], 'c')\n",
    "example4.add_rule(['c', 'S', 'a', 'b'], 'p')\n",
    "example4.add_rule(['p', 'c', 'a', 'b'], 'S')\n",
    "example4.add_rule(['p', 'S', 'c', 'b'], 'a')\n",
    "example4.add_rule(['p', 'S', 'a', 'c'], 'b')\n",
    "\n",
    "example4.facts = ['c', 'alpha', 'beta']\n",
    "example4.execute('S')"
   ]
  },
  {
   "cell_type": "markdown",
   "metadata": {
    "id": "xrfKCU0ahHll"
   },
   "source": [
    "Ниже приведена проверки возможности вычисления S по заданному условию c помощью обратного вывода:"
   ]
  },
  {
   "cell_type": "code",
   "execution_count": null,
   "metadata": {
    "id": "tRL7-aqiTjQo"
   },
   "outputs": [],
   "source": [
    "example4.facts = ['c', 'alpha', 'beta']\n",
    "example4.reverse_execute('S')"
   ]
  },
  {
   "cell_type": "markdown",
   "metadata": {
    "id": "oGElLbCXg0-D"
   },
   "source": [
    "\n",
    "Первый этап выполнен, подтверждена возможность решения поставленной задачи.\n",
    "\n",
    "Далее возможность необходимо превратить в конкретный результат. Для этого все математические отношения должны иметь разрешения относительно всех входящих в них параметров. Каждому такому разрешению соответствует специальный программный модуль (функция, процедура, скрипт). Сначала будет выполнен модуль, вычисляющий значение параметра $\\gamma$, затем последовательно будут вычислены значения параметров $b$, $h_c$, $S$. Задача вычисления *площади треугольника* $S$ *по* **известной** *стороне* $c$ *и* **известным** *прилегающим углам* $\\alpha$ *и* $\\beta$ успешно выполнена.\n",
    "\n",
    "Реализовать подобный функционал можно с помощью пакета [SympPy](https://www.sympy.org/en/index.html).\n",
    "SymPy - это пакет для символьных вычислений на питоне, подобный системе Mathematica. Он работает с выражениями, содержащими символы.\n",
    "SymPy уже установлен в Google Colab.\n",
    "\n",
    "Основными элементами, из которых строятся выражения, являются символы. Символ имеет имя, которое используется при печати выражений. Объекты класса Symbol нужно создавать и присваивать переменным, чтобы их можно было использовать. Имя символа и имя переменной Python, которой присваиваем этот символ - две независимые вещи, и можно написать abc=Symbol('xyz') (но тогда при вводе программы Вы будете использовать abc, а при печати результатов SymPy будет использовать xyz, что приведёт к путанице) Поэтому лучше, чтобы имя символа совпадало с именем переменной Python, которой он присваивается.\n",
    "\n",
    "В языках, специально предназначенных для символьных вычислений, таких, как Mathematica, если Вы используете переменную, которой ничего не было присвоено, то она автоматически воспринимается как символ с тем же именем. Python не был изначально предназначен для символьных вычислений. Если Вы используете переменную, которой ничего не было присвоено, Вы получите сообщение об ошибке. Объекты типа Symbol нужно создавать явно."
   ]
  },
  {
   "cell_type": "code",
   "execution_count": 3,
   "metadata": {
    "ExecuteTime": {
     "end_time": "2024-03-25T02:26:56.769745Z",
     "start_time": "2024-03-25T02:26:56.584069Z"
    },
    "id": "O73avLFciU-1"
   },
   "outputs": [
    {
     "data": {
      "text/latex": [
       "$\\displaystyle x^{2} - 1$"
      ],
      "text/plain": [
       "x**2 - 1"
      ]
     },
     "execution_count": 3,
     "metadata": {},
     "output_type": "execute_result"
    }
   ],
   "source": [
    "from sympy import Symbol, symbols\n",
    "x = Symbol('x')\n",
    "a = x**2-1\n",
    "a"
   ]
  },
  {
   "cell_type": "markdown",
   "metadata": {
    "id": "mC0PShBBic8k"
   },
   "source": [
    "Можно определить несколько символов одновременно. Строка разбивается на имена по пробелам."
   ]
  },
  {
   "cell_type": "code",
   "execution_count": null,
   "metadata": {
    "id": "keTZAIiZid-N"
   },
   "outputs": [],
   "source": [
    "y, z = symbols('y z')"
   ]
  },
  {
   "cell_type": "markdown",
   "metadata": {
    "id": "P5c0BJ5tig57"
   },
   "source": [
    "Подставим вместо $x$ выражение $y+1$\n",
    " ."
   ]
  },
  {
   "cell_type": "code",
   "execution_count": null,
   "metadata": {
    "id": "PM-3mPC4ihpH"
   },
   "outputs": [],
   "source": [
    "a.subs(x,y+1)"
   ]
  },
  {
   "cell_type": "markdown",
   "metadata": {
    "id": "HMpnFsgRirK9"
   },
   "source": [
    "SymPy не раскрывает скобки автоматически. Для этого используется функция expand."
   ]
  },
  {
   "cell_type": "code",
   "execution_count": null,
   "metadata": {
    "id": "WDDLLdWtiskN"
   },
   "outputs": [],
   "source": [
    "a = (x + y - z)**6\n",
    "a"
   ]
  },
  {
   "cell_type": "code",
   "execution_count": null,
   "metadata": {
    "id": "4CAefvAOitm0"
   },
   "outputs": [],
   "source": [
    "from sympy import expand\n",
    "a = expand(a)\n",
    "a"
   ]
  },
  {
   "cell_type": "markdown",
   "metadata": {
    "id": "sUkOkp4pjFRV"
   },
   "source": [
    "\n",
    "Уравнение записывается как функция Eq с двумя параметрами. Функция solve возврящает список решений."
   ]
  },
  {
   "cell_type": "code",
   "execution_count": null,
   "metadata": {
    "id": "nBq5nxm6QkNS"
   },
   "outputs": [],
   "source": [
    "from sympy.solvers import solve\n",
    "from sympy import symbols, Eq\n",
    "alpha, beta, gamma, pi = symbols('alpha beta gamma pi')\n",
    "r = solve(Eq(alpha + beta + gamma - pi, 0), gamma)\n",
    "print(r)"
   ]
  },
  {
   "cell_type": "code",
   "execution_count": null,
   "metadata": {
    "id": "p9OR4x61Hmb9"
   },
   "outputs": [],
   "source": [
    "from sympy.solvers import solve\n",
    "from sympy import symbols, Eq, sin\n",
    "alpha, beta, a, b = symbols('alpha beta a b')\n",
    "Eq(a / sin(alpha) - b / sin(beta), 0)"
   ]
  },
  {
   "cell_type": "markdown",
   "metadata": {
    "id": "6z2YB7aRhkyz"
   },
   "source": [
    "Более подробно заострять внимание на пакете SymPy в рамках лабораторных работ не будем. Модифицируем программную реализацию с учетом уравнений и выведем решающую цепочку уравнений:"
   ]
  },
  {
   "cell_type": "code",
   "execution_count": null,
   "metadata": {
    "id": "5DYM4VaWrsae",
    "is_executing": true
   },
   "outputs": [],
   "source": [
    "    "
   ]
  },
  {
   "cell_type": "code",
   "execution_count": 5,
   "metadata": {
    "ExecuteTime": {
     "end_time": "2024-03-25T02:30:49.448424Z",
     "start_time": "2024-03-25T02:30:49.400854Z"
    },
    "id": "ygn4QHWhTE0W"
   },
   "outputs": [
    {
     "name": "stdout",
     "output_type": "stream",
     "text": [
      "Инициализирована продукционная система\n",
      "В продукционную систему добавлено правило: alpha & beta -> gamma  для формулы  R1\n",
      "В продукционную систему добавлено правило: alpha & gamma -> beta  для формулы  R1\n",
      "В продукционную систему добавлено правило: beta & gamma -> alpha  для формулы  R1\n",
      "В продукционную систему добавлено правило: alpha & beta & a -> b  для формулы  R2\n",
      "В продукционную систему добавлено правило: alpha & beta & b -> a  для формулы  R2\n",
      "В продукционную систему добавлено правило: b & alpha & a -> beta  для формулы  R2\n",
      "В продукционную систему добавлено правило: b & beta & a -> alpha  для формулы  R2\n",
      "В продукционную систему добавлено правило: b & h_c -> alpha  для формулы  R3\n",
      "В продукционную систему добавлено правило: b & alpha -> h_c  для формулы  R3\n",
      "В продукционную систему добавлено правило: h_c & alpha -> alpha  для формулы  R3\n",
      "В продукционную систему добавлено правило: gamma & beta & c -> b  для формулы  R4\n",
      "В продукционную систему добавлено правило: gamma & beta & b -> c  для формулы  R4\n",
      "В продукционную систему добавлено правило: b & gamma & c -> beta  для формулы  R4\n",
      "В продукционную систему добавлено правило: b & beta & c -> gamma  для формулы  R4\n",
      "В продукционную систему добавлено правило: a & b & c -> p  для формулы  R5\n",
      "В продукционную систему добавлено правило: p & b & c -> a  для формулы  R5\n",
      "В продукционную систему добавлено правило: a & p & c -> b  для формулы  R5\n",
      "В продукционную систему добавлено правило: a & b & p -> c  для формулы  R5\n",
      "В продукционную систему добавлено правило: c & h_c -> S  для формулы  R6\n",
      "В продукционную систему добавлено правило: c & S -> h_c  для формулы  R6\n",
      "В продукционную систему добавлено правило: h_c & S -> c  для формулы  R6\n",
      "В продукционную систему добавлено правило: p & S & a & b -> c  для формулы  R7\n",
      "В продукционную систему добавлено правило: c & S & a & b -> p  для формулы  R7\n",
      "В продукционную систему добавлено правило: p & c & a & b -> S  для формулы  R7\n",
      "В продукционную систему добавлено правило: p & S & c & b -> a  для формулы  R7\n",
      "В продукционную систему добавлено правило: p & S & a & c -> b  для формулы  R7\n",
      "В продукционную систему добавлены формула R1 : Eq(alpha + beta + gamma - pi, 0)\n",
      "В продукционную систему добавлены формула R2 : Eq(a/sin(alpha) - b/sin(beta), 0)\n",
      "В продукционную систему добавлены формула R3 : Eq(-b*sin(alpha) + h_c, 0)\n",
      "В продукционную систему добавлены формула R4 : Eq(-b*sin(beta) + c*sin(gamma), 0)\n",
      "В продукционную систему добавлены формула R5 : Eq(a + b + c - p, 0)\n",
      "В продукционную систему добавлены формула R6 : Eq(-S + c*h_c/2, 0)\n",
      "В продукционную систему добавлены формула R7 : Eq(-s + sqrt(2)*sqrt(P*(P/2 - a)*(P/2 - b)*(P/2 - c))/2, 0)\n",
      "Проверка достижимости факта S\n",
      "Проверка правила: alpha & beta -> gamma на наличие факта S в выводе правила\n",
      "Проверка правила: alpha & gamma -> beta на наличие факта S в выводе правила\n",
      "Проверка правила: beta & gamma -> alpha на наличие факта S в выводе правила\n",
      "Проверка правила: alpha & beta & a -> b на наличие факта S в выводе правила\n",
      "Проверка правила: alpha & beta & b -> a на наличие факта S в выводе правила\n",
      "Проверка правила: b & alpha & a -> beta на наличие факта S в выводе правила\n",
      "Проверка правила: b & beta & a -> alpha на наличие факта S в выводе правила\n",
      "Проверка правила: b & h_c -> alpha на наличие факта S в выводе правила\n",
      "Проверка правила: b & alpha -> h_c на наличие факта S в выводе правила\n",
      "Проверка правила: h_c & alpha -> alpha на наличие факта S в выводе правила\n",
      "Проверка правила: gamma & beta & c -> b на наличие факта S в выводе правила\n",
      "Проверка правила: gamma & beta & b -> c на наличие факта S в выводе правила\n",
      "Проверка правила: b & gamma & c -> beta на наличие факта S в выводе правила\n",
      "Проверка правила: b & beta & c -> gamma на наличие факта S в выводе правила\n",
      "Проверка правила: a & b & c -> p на наличие факта S в выводе правила\n",
      "Проверка правила: p & b & c -> a на наличие факта S в выводе правила\n",
      "Проверка правила: a & p & c -> b на наличие факта S в выводе правила\n",
      "Проверка правила: a & b & p -> c на наличие факта S в выводе правила\n",
      "Проверка правила: c & h_c -> S на наличие факта S в выводе правила\n",
      "Факт S найден в выводе правила: c & h_c -> S\n",
      "Проверка достижимости фактов в условии правила: c & h_c -> S\n",
      "Проверка достижимости факта: c для правила: c & h_c -> S\n",
      "Факт c  найден в базе фактов: ['c', 'alpha', 'beta']\n",
      "Проверка достижимости факта: h_c для правила: c & h_c -> S\n",
      "Проверка правила: alpha & beta -> gamma на наличие факта h_c в выводе правила\n",
      "Проверка правила: alpha & gamma -> beta на наличие факта h_c в выводе правила\n",
      "Проверка правила: beta & gamma -> alpha на наличие факта h_c в выводе правила\n",
      "Проверка правила: alpha & beta & a -> b на наличие факта h_c в выводе правила\n",
      "Проверка правила: alpha & beta & b -> a на наличие факта h_c в выводе правила\n",
      "Проверка правила: b & alpha & a -> beta на наличие факта h_c в выводе правила\n",
      "Проверка правила: b & beta & a -> alpha на наличие факта h_c в выводе правила\n",
      "Проверка правила: b & h_c -> alpha на наличие факта h_c в выводе правила\n",
      "Проверка правила: b & alpha -> h_c на наличие факта h_c в выводе правила\n",
      "Факт h_c найден в выводе правила: b & alpha -> h_c\n",
      "Проверка достижимости фактов в условии правила: b & alpha -> h_c\n",
      "Проверка достижимости факта: b для правила: b & alpha -> h_c\n",
      "Проверка правила: alpha & beta -> gamma на наличие факта b в выводе правила\n",
      "Проверка правила: alpha & gamma -> beta на наличие факта b в выводе правила\n",
      "Проверка правила: beta & gamma -> alpha на наличие факта b в выводе правила\n",
      "Проверка правила: alpha & beta & a -> b на наличие факта b в выводе правила\n",
      "Факт b найден в выводе правила: alpha & beta & a -> b\n",
      "Проверка достижимости фактов в условии правила: alpha & beta & a -> b\n",
      "Проверка достижимости факта: alpha для правила: alpha & beta & a -> b\n",
      "Факт alpha  найден в базе фактов: ['c', 'alpha', 'beta']\n",
      "Проверка достижимости факта: beta для правила: alpha & beta & a -> b\n",
      "Факт beta  найден в базе фактов: ['c', 'alpha', 'beta']\n",
      "Проверка достижимости факта: a для правила: alpha & beta & a -> b\n",
      "Проверка правила: alpha & beta -> gamma на наличие факта a в выводе правила\n",
      "Проверка правила: alpha & gamma -> beta на наличие факта a в выводе правила\n",
      "Проверка правила: beta & gamma -> alpha на наличие факта a в выводе правила\n",
      "Проверка правила: alpha & beta & a -> b на наличие факта a в выводе правила\n",
      "Проверка правила: alpha & beta & b -> a на наличие факта a в выводе правила\n",
      "Факт a найден в выводе правила: alpha & beta & b -> a\n",
      "Проверка достижимости фактов в условии правила: alpha & beta & b -> a\n",
      "Проверка достижимости факта: alpha для правила: alpha & beta & b -> a\n",
      "Факт alpha  найден в базе фактов: ['c', 'alpha', 'beta']\n",
      "Проверка достижимости факта: beta для правила: alpha & beta & b -> a\n",
      "Факт beta  найден в базе фактов: ['c', 'alpha', 'beta']\n",
      "Факт a не достижим для правила: alpha & beta & b -> a\n",
      "Проверка правила: b & alpha & a -> beta на наличие факта a в выводе правила\n",
      "Проверка правила: b & beta & a -> alpha на наличие факта a в выводе правила\n",
      "Проверка правила: b & h_c -> alpha на наличие факта a в выводе правила\n",
      "Проверка правила: b & alpha -> h_c на наличие факта a в выводе правила\n",
      "Проверка правила: h_c & alpha -> alpha на наличие факта a в выводе правила\n",
      "Проверка правила: gamma & beta & c -> b на наличие факта a в выводе правила\n",
      "Проверка правила: gamma & beta & b -> c на наличие факта a в выводе правила\n",
      "Проверка правила: b & gamma & c -> beta на наличие факта a в выводе правила\n",
      "Проверка правила: b & beta & c -> gamma на наличие факта a в выводе правила\n",
      "Проверка правила: a & b & c -> p на наличие факта a в выводе правила\n",
      "Проверка правила: p & b & c -> a на наличие факта a в выводе правила\n",
      "Факт a найден в выводе правила: p & b & c -> a\n",
      "Проверка достижимости фактов в условии правила: p & b & c -> a\n",
      "Проверка достижимости факта: p для правила: p & b & c -> a\n",
      "Проверка правила: alpha & beta -> gamma на наличие факта p в выводе правила\n",
      "Проверка правила: alpha & gamma -> beta на наличие факта p в выводе правила\n",
      "Проверка правила: beta & gamma -> alpha на наличие факта p в выводе правила\n",
      "Проверка правила: alpha & beta & a -> b на наличие факта p в выводе правила\n",
      "Проверка правила: alpha & beta & b -> a на наличие факта p в выводе правила\n",
      "Проверка правила: b & alpha & a -> beta на наличие факта p в выводе правила\n",
      "Проверка правила: b & beta & a -> alpha на наличие факта p в выводе правила\n",
      "Проверка правила: b & h_c -> alpha на наличие факта p в выводе правила\n",
      "Проверка правила: b & alpha -> h_c на наличие факта p в выводе правила\n",
      "Проверка правила: h_c & alpha -> alpha на наличие факта p в выводе правила\n",
      "Проверка правила: gamma & beta & c -> b на наличие факта p в выводе правила\n",
      "Проверка правила: gamma & beta & b -> c на наличие факта p в выводе правила\n",
      "Проверка правила: b & gamma & c -> beta на наличие факта p в выводе правила\n",
      "Проверка правила: b & beta & c -> gamma на наличие факта p в выводе правила\n",
      "Проверка правила: a & b & c -> p на наличие факта p в выводе правила\n",
      "Факт p найден в выводе правила: a & b & c -> p\n",
      "Проверка достижимости фактов в условии правила: a & b & c -> p\n",
      "Факт p не достижим для правила: a & b & c -> p\n",
      "Проверка правила: p & b & c -> a на наличие факта p в выводе правила\n",
      "Проверка правила: a & p & c -> b на наличие факта p в выводе правила\n",
      "Проверка правила: a & b & p -> c на наличие факта p в выводе правила\n",
      "Проверка правила: c & h_c -> S на наличие факта p в выводе правила\n",
      "Проверка правила: c & S -> h_c на наличие факта p в выводе правила\n",
      "Проверка правила: h_c & S -> c на наличие факта p в выводе правила\n",
      "Проверка правила: p & S & a & b -> c на наличие факта p в выводе правила\n",
      "Проверка правила: c & S & a & b -> p на наличие факта p в выводе правила\n",
      "Факт p найден в выводе правила: c & S & a & b -> p\n",
      "Проверка достижимости фактов в условии правила: c & S & a & b -> p\n",
      "Проверка достижимости факта: c для правила: c & S & a & b -> p\n",
      "Факт c  найден в базе фактов: ['c', 'alpha', 'beta']\n",
      "Факт p не достижим для правила: c & S & a & b -> p\n",
      "Проверка правила: p & c & a & b -> S на наличие факта p в выводе правила\n",
      "Проверка правила: p & S & c & b -> a на наличие факта p в выводе правила\n",
      "Проверка правила: p & S & a & c -> b на наличие факта p в выводе правила\n",
      "Факт a не достижим для правила: p & b & c -> a\n",
      "Проверка правила: a & p & c -> b на наличие факта a в выводе правила\n",
      "Проверка правила: a & b & p -> c на наличие факта a в выводе правила\n",
      "Проверка правила: c & h_c -> S на наличие факта a в выводе правила\n",
      "Проверка правила: c & S -> h_c на наличие факта a в выводе правила\n",
      "Проверка правила: h_c & S -> c на наличие факта a в выводе правила\n",
      "Проверка правила: p & S & a & b -> c на наличие факта a в выводе правила\n",
      "Проверка правила: c & S & a & b -> p на наличие факта a в выводе правила\n",
      "Проверка правила: p & c & a & b -> S на наличие факта a в выводе правила\n",
      "Проверка правила: p & S & c & b -> a на наличие факта a в выводе правила\n",
      "Факт a найден в выводе правила: p & S & c & b -> a\n",
      "Проверка достижимости фактов в условии правила: p & S & c & b -> a\n",
      "Проверка достижимости факта: p для правила: p & S & c & b -> a\n",
      "Проверка правила: alpha & beta -> gamma на наличие факта p в выводе правила\n",
      "Проверка правила: alpha & gamma -> beta на наличие факта p в выводе правила\n",
      "Проверка правила: beta & gamma -> alpha на наличие факта p в выводе правила\n",
      "Проверка правила: alpha & beta & a -> b на наличие факта p в выводе правила\n",
      "Проверка правила: alpha & beta & b -> a на наличие факта p в выводе правила\n",
      "Проверка правила: b & alpha & a -> beta на наличие факта p в выводе правила\n",
      "Проверка правила: b & beta & a -> alpha на наличие факта p в выводе правила\n",
      "Проверка правила: b & h_c -> alpha на наличие факта p в выводе правила\n",
      "Проверка правила: b & alpha -> h_c на наличие факта p в выводе правила\n",
      "Проверка правила: h_c & alpha -> alpha на наличие факта p в выводе правила\n",
      "Проверка правила: gamma & beta & c -> b на наличие факта p в выводе правила\n",
      "Проверка правила: gamma & beta & b -> c на наличие факта p в выводе правила\n",
      "Проверка правила: b & gamma & c -> beta на наличие факта p в выводе правила\n",
      "Проверка правила: b & beta & c -> gamma на наличие факта p в выводе правила\n",
      "Проверка правила: a & b & c -> p на наличие факта p в выводе правила\n",
      "Факт p найден в выводе правила: a & b & c -> p\n",
      "Проверка достижимости фактов в условии правила: a & b & c -> p\n",
      "Факт p не достижим для правила: a & b & c -> p\n",
      "Проверка правила: p & b & c -> a на наличие факта p в выводе правила\n",
      "Проверка правила: a & p & c -> b на наличие факта p в выводе правила\n",
      "Проверка правила: a & b & p -> c на наличие факта p в выводе правила\n",
      "Проверка правила: c & h_c -> S на наличие факта p в выводе правила\n",
      "Проверка правила: c & S -> h_c на наличие факта p в выводе правила\n",
      "Проверка правила: h_c & S -> c на наличие факта p в выводе правила\n",
      "Проверка правила: p & S & a & b -> c на наличие факта p в выводе правила\n",
      "Проверка правила: c & S & a & b -> p на наличие факта p в выводе правила\n",
      "Факт p найден в выводе правила: c & S & a & b -> p\n",
      "Проверка достижимости фактов в условии правила: c & S & a & b -> p\n",
      "Проверка достижимости факта: c для правила: c & S & a & b -> p\n",
      "Факт c  найден в базе фактов: ['c', 'alpha', 'beta']\n",
      "Факт p не достижим для правила: c & S & a & b -> p\n",
      "Проверка правила: p & c & a & b -> S на наличие факта p в выводе правила\n",
      "Проверка правила: p & S & c & b -> a на наличие факта p в выводе правила\n",
      "Проверка правила: p & S & a & c -> b на наличие факта p в выводе правила\n",
      "Факт a не достижим для правила: p & S & c & b -> a\n",
      "Проверка правила: p & S & a & c -> b на наличие факта a в выводе правила\n",
      "Факт b не достижим для правила: alpha & beta & a -> b\n",
      "Проверка правила: alpha & beta & b -> a на наличие факта b в выводе правила\n",
      "Проверка правила: b & alpha & a -> beta на наличие факта b в выводе правила\n",
      "Проверка правила: b & beta & a -> alpha на наличие факта b в выводе правила\n",
      "Проверка правила: b & h_c -> alpha на наличие факта b в выводе правила\n",
      "Проверка правила: b & alpha -> h_c на наличие факта b в выводе правила\n",
      "Проверка правила: h_c & alpha -> alpha на наличие факта b в выводе правила\n",
      "Проверка правила: gamma & beta & c -> b на наличие факта b в выводе правила\n",
      "Факт b найден в выводе правила: gamma & beta & c -> b\n",
      "Проверка достижимости фактов в условии правила: gamma & beta & c -> b\n",
      "Проверка достижимости факта: gamma для правила: gamma & beta & c -> b\n",
      "Проверка правила: alpha & beta -> gamma на наличие факта gamma в выводе правила\n",
      "Факт gamma найден в выводе правила: alpha & beta -> gamma\n",
      "Проверка достижимости фактов в условии правила: alpha & beta -> gamma\n",
      "Проверка достижимости факта: alpha для правила: alpha & beta -> gamma\n",
      "Факт alpha  найден в базе фактов: ['c', 'alpha', 'beta']\n",
      "Проверка достижимости факта: beta для правила: alpha & beta -> gamma\n",
      "Факт beta  найден в базе фактов: ['c', 'alpha', 'beta']\n",
      "Факт gamma  достижим для правила: alpha & beta -> gamma\n",
      "Проверка достижимости факта: beta для правила: gamma & beta & c -> b\n",
      "Факт beta  найден в базе фактов: ['c', 'alpha', 'beta']\n",
      "Проверка достижимости факта: c для правила: gamma & beta & c -> b\n",
      "Факт c  найден в базе фактов: ['c', 'alpha', 'beta']\n",
      "Факт b  достижим для правила: gamma & beta & c -> b\n",
      "Проверка достижимости факта: alpha для правила: b & alpha -> h_c\n",
      "Факт alpha  найден в базе фактов: ['c', 'alpha', 'beta']\n",
      "Факт h_c  достижим для правила: b & alpha -> h_c\n",
      "Факт S  достижим для правила: c & h_c -> S\n",
      "Проверка достижимости факта S пройдена\n",
      "Уравнения для решения: \n",
      "gamma = [-alpha - beta + pi]\n",
      "b = [c*sin(gamma)/sin(beta)]\n",
      "h_c = [b*sin(alpha)]\n",
      "S = [c*h_c/2]\n"
     ]
    }
   ],
   "source": [
    "import numpy as np\n",
    "\n",
    "class Rule(object):\n",
    "    def __init__(self, condition, conclusion, tag):\n",
    "      self.tag = tag\n",
    "      self.condition = condition\n",
    "      self.conclusion = conclusion\n",
    "\n",
    "    def execute(self, facts):\n",
    "      return (np.all(np.isin(self.condition, facts)))\n",
    "\n",
    "class ProductionSystem(object):\n",
    "    def __init__(self):\n",
    "        print('Инициализирована продукционная система')\n",
    "        self.rules = []\n",
    "        self.facts = []\n",
    "        self.formulas = {}\n",
    "        self.symbols = {}\n",
    "\n",
    "    # добавление правил\n",
    "    def add_rule(self, condition, conclusion, tag):\n",
    "        rule = Rule(condition, conclusion, tag)\n",
    "        self.rules.append(rule)\n",
    "        print('В продукционную систему добавлено правило:', ' & '.join(rule.condition), '-> ' + rule.conclusion, ' для формулы ', tag)\n",
    "\n",
    "    def add_equation(self, equation, tag):\n",
    "        self.formulas[tag] = equation\n",
    "        print('В продукционную систему добавлены формула', tag, ':', equation)\n",
    "\n",
    "    # процедура проверки достижимости факта с помощью обратного вывода\n",
    "    def execute(self, fact):\n",
    "        self.forward_update()\n",
    "        if fact not in self.facts:\n",
    "          print('Проверка достижимости факта:', fact, 'не пройдена')\n",
    "        else:\n",
    "          print('Проверка достижимости факта:', fact, 'пройдена')\n",
    "\n",
    "\n",
    "    # процедура проверки достижимости факта с помощью обратного вывода\n",
    "    def forward_update(self):\n",
    "        print('Выполняется процедура прямого вывода продукционной системы')\n",
    "        stopping_criterion = False\n",
    "        print('База фактов:', self.facts)\n",
    "        while not stopping_criterion:\n",
    "          stopping_criterion = True\n",
    "          for rule in self.rules:\n",
    "            if (rule.execute(self.facts) & (rule.conclusion not in self.facts)):\n",
    "              self.facts.append(rule.conclusion)\n",
    "              print('Выполняется правило:', ' & '.join(rule.condition), '-> ' + rule.conclusion)\n",
    "              print('Обновленная база фактов:', self.facts)\n",
    "              stopping_criterion = False\n",
    "        print('Окончание процедуры вывода')\n",
    "\n",
    "    # процедура обратного вывода\n",
    "    def rule_inner_check(self, fact, level=0, exclude=[], path=[]):\n",
    "      if (fact in self.facts):\n",
    "        print('Факт', fact, ' найден в базе фактов:', self.facts)\n",
    "        return path, True\n",
    "      if level == 0:\n",
    "        self.path = []\n",
    "      for rule in self.rules:\n",
    "        print('Проверка правила:', ' & '.join(rule.condition), '-> ' + rule.conclusion, 'на наличие факта', fact, 'в выводе правила')\n",
    "        if fact == rule.conclusion:\n",
    "          print('Факт', fact, 'найден в выводе правила:', ' & '.join(rule.condition), '-> ' + rule.conclusion)\n",
    "          print('Проверка достижимости фактов в условии правила:', ' & '.join(rule.condition), '-> ' + rule.conclusion)\n",
    "          result = []\n",
    "          for fact_inner in rule.condition:\n",
    "            if (fact_inner not in exclude):\n",
    "              print('Проверка достижимости факта:', fact_inner, 'для правила:', ' & '.join(rule.condition), '-> ' + rule.conclusion)\n",
    "              exclude_inner = exclude.copy()\n",
    "              exclude_inner.append(fact_inner)\n",
    "              _, check_result = self.rule_inner_check(fact_inner, level=level+1, exclude=exclude_inner)\n",
    "              result.append(check_result)\n",
    "            else:\n",
    "              result.append(False)\n",
    "              break\n",
    "          result = np.all(result)\n",
    "          if (result):\n",
    "            print('Факт', fact, ' достижим для правила:', ' & '.join(rule.condition), '-> ' + rule.conclusion)\n",
    "            equation = (self.formulas[rule.tag], rule.conclusion)\n",
    "            path.append(equation)\n",
    "            return path, True\n",
    "          else:\n",
    "            print('Факт', fact, 'не достижим для правила:', ' & '.join(rule.condition), '-> ' + rule.conclusion)\n",
    "      return path, False\n",
    "\n",
    "    # процедура проверки достижимости факта с помощью обратного вывода\n",
    "    def reverse_execute(self, fact):\n",
    "      self.path = None\n",
    "      result = False\n",
    "      print('Проверка достижимости факта', fact)\n",
    "      if (fact in self.facts):\n",
    "        print('Факт', fact, ' найден в базе фактов:', self.facts)\n",
    "        result = True\n",
    "        self.path = fact\n",
    "      else:\n",
    "        path, result = self.rule_inner_check(fact, exclude=[fact])\n",
    "      if (result == False):\n",
    "        print('Проверка достижимости факта', fact, 'не пройдена')\n",
    "      else:\n",
    "        print('Проверка достижимости факта', fact, 'пройдена')\n",
    "        self.path = path\n",
    "\n",
    "example4 = ProductionSystem()\n",
    "\n",
    "# R1\n",
    "example4.add_rule(['alpha', 'beta'], 'gamma', 'R1')\n",
    "example4.add_rule(['alpha', 'gamma'], 'beta', 'R1')\n",
    "example4.add_rule(['beta', 'gamma'], 'alpha', 'R1')\n",
    "\n",
    "# R2\n",
    "example4.add_rule(['alpha', 'beta', 'a'], 'b', 'R2')\n",
    "example4.add_rule(['alpha', 'beta', 'b'], 'a', 'R2')\n",
    "example4.add_rule(['b', 'alpha', 'a'], 'beta', 'R2')\n",
    "example4.add_rule(['b', 'beta', 'a'], 'alpha', 'R2')\n",
    "\n",
    "# R3\n",
    "example4.add_rule(['b', 'h_c'], 'alpha', 'R3')\n",
    "example4.add_rule(['b', 'alpha'], 'h_c', 'R3')\n",
    "example4.add_rule(['h_c', 'alpha'], 'alpha', 'R3')\n",
    "\n",
    "# R4\n",
    "example4.add_rule(['gamma', 'beta', 'c'], 'b', 'R4')\n",
    "example4.add_rule(['gamma', 'beta', 'b'], 'c', 'R4')\n",
    "example4.add_rule(['b', 'gamma', 'c'], 'beta', 'R4')\n",
    "example4.add_rule(['b', 'beta', 'c'], 'gamma', 'R4')\n",
    "\n",
    "# R5\n",
    "example4.add_rule(['a', 'b', 'c'], 'p', 'R5')\n",
    "example4.add_rule(['p', 'b', 'c'], 'a', 'R5')\n",
    "example4.add_rule(['a', 'p', 'c'], 'b', 'R5')\n",
    "example4.add_rule(['a', 'b', 'p'], 'c', 'R5')\n",
    "\n",
    "# R6\n",
    "example4.add_rule(['c', 'h_c'], 'S', 'R6')\n",
    "example4.add_rule(['c', 'S'], 'h_c', 'R6')\n",
    "example4.add_rule(['h_c', 'S'], 'c', 'R6')\n",
    "\n",
    "# R7\n",
    "example4.add_rule(['p', 'S', 'a', 'b'], 'c', 'R7')\n",
    "example4.add_rule(['c', 'S', 'a', 'b'], 'p', 'R7')\n",
    "example4.add_rule(['p', 'c', 'a', 'b'], 'S', 'R7')\n",
    "example4.add_rule(['p', 'S', 'c', 'b'], 'a', 'R7')\n",
    "example4.add_rule(['p', 'S', 'a', 'c'], 'b', 'R7')\n",
    "\n",
    "\n",
    "example4.facts = ['c', 'alpha', 'beta']\n",
    "\n",
    "from sympy.solvers import solve\n",
    "from sympy import symbols, Eq, sin, sqrt\n",
    "\n",
    "alpha, beta, gamma, pi, S, p, h_c, a, b, c = symbols('alpha beta gamma pi S p h_c a b c')\n",
    "keys = ['alpha', 'beta', 'gamma', 'pi', 'S', 'p', 'h_c', 'a', 'b', 'c']\n",
    "values = [alpha, beta, gamma, pi, S, p, h_c, a, b, c]\n",
    "example4.symbols = dict(zip(keys, values))\n",
    "\n",
    "example4.add_equation(Eq(alpha + beta + gamma - pi, 0), 'R1')\n",
    "alpha, beta, a, b = symbols('alpha beta a b')\n",
    "example4.add_equation(Eq(a / sin(alpha) - b / sin(beta), 0), 'R2')\n",
    "h_c, b, alpha = symbols('h_c b alpha')\n",
    "example4.add_equation(Eq(h_c - b * sin(alpha), 0), 'R3')\n",
    "c, b, beta, gamma = symbols('c b beta gamma')\n",
    "example4.add_equation(Eq(c * sin(gamma) - b * sin(beta), 0), 'R4')\n",
    "a, b, c, p = symbols('a b c p')\n",
    "example4.add_equation(Eq(a + b + c - p, 0), 'R5')\n",
    "c, h_c, S = symbols('c h_c S')\n",
    "example4.add_equation(Eq((c * h_c) / 2 - S, 0), 'R6')\n",
    "a, b, c, S, p = symbols('a b c s, P')\n",
    "example4.add_equation(Eq(sqrt(p / 2 * (p / 2 - a) * (p / 2 - b)* (p / 2 - c)) - S, 0), 'R7')\n",
    "\n",
    "example4.reverse_execute('S')\n",
    "print('Уравнения для решения: ')\n",
    "for t in example4.path:\n",
    "  print(t[1], '=', solve(t[0], example4.symbols[t[1]]))"
   ]
  },
  {
   "cell_type": "markdown",
   "metadata": {
    "id": "vTu7Ibz2CesK"
   },
   "source": [
    "---\n",
    "\n",
    "\n",
    "# 3. Задания\n",
    "\n",
    "\n",
    "---\n",
    "\n",
    "**Задание 1.** Выполнить несколько запусков продукционной системы с разными входными параметрами:\n",
    "с корректно заданными исходными данными,\n",
    "с недостаточным количеством исходных данных.\n",
    "**Если возникают проблемы с программной реализацией, можно ограничиться только прямым выводом**\n",
    "\n",
    "\n",
    "**Задание 2.** Постарайтесь сделать как минимум 4 задачи из списка ниже, пользуясь преимущественно numpy.\n",
    "\n",
    "Выполните, как минимум, 4 любые задачи из нижеприведенного списка. Приведите в отчете код для решения задач и, если входные данные не заданы явно, протестируйте его работу, приведя несколько примеров входных и выходных данных."
   ]
  },
  {
   "cell_type": "markdown",
   "metadata": {
    "id": "CA6upOsg0vuY"
   },
   "source": [
    "**Задача 1.**\n",
    "\n",
    "X = np.array([[42, 1], [3, -2]])\n",
    "\n",
    "Y = np.array([[-2, 1], [4, -2], [13, -1]])\n",
    "\n",
    "Для матрицы x вычислите детерминант, вычислите произведение матриц y и x"
   ]
  },
  {
   "cell_type": "code",
   "execution_count": 13,
   "metadata": {
    "collapsed": false,
    "jupyter": {
     "outputs_hidden": false
    }
   },
   "outputs": [
    {
     "name": "stdout",
     "output_type": "stream",
     "text": [
      "-87.0\n",
      "[[-81  -4]\n",
      " [162   8]\n",
      " [543  15]]\n"
     ]
    }
   ],
   "source": [
    "import numpy as np\n",
    "\n",
    "X = np.array([[42, 1], [3, -2]])\n",
    "Y = np.array([[-2, 1], [4, -2], [13, -1]])\n",
    "\n",
    "print(np.linalg.det(X))\n",
    "print(np.dot(Y,X))"
   ]
  },
  {
   "cell_type": "markdown",
   "metadata": {
    "id": "a5jYWrLl06BY"
   },
   "source": [
    "**Задача 2.**\n",
    "\n",
    "Задайте массива 5x5 со случайными значениями и отсортируйте каждую строку по убыванию."
   ]
  },
  {
   "cell_type": "code",
   "execution_count": 16,
   "metadata": {
    "id": "WflOzZRy1BRy"
   },
   "outputs": [
    {
     "name": "stdout",
     "output_type": "stream",
     "text": [
      "[[59 67 85 75 86]\n",
      " [39 80 46 24 86]\n",
      " [90  3  5 97 96]\n",
      " [84 95 32 36 61]\n",
      " [ 9 63  5 54 92]]\n",
      "[[86 85 75 67 59]\n",
      " [86 80 46 39 24]\n",
      " [97 96 90  5  3]\n",
      " [95 84 61 36 32]\n",
      " [92 63 54  9  5]]\n"
     ]
    }
   ],
   "source": [
    "import numpy as np\n",
    "\n",
    "array = np.random.randint(0,100,size=(5,5))\n",
    "print(array)\n",
    "sorted_array = np.array([sorted(row, reverse=True) for row in array])\n",
    "print(sorted_array)"
   ]
  },
  {
   "cell_type": "markdown",
   "metadata": {
    "id": "UbB8AuQA1BY0"
   },
   "source": [
    "**Задача 3.**\n",
    "\n",
    "Для произвольного двумерного массива размерностью $MxN$ нормализуйте значения в интервал от 0 до 1 с помощью min-max-нормализации.\n",
    "\n",
    "$x_i' = \\frac{x_i - x_{min}}{x_{max} - x_{min}}$,\n",
    "\n",
    "где $x_{min}$ - минимальное значение в массиве,\n",
    "$x_{min}$ - максимальное значение в массиве"
   ]
  },
  {
   "cell_type": "code",
   "execution_count": null,
   "metadata": {
    "id": "YOKf8gMB1JCS"
   },
   "outputs": [],
   "source": []
  },
  {
   "cell_type": "markdown",
   "metadata": {
    "id": "kDOcG70_1JJi"
   },
   "source": [
    "**Задача 4.**\n",
    "\n",
    "Для произвольного двумерного массива размерностью $MxN$ нормализуйте значения в интервал от 0 до 1 с помощью z-нормализации.\n",
    "\n",
    "$x_{ij}' = (x_{ij} - \\overline{x})/\\sigma_x$,\n",
    "\n",
    "где $\\overline{x}=(\\sum_{i=1}^{M}\\sum_{j=1}^{N}x_{ij})/(M+N)$\n",
    "$\\sigma_x = \\sqrt{\\frac{1}{M+N}(x_{ij} - \\overline{x})^2}$"
   ]
  },
  {
   "cell_type": "code",
   "execution_count": null,
   "metadata": {
    "id": "Z370pCG41mUU"
   },
   "outputs": [],
   "source": []
  },
  {
   "cell_type": "markdown",
   "metadata": {
    "id": "jcl3nZ-Y236p"
   },
   "source": [
    "**Задача 5.**\n",
    "\n",
    "Для произвольных двух векторов одинакового размера найти косинус угла между векторами."
   ]
  },
  {
   "cell_type": "code",
   "execution_count": 30,
   "metadata": {
    "id": "GjM3s2YN3NEY"
   },
   "outputs": [
    {
     "name": "stdout",
     "output_type": "stream",
     "text": [
      "0.7385614402025514\n"
     ]
    }
   ],
   "source": [
    "import numpy as np\n",
    "\n",
    "vsize = np.random.randint(10,20)\n",
    "v1 = np.random.randint(0,100, size=vsize)\n",
    "v2 = np.random.randint(0,100, size=vsize)\n",
    "\n",
    "norm_v1 = v1 / np.linalg.norm(v1)\n",
    "norm_v2 = v2 / np.linalg.norm(v2)\n",
    "\n",
    "\n",
    "print(np.dot(norm_v1,norm_v2))"
   ]
  },
  {
   "cell_type": "markdown",
   "metadata": {
    "id": "NOGrxa9o3WLZ"
   },
   "source": [
    "**Задача 6.**\n",
    "\n",
    "Произвольный вектор A содержит float числа как больше, так и меньше нуля.\n",
    "\n",
    "Округлите их до целых и результат запишите в переменную Z. Округление должно быть \"от нуля\", т.е.:\n",
    "\n",
    "- положительные числа округляем всегда вверх до целого\n",
    "- отрицательные числа округляем всегда вниз до целого\n",
    "- 0 остаётся 0\n"
   ]
  },
  {
   "cell_type": "code",
   "execution_count": null,
   "metadata": {
    "id": "x-RztsfF37Yt"
   },
   "outputs": [],
   "source": []
  },
  {
   "cell_type": "markdown",
   "metadata": {
    "id": "6V2Z2SNX37jT"
   },
   "source": [
    "**Задача 7.**\n",
    "\n",
    "Придумайте 2 вектора целых чисел A и B.\n",
    "\n",
    "Найдите числа, встречающиеся в обоих векторах и составьте их по возрастанию в вектор Z.\n",
    "\n",
    "*Если пересечений нет, то вектор Z будет пустым*."
   ]
  },
  {
   "cell_type": "code",
   "execution_count": 33,
   "metadata": {
    "id": "ThxIR2zN4PFr"
   },
   "outputs": [
    {
     "data": {
      "text/plain": [
       "array([ 2.,  9.,  9., 20., 57.])"
      ]
     },
     "execution_count": 33,
     "metadata": {},
     "output_type": "execute_result"
    }
   ],
   "source": [
    "import numpy as np\n",
    "\n",
    "a = np.array([1.2, 8.4, 8.9, 19.2, 56.2])\n",
    "a1 = np.where(v > 0, np.ceil(v), np.floor(v))\n",
    "a1"
   ]
  },
  {
   "cell_type": "markdown",
   "metadata": {
    "id": "GeUr4BbI433N"
   },
   "source": [
    "**Задача 8.**\n",
    "\n",
    "Для произвольного вектора найти максимальный элемент среди элементов, перед которыми стоит нулевой.\n",
    "\n",
    "Например для:\n",
    "\n",
    "`x = np.array([6, 2, 0, 3, 0, 0, 5, 7, 0])`\n",
    "\n",
    "Ответ:\n",
    "5"
   ]
  },
  {
   "cell_type": "code",
   "execution_count": null,
   "metadata": {
    "id": "TVHVE4RB50Ti"
   },
   "outputs": [],
   "source": []
  },
  {
   "cell_type": "markdown",
   "metadata": {
    "id": "DA7qSf1QkLhD"
   },
   "source": [
    "Задание 3. **(Необязательное)** Адаптировать программную реализацию к иной предметной области."
   ]
  },
  {
   "cell_type": "markdown",
   "metadata": {
    "id": "QKCLT7p5kx5I"
   },
   "source": [
    "\n",
    "*Предметная область 1*.\n",
    "\n",
    "![6.png](data:image/png;base64,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)\n",
    "\n",
    "Переменные:\n",
    "\n",
    "$a$ - сторона треугольника\n",
    "\n",
    "$b$ - сторона треугольника\n",
    "\n",
    "$c$ - сторона треугольника\n",
    "\n",
    "$\\alpha$ - угол треугольника\n",
    "\n",
    "$\\beta$ - угол треугольника\n",
    "\n",
    "$\\gamma$ - угол треугольника\n",
    "\n",
    "$d$ - диаметр вписанной окружности\n",
    "\n",
    "$D$ - диаметр описанной окружности\n",
    "\n",
    "$p$ - периметр треугольника\n",
    "\n",
    "$S$ - площадь треугольника\n"
   ]
  },
  {
   "cell_type": "markdown",
   "metadata": {
    "id": "AfCGTDsMlX5e"
   },
   "source": [
    "*Предметная область 2.*\n",
    "\n",
    "![7.png](data:image/png;base64,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)\n",
    "\n",
    "Переменные:\n",
    "\n",
    "$a$ -\tсторона трапеции\n",
    "\n",
    "$b$ -\tсторона трапеции\n",
    "\n",
    "$c$ -\tсторона трапеции\n",
    "\n",
    "$\\alpha$ - угол трапеции\n",
    "\n",
    "$h$ -\tвысота\n",
    "\n",
    "$d$ -\tдиагональ\n",
    "\n",
    "$D$\t- диаметр описанной окружности\n",
    "\n",
    "$p$\t- периметр трапеции\n",
    "\n",
    "$S$ -\tплощадь трапеции\n"
   ]
  },
  {
   "cell_type": "markdown",
   "metadata": {
    "id": "X-96bc7zj0ri"
   },
   "source": [
    "---\n",
    "\n",
    "\n",
    "# 4. Выполнение работы\n",
    "\n",
    "\n",
    "---\n",
    "\n",
    "1. Изучить теоретический и практический материал лабораторной работы.\n",
    "2. Выполнить, задания 1 и задания 2 из раздела 3.\n",
    "3. Оформить отчёт о выполненной работе.\n"
   ]
  },
  {
   "cell_type": "markdown",
   "metadata": {
    "id": "qv985L0yj6fS"
   },
   "source": [
    "\n",
    "---\n",
    "\n",
    "\n",
    "# 5. Отчет\n",
    "\n",
    "\n",
    "---\n",
    "Оформить отчёт со следующим содержанием:\n",
    "* Титульный лист.\n",
    "* Введение (цель работы, постановка задачи).\n",
    "* Ход выполнения заданий и описание результатов.\n",
    "Приведите решение задач в виде кода, скриншоты результатов тестирования.\n",
    "* Заключение (выводы).\n",
    "\n",
    "Отчет должен быть оформлен согласно требованиям ОС ТУСУР (https://regulations.tusur.ru/documents/70)."
   ]
  }
 ],
 "metadata": {
  "colab": {
   "provenance": [],
   "toc_visible": true
  },
  "kernelspec": {
   "display_name": "Python 3 (ipykernel)",
   "language": "python",
   "name": "python3"
  },
  "language_info": {
   "codemirror_mode": {
    "name": "ipython",
    "version": 3
   },
   "file_extension": ".py",
   "mimetype": "text/x-python",
   "name": "python",
   "nbconvert_exporter": "python",
   "pygments_lexer": "ipython3",
   "version": "3.12.3"
  },
  "vscode": {
   "interpreter": {
    "hash": "df89a35c3dacc890248c9eaf1af78674261a72605dca20e1e0ec28f2b99ee593"
   }
  }
 },
 "nbformat": 4,
 "nbformat_minor": 4
}
