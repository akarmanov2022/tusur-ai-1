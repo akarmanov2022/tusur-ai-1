{
  "nbformat": 4,
  "nbformat_minor": 0,
  "metadata": {
    "colab": {
      "provenance": [],
      "toc_visible": true,
      "include_colab_link": true
    },
    "kernelspec": {
      "name": "python3",
      "display_name": "Python 3"
    },
    "language_info": {
      "name": "python"
    }
  },
  "cells": [
    {
      "cell_type": "markdown",
      "metadata": {
        "id": "view-in-github",
        "colab_type": "text"
      },
      "source": [
        "<a href=\"https://colab.research.google.com/github/akarmanov2022/tusur-ai-1/blob/master/%D0%98%D0%98_%D0%9B%D0%A03.ipynb\" target=\"_parent\"><img src=\"https://colab.research.google.com/assets/colab-badge.svg\" alt=\"Open In Colab\"/></a>"
      ]
    },
    {
      "cell_type": "markdown",
      "source": [
        "**Лабораторная работа №3.**\n",
        "\n",
        "**Python. Функциональная семантическая сеть**\n",
        "\n",
        "**Цель работы.**\n",
        "\n",
        "Ознакомление с пакетами pandas, matplotlib, Python. Разработка и исследование функциональной семантической сети.\n",
        "\n",
        "**ВНИМАНИЕ**, для выполнения лабораторных работ вам **НЕОБХОДИМА** учетная запись Google."
      ],
      "metadata": {
        "id": "ikeI5-Ob0PHo"
      }
    },
    {
      "cell_type": "markdown",
      "source": [
        "\n",
        "---\n",
        "\n",
        "\n",
        "# 1. Python\n",
        "\n",
        "\n",
        "---\n"
      ],
      "metadata": {
        "id": "v_5dAygBzPtm"
      }
    },
    {
      "cell_type": "markdown",
      "source": [
        "---\n",
        "\n",
        "**Префиксные и инфиксные операторы** `*` и `**`\n",
        "\n",
        "---\n",
        "\n",
        "В Python много где можно встретить операторы `*` и `**`. Эти операторы используются, в том числе, как **инфиксные операторы** умножения и возведения в степень:"
      ],
      "metadata": {
        "id": "UU9_x87dHH1_"
      }
    },
    {
      "cell_type": "code",
      "source": [
        "print(2 * 5)\n",
        "print(2 ** 5)"
      ],
      "metadata": {
        "id": "KEiRO-f96eBo"
      },
      "execution_count": null,
      "outputs": []
    },
    {
      "cell_type": "markdown",
      "source": [
        "Операторы `*` и `**` также используются как **префиксные операторы**, **перед** переменными.\n",
        "Случаи использования:\n",
        "* Операторы используются `*` и `**` для передачи аргументов в функцию;\n",
        "* Операторы используются `*` и `**` для сбора переданных в функцию аргументов;\n",
        "* Оператор используется `**` для принятия только именованных аргументов;\n",
        "* Оператор используется `*` при распаковке кортежей;\n",
        "* Оператор используется `*` для распаковки итерируемых объектов в список/кортеж;\n",
        "* Оператор используется `**` для распаковки словарей в другие словари."
      ],
      "metadata": {
        "id": "rKq_5Dx26koj"
      }
    },
    {
      "cell_type": "code",
      "source": [
        "# При вызове функции можно использовать оператор *\n",
        "# для распаковки итерируемого объекта в аргументы вызова\n",
        "fruits = ['lemon', 'pear', 'watermelon', 'tomato']\n",
        "# Строка print(*fruits) передаёт все элементы списка fruits\n",
        "# в вызов print() как отдельные аргументы\n",
        "print(fruits[0], fruits[1], fruits[2], fruits[3])\n",
        "print(*fruits)\n",
        "print(*fruits, *fruits)"
      ],
      "metadata": {
        "id": "obQzTePc6-60"
      },
      "execution_count": null,
      "outputs": []
    },
    {
      "cell_type": "code",
      "source": [
        "# Оператор **  позволяет взять словарь с парами ключ-значение и\n",
        "# распаковать его в именованные аргументы в вызове функции\n",
        "date_info = {'year': \"2020\", 'month': \"01\", 'day': \"01\"}\n",
        "filename = \"{year}-{month}-{day}.txt\".format(**date_info)\n",
        "filename"
      ],
      "metadata": {
        "id": "WUVijBiD8WxG"
      },
      "execution_count": null,
      "outputs": []
    },
    {
      "cell_type": "code",
      "source": [
        "# Стандартные функции Python print() и zip() принимают любое количество позиционных аргументов.\n",
        "# Благодаря * можно написать свою функцию, работающую похожим образом.\n",
        "# При определении функции можно использовать *, чтобы\n",
        "# собрать переменное количество позиционных аргументов, переданных в функцию.\n",
        "\n",
        "from random import randint\n",
        "\n",
        "def roll(*dice):\n",
        "    return sum(randint(1, die) for die in dice)\n",
        "\n",
        "print(roll(20))\n",
        "print(roll(6, 6))\n",
        "print(roll(6, 6, 6))"
      ],
      "metadata": {
        "id": "5YeiP9EP86Q4"
      },
      "execution_count": null,
      "outputs": []
    },
    {
      "cell_type": "code",
      "source": [
        "# Аналогично для именованных аргументов\n",
        "\n",
        "def tag(tag_name, **attributes):\n",
        "    attribute_list = [\n",
        "        f'{name}=\"{value}\"'\n",
        "        for name, value in attributes.items()\n",
        "    ]\n",
        "    return f\"<{tag_name} {' '.join(attribute_list)}>\"\n",
        "\n",
        "print(tag('a', href=\"http://example.com\"))\n",
        "print(tag('img', height=20, width=40, src=\"img.jpg\"))"
      ],
      "metadata": {
        "id": "5iaWXymK914G"
      },
      "execution_count": null,
      "outputs": []
    },
    {
      "cell_type": "code",
      "source": [
        "# Стоит напомнить, что в Python при определении функции\n",
        "# сначала идут неименованные аргументы, и только потом - именованные\n",
        "# после оператора * в объявлении функции ВСЕГДА идут именованные аргументы\n",
        "# вызов функции с именованными аргументами позволяет понять, какой аргумент за что отвечает.\n",
        "# при использовании позиционных аргументов необходимо соблюдать их порядок,\n",
        "# в то время как именованные аргументы можно расположить как угодно\n",
        "\n",
        "# Для именованных аргументов можно задать значение по умолчанию\n",
        "def get_multiple(*keys, dictionary, default=None):\n",
        "    return [\n",
        "        dictionary.get(key, default)\n",
        "        for key in keys\n",
        "    ]\n",
        "\n",
        "fruits = {'lemon': 'yellow', 'orange': 'orange', 'tomato': 'red'}\n",
        "get_multiple('lemon', 'tomato', 'squash', dictionary=fruits, default='unknown')\n",
        "# а здесь - ошибка\n",
        "get_multiple('lemon', 'tomato', 'squash', fruits, 'unknown')"
      ],
      "metadata": {
        "id": "BOoQ2Te9-_DL"
      },
      "execution_count": null,
      "outputs": []
    },
    {
      "cell_type": "code",
      "source": [
        "def with_previous(iterable, fillvalue=None):\n",
        "    previous = fillvalue\n",
        "    for item in iterable:\n",
        "        yield previous, item\n",
        "        previous = item\n",
        "\n",
        "print(list(with_previous([2, 1, 3], fillvalue=0)))\n",
        "print(list(with_previous([2, 1, 3], 0)))\n",
        "\n",
        "# здесь оператор * позволяет сделать так,\n",
        "# чтобы последующие именованные аргументы ВСЕГДА должны были передаваться по имени.\n",
        "def with_previous(iterable, *, fillvalue=None):\n",
        "    previous = fillvalue\n",
        "    for item in iterable:\n",
        "        yield previous, item\n",
        "        previous = item\n",
        "\n",
        "print(list(with_previous([2, 1, 3], fillvalue=0)))\n",
        "# а здесь - ошибка\n",
        "print(list(with_previous([2, 1, 3], 0)))"
      ],
      "metadata": {
        "id": "F1Gvsu4VBCV1"
      },
      "execution_count": null,
      "outputs": []
    },
    {
      "cell_type": "markdown",
      "source": [
        "Еще, например, в определении sort() используется оператор `/`. Он нужен для того, чтобы предшествующие аргументы можно было передавать ТОЛЬКО как позиционные, а не по имени."
      ],
      "metadata": {
        "id": "rdndJE3PCVt_"
      }
    },
    {
      "cell_type": "code",
      "source": [
        "help(sorted)"
      ],
      "metadata": {
        "id": "rmqvNzfCCP7E"
      },
      "execution_count": null,
      "outputs": []
    },
    {
      "cell_type": "code",
      "source": [
        "# оператор * может применяться безотносительно функций, для распаковки кортежей\n",
        "print([*('lemon', 'pear')])\n",
        "print([('lemon', 'pear')])"
      ],
      "metadata": {
        "id": "YEM0EVQQFKhw"
      },
      "execution_count": null,
      "outputs": []
    },
    {
      "cell_type": "code",
      "source": [
        "# оператор * может применяться безотносительно функций, для распаковки итерируемых объектов\n",
        "print([iter(range(5))])\n",
        "print([*iter(range(5))])"
      ],
      "metadata": {
        "id": "ZuO2XNXcEVSV"
      },
      "execution_count": null,
      "outputs": []
    },
    {
      "cell_type": "code",
      "source": [
        "fruits = ['lemon', 'pear', 'watermelon', 'tomato']\n",
        "first, second, *remaining = fruits\n",
        "print(fruits)\n",
        "first, *remaining = fruits\n",
        "print(fruits)\n",
        "first, *middle, last = fruits\n",
        "print(middle)"
      ],
      "metadata": {
        "id": "BhjbFvDDDd49"
      },
      "execution_count": null,
      "outputs": []
    },
    {
      "cell_type": "code",
      "source": [
        "# а здесь - ошибка\n",
        "first, second, remaining = fruits\n",
        "print(fruits)"
      ],
      "metadata": {
        "id": "UcGVimvJEFrr"
      },
      "execution_count": null,
      "outputs": []
    },
    {
      "cell_type": "code",
      "source": [
        "# Оператор ** можно использовать для объединения двух словарей\n",
        "date_info = {'year': \"2020\", 'month': \"01\", 'day': \"01\"}\n",
        "track_info = {'artist': \"Beethoven\", 'title': 'Symphony No 5'}\n",
        "all_info = {**date_info, **track_info}\n",
        "print(all_info)"
      ],
      "metadata": {
        "id": "z8AXvKGMFzTT"
      },
      "execution_count": null,
      "outputs": []
    },
    {
      "cell_type": "code",
      "source": [
        "# А также для добавления новых значений\n",
        "date_info = {'year': '2020', 'month': '01', 'day': '7'}\n",
        "event_info = {**date_info, 'group': \"Python Meetup\"}\n",
        "print(event_info)"
      ],
      "metadata": {
        "id": "akv-5zOOF3rA"
      },
      "execution_count": null,
      "outputs": []
    },
    {
      "cell_type": "code",
      "source": [
        "# Или перезаписи старых\n",
        "event_info = {'year': '2020', 'month': '01', 'day': '7', 'group': 'Python Meetup'}\n",
        "new_info = {**event_info, 'day': \"14\"}\n",
        "print(new_info)"
      ],
      "metadata": {
        "id": "6h8t1YtMGKBn"
      },
      "execution_count": null,
      "outputs": []
    },
    {
      "cell_type": "markdown",
      "source": [
        "\n",
        "---\n",
        "\n",
        "\n",
        "# 2. Пакет Pandas\n",
        "\n",
        "\n",
        "---\n"
      ],
      "metadata": {
        "id": "3s7adfFvy3tE"
      }
    },
    {
      "cell_type": "markdown",
      "metadata": {
        "id": "82vi3pfL4Y9Z"
      },
      "source": [
        "**Pandas** это высокоуровневая Python библиотека для анализа данных.\n",
        "\n",
        "В экосистеме Python, pandas является одной наиболее продвинутой и быстроразвивающейся библиотекой для обработки и анализа данных.\n",
        "\n",
        "Pandas добавляет в Python новые структуры данных — **Series** и **DataFrame**.\n",
        "\n",
        "Для подключения и использования библиотеки, её необходимо подключить следующей командой:\n",
        "\n",
        "\n",
        "```\n",
        "import pandas as pd\n",
        "```\n",
        "\n",
        "Конструкция `as`  позволяет переименовать библиотеку в более короткое название для удобства в дальнейшем при обращении к этой библиотеке и ее методам.\n",
        "\n"
      ]
    },
    {
      "cell_type": "code",
      "execution_count": null,
      "metadata": {
        "id": "aCyLQKoQ3Fh0"
      },
      "outputs": [],
      "source": [
        "import pandas as pd"
      ]
    },
    {
      "cell_type": "markdown",
      "metadata": {
        "id": "Ka7aluzt5Oc3"
      },
      "source": [
        "##Структура данных Series"
      ]
    },
    {
      "cell_type": "markdown",
      "metadata": {
        "id": "dR0vK3PJ5Rbi"
      },
      "source": [
        "**Series** - одномерные массивы данных. Они очень похожи на списки, но отличаются по поведению — например, операции применяются к списку целиком, а в **Series** — поэлементно.\n",
        "\n",
        "Конструктор класса Series выглядит следующим образом:\n",
        "\n",
        "\n",
        "\n",
        "```\n",
        "pd.Series(data=None, index=None, dtype=None, name=None, copy=False, fastpath=False)\n",
        "```\n",
        "- **data** – массив, словарь или скалярное значение, на базе которого будет построен Series;\n",
        "\n",
        "- **index** – список меток, который будет использоваться для доступа к элементам Series. Длина списка должна быть равна длине data;\n",
        "\n",
        "- **dtype** – объект numpy.dtype, определяющий тип данных;\n",
        "\n",
        "- **copy** – создает копию массива данных, если параметр равен True в ином случае ничего не делает.\n",
        "\n",
        "Создать структуру Series можно на базе различных типов данных:\n",
        "\n",
        "- словари Python;\n",
        "- списки Python;\n",
        "- массивы из numpy: ndarray;\n",
        "- скалярные величины."
      ]
    },
    {
      "cell_type": "markdown",
      "metadata": {
        "id": "CkAx4nYZ50WC"
      },
      "source": [
        "### Создание Series из списка Python"
      ]
    },
    {
      "cell_type": "code",
      "execution_count": null,
      "metadata": {
        "id": "H75uy9Y054uD"
      },
      "outputs": [],
      "source": [
        "lst = [1, 2, 3, 4, 5] # создание списка Python\n",
        "\n",
        "s = pd.Series(lst) # создание Series\n",
        "# Если индекс явно не задан, то pandas автоматически создаёт RangeIndex от 0 до N-1, где N общее количество элементов.\n",
        "\n",
        "s"
      ]
    },
    {
      "cell_type": "code",
      "execution_count": null,
      "metadata": {
        "id": "6QFAALS17ZdM"
      },
      "outputs": [],
      "source": [
        "type(s)"
      ]
    },
    {
      "cell_type": "code",
      "execution_count": null,
      "metadata": {
        "id": "aQR70GAp6QPD"
      },
      "outputs": [],
      "source": [
        "lst = ['Мария', 'Петр', 'Иван'] # создание списка Python\n",
        "\n",
        "s = pd.Series(lst, ['a', 'b', 'c']) # создание Series с заданием меток (именованые метки - a, b, c)\n",
        "\n",
        "s"
      ]
    },
    {
      "cell_type": "code",
      "source": [
        "s['a']"
      ],
      "metadata": {
        "id": "gVSBgNZ8lUse"
      },
      "execution_count": null,
      "outputs": []
    },
    {
      "cell_type": "markdown",
      "metadata": {
        "id": "n24Yh37w7eYF"
      },
      "source": [
        "###Создание Series из ndarray массива из numpy"
      ]
    },
    {
      "cell_type": "code",
      "execution_count": null,
      "metadata": {
        "id": "iLqltVeU7fm2"
      },
      "outputs": [],
      "source": [
        "import numpy as np\n",
        "\n",
        "ndarr = np.array([1, 2, 3, 4, 5])\n",
        "type(ndarr)"
      ]
    },
    {
      "cell_type": "code",
      "execution_count": null,
      "metadata": {
        "id": "yyHBDanM7jOh"
      },
      "outputs": [],
      "source": [
        "s2 = pd.Series(ndarr, ['a', 'b', 'c', 'd', 'e'])\n",
        "s2"
      ]
    },
    {
      "cell_type": "markdown",
      "metadata": {
        "id": "QNVheQgw7sZa"
      },
      "source": [
        "###Создание Series из словаря (dict)"
      ]
    },
    {
      "cell_type": "code",
      "execution_count": null,
      "metadata": {
        "id": "VYj8gaz57tej"
      },
      "outputs": [],
      "source": [
        "d = {'a':1, 'b':2, 'c':3}\n",
        "s3 = pd.Series(d)\n",
        "s3"
      ]
    },
    {
      "cell_type": "markdown",
      "metadata": {
        "id": "LXd3yURx73kH"
      },
      "source": [
        "###Создание Series с использованием константы"
      ]
    },
    {
      "cell_type": "code",
      "execution_count": null,
      "metadata": {
        "id": "uhPFXsOM74oS"
      },
      "outputs": [],
      "source": [
        "a = 7\n",
        "\n",
        "s4 = pd.Series(a, ['a', 'b', 'c'])\n",
        "\n",
        "s4"
      ]
    },
    {
      "cell_type": "markdown",
      "metadata": {
        "id": "OgIfPPvi8Pun"
      },
      "source": [
        "У объекта **Series** есть атрибуты через которые можно получить список элементов и индексы, это **values** и **index** соответственно."
      ]
    },
    {
      "cell_type": "code",
      "execution_count": null,
      "metadata": {
        "id": "XWDf3jAh8Pci"
      },
      "outputs": [],
      "source": [
        "print(s4.index)\n",
        "print('_'*10)\n",
        "print(s4.values)"
      ]
    },
    {
      "cell_type": "markdown",
      "metadata": {
        "id": "SKiO8HDL7_Mn"
      },
      "source": [
        "###Работа с элементами Series"
      ]
    },
    {
      "cell_type": "markdown",
      "metadata": {
        "id": "rvI-Y36h8Ajd"
      },
      "source": [
        "К элементам Series можно обращаться по численному индексу, при таком подходе работа со структурой не отличается от работы со списками в Python."
      ]
    },
    {
      "cell_type": "code",
      "execution_count": null,
      "metadata": {
        "id": "I2MfFeiP8A2k"
      },
      "outputs": [],
      "source": [
        "# Создание Series из списка Python\n",
        "s5 = pd.Series(['Иван', 'Петр', 'Мария', 'Анастасия', 'Федор'], ['a', 'b', 'c', 'd', 'e'])\n",
        "\n",
        "# Обращание ко третьему элементу Series (нумерация начинается с 0)\n",
        "print(s5[2])"
      ]
    },
    {
      "cell_type": "markdown",
      "metadata": {
        "id": "w1s48lLa9WAu"
      },
      "source": [
        "Можно использовать метку, тогда работа с **Series** будет похожа на работу со словарем (dict) в Python."
      ]
    },
    {
      "cell_type": "code",
      "execution_count": null,
      "metadata": {
        "id": "xi5HLxbu9XTz"
      },
      "outputs": [],
      "source": [
        "# Обращание ко третьему элементу Series по заданному индексу (нумерация начинается с 0)\n",
        "print(s5['c'])"
      ]
    },
    {
      "cell_type": "markdown",
      "metadata": {
        "id": "pMPra_mr93gv"
      },
      "source": [
        "В поле для индекса можно поместить условное выражение."
      ]
    },
    {
      "cell_type": "code",
      "execution_count": null,
      "metadata": {
        "id": "G4hfhL-J94OM"
      },
      "outputs": [],
      "source": [
        "s6 = pd.Series([10, 13, 1, 5, 0], ['a', 'b', 'c', 'd', 'e'])\n",
        "\n",
        "# Выведет все значения в Series меньше трех\n",
        "s6[s6 <= 3]"
      ]
    },
    {
      "cell_type": "code",
      "execution_count": null,
      "metadata": {
        "id": "iQKzSih0-bbD"
      },
      "outputs": [],
      "source": [
        "# Получение элементов с метками 'a', 'c' и 'e':\n",
        "s6[['a', 'c', 'e']]"
      ]
    },
    {
      "cell_type": "markdown",
      "metadata": {
        "id": "Xa6CTMNQ-nks"
      },
      "source": [
        "Обращение по слайсу (срезу) меток.\n",
        "\n",
        "Получение элементов структуры с метками от 'a' до 'd':"
      ]
    },
    {
      "cell_type": "code",
      "execution_count": null,
      "metadata": {
        "id": "lHZKU4co-rtS"
      },
      "outputs": [],
      "source": [
        "s6['a':'d']"
      ]
    },
    {
      "cell_type": "code",
      "source": [
        "pd.Series([10, 13, 1, 5, 0], ['d', 'b', 'c', 'a', 'e'])['d':'a']"
      ],
      "metadata": {
        "id": "t0j_g_TGLKdG"
      },
      "execution_count": null,
      "outputs": []
    },
    {
      "cell_type": "code",
      "source": [
        "pd.Series([10, 13, 1, 5, 0], ['d', 'b', 'c', 'a', 'e'])['a':'e']"
      ],
      "metadata": {
        "id": "t4-5VGzHLUfN"
      },
      "execution_count": null,
      "outputs": []
    },
    {
      "cell_type": "markdown",
      "metadata": {
        "id": "zrwVVNJs-0sX"
      },
      "source": [
        "Получение элементов структуры с индексами от 0 до 4:"
      ]
    },
    {
      "cell_type": "code",
      "execution_count": null,
      "metadata": {
        "id": "KHKDoSlD-wbl"
      },
      "outputs": [],
      "source": [
        "s6[0:4]"
      ]
    },
    {
      "cell_type": "markdown",
      "metadata": {
        "id": "2d3Eu4jL_OsL"
      },
      "source": [
        "###Работа с Series"
      ]
    },
    {
      "cell_type": "markdown",
      "metadata": {
        "id": "u98Gd7iw_SoY"
      },
      "source": [
        "Со структурами Series можно работать как с векторами: складывать, умножать вектор на число и т.п."
      ]
    },
    {
      "cell_type": "code",
      "execution_count": null,
      "metadata": {
        "id": "PdCDJteU_TPT"
      },
      "outputs": [],
      "source": [
        "s7 = pd.Series([10, 20, 30, 40, 50], ['a', 'b', 'c', 'd', 'e'])\n",
        "s8 = pd.Series([1, 1, 1, 1, 0], ['a', 'b', 'c', 'd', 'e'])\n",
        "\n",
        "# сложение\n",
        "# к каждому элементу s7 прибавляется каждый элемент s8\n",
        "# для корректного сложения необходимо, чтобы длина Series совпадала\n",
        "s9 = s7 + s8\n",
        "s9"
      ]
    },
    {
      "cell_type": "code",
      "execution_count": null,
      "metadata": {
        "id": "KxNCkg0h_uEy"
      },
      "outputs": [],
      "source": [
        "# Каждый элемент s7 увеличится в 3 раза\n",
        "s9 = s7 * 3\n",
        "\n",
        "s9"
      ]
    },
    {
      "cell_type": "markdown",
      "metadata": {
        "id": "Zrll7-4mkQMY"
      },
      "source": [
        "##Структура данных DataFrame"
      ]
    },
    {
      "cell_type": "markdown",
      "metadata": {
        "id": "cFcwGiPykT5O"
      },
      "source": [
        "Если **Series** представляет собой одномерную структуру, которую для себя можно представить как таблицу с одной строкой, то **DataFrame** – это уже двумерная структура – полноценная таблица с множеством строк и столбцов.\n",
        "\n",
        "Конструктор класса DataFrame выглядит так:\n",
        "\n",
        "\n",
        "\n",
        "```\n",
        "pd.DataFrame(data=None, index=None, columns=None, dtype=None, copy=False)\n",
        "```\n",
        "\n",
        "- **data** – массив ndarray, словарь (dict) или другой DataFrame;\n",
        "\n",
        "- **index** – список меток для записей (имена строк таблицы);\n",
        "\n",
        "- **columns** – список меток для полей (имена столбцов таблицы);\n",
        "\n",
        "- **dtype** – объект numpy.dtype, определяющий тип данных;\n",
        "\n",
        "- **copy** – создает копию массива данных, если параметр равен True в ином случае ничего не делает.\n",
        "\n",
        "Cтруктуру **DataFrame** можно создать на базе:\n",
        "\n",
        "- словаря (dict) в качестве элементов которого должны выступать: одномерные - ndarray, списки, другие словари, структуры Series;\n",
        "- двумерные ndarray;\n",
        " структуры Series;\n",
        "- структурированные ndarray;\n",
        "- другие DataFrame.\n",
        "\n"
      ]
    },
    {
      "cell_type": "markdown",
      "metadata": {
        "id": "I2E-cLe_LBWE"
      },
      "source": [
        "###Создание DataFrame из словаря"
      ]
    },
    {
      "cell_type": "code",
      "execution_count": null,
      "metadata": {
        "id": "Bj905LEFK9LX"
      },
      "outputs": [],
      "source": [
        "import pandas as pd\n",
        "\n",
        "d = {\"Name\":pd.Series(['Виктор', 'Мария', 'Иван']),\n",
        "     \"Age\": pd.Series([18, 21, 19])}\n",
        "\n",
        "df = pd.DataFrame(d)\n",
        "df"
      ]
    },
    {
      "cell_type": "code",
      "source": [
        "# А если размерность серий не совпадает, то заполнение NaN\n",
        "d2 = {\"Name\":pd.Series(['Виктор', 'Мария', 'Иван']),\n",
        "     \"Age\": pd.Series([18, 21])}\n",
        "\n",
        "pd.DataFrame(d2)"
      ],
      "metadata": {
        "id": "98qUqOWULuCU"
      },
      "execution_count": null,
      "outputs": []
    },
    {
      "cell_type": "markdown",
      "metadata": {
        "id": "sG3j1vKRLm31"
      },
      "source": [
        "###Создание DataFrame из списка словарей"
      ]
    },
    {
      "cell_type": "code",
      "execution_count": null,
      "metadata": {
        "id": "26Q4FnlUK9WC"
      },
      "outputs": [],
      "source": [
        "d = [{\"Name\": \"Виктор\", \"Age\": 18},\n",
        "     {\"Name\": \"Мария\", \"Age\": 21},\n",
        "     {\"Name\": \"Иван\", \"Age\": 19}]\n",
        "\n",
        "df = pd.DataFrame(d)\n",
        "df"
      ]
    },
    {
      "cell_type": "code",
      "source": [
        "d = [{\"Name1\": \"Виктор\", \"Age\": 18},\n",
        "     {\"Name\": \"Мария\", \"Age\": 21},\n",
        "     {\"Name\": \"Иван\", \"Age\": 19}]\n",
        "\n",
        "df = pd.DataFrame(d)\n",
        "df"
      ],
      "metadata": {
        "id": "ztSAagG1QuX5"
      },
      "execution_count": null,
      "outputs": []
    },
    {
      "cell_type": "markdown",
      "metadata": {
        "id": "n1BU59OzL-gs"
      },
      "source": [
        "###Создание DataFrame из двумерного массива"
      ]
    },
    {
      "cell_type": "code",
      "execution_count": null,
      "metadata": {
        "id": "-FaJ9k3gMBMC"
      },
      "outputs": [],
      "source": [
        "import numpy as np\n",
        "\n",
        "nda = np.array([[1, 2, 3], [10, 20, 30]])\n",
        "\n",
        "df = pd.DataFrame(nda)\n",
        "df"
      ]
    },
    {
      "cell_type": "markdown",
      "metadata": {
        "id": "t5t8qh13ws7W"
      },
      "source": [
        "###Работа с элементами DataFrame"
      ]
    },
    {
      "cell_type": "markdown",
      "metadata": {
        "id": "3EEkUkFlxVao"
      },
      "source": [
        "Обращение к столбцу DataFrame:\n",
        "\n",
        "- df['Название столбца']\n",
        "- df.название_столбца"
      ]
    },
    {
      "cell_type": "code",
      "execution_count": null,
      "metadata": {
        "id": "Ktnx1HncxZzS"
      },
      "outputs": [],
      "source": [
        "d = [{\"Name\": \"Виктор\", \"Age\": 18},\n",
        "     {\"Name\": \"Мария\", \"Age\": 21},\n",
        "     {\"Name\": \"Иван\", \"Age\": 19}]\n",
        "\n",
        "df = pd.DataFrame(d)\n",
        "\n",
        "df['Name']"
      ]
    },
    {
      "cell_type": "code",
      "execution_count": null,
      "metadata": {
        "id": "VRnPjIA4xno0"
      },
      "outputs": [],
      "source": [
        "df.Name"
      ]
    },
    {
      "cell_type": "markdown",
      "metadata": {
        "id": "XmZbhX9Ux6Sl"
      },
      "source": [
        "Также для работы со строками и столбцами существуют методы:\n",
        "\n",
        "**DataFrame.loc[]**- Доступ к группе строк и столбцов (или только к столбцам, или только к строкам) по меткам (label-based) или логическому массиву.\n",
        "\n",
        "Допустимые входы:\n",
        "- Одиночная метка, например 5 или 'a', (обратите внимание, что 5 - интерпретируется как метка индекса, а не как целочисленная позиция по индексу).\n",
        "- Список или массив меток, например ['a', 'b', 'c']\n",
        "- Объект среза с метками, например 'a':'f'.\n",
        "\n",
        "**DataFrame.iloc[]** - позволяет получить доступ к элементам DataFrame по целочисленном индексам.\n",
        "\n",
        "Допустимые входы:\n",
        "- Целое число, например 5.\n",
        "- Список или массив целых чисел, например .[4, 3, 0]\n",
        "- Объект среза с целыми числами, например 1:7."
      ]
    },
    {
      "cell_type": "code",
      "execution_count": null,
      "metadata": {
        "id": "w3xX4hFex1FO"
      },
      "outputs": [],
      "source": [
        "df.iloc[0] # по индексу вернет 0 строку DataFrame"
      ]
    },
    {
      "cell_type": "code",
      "source": [
        "df.loc[0:, \"Name\"]"
      ],
      "metadata": {
        "id": "bjJhwFigO5Gn"
      },
      "execution_count": null,
      "outputs": []
    },
    {
      "cell_type": "markdown",
      "metadata": {
        "id": "5HS0B_8s0IzX"
      },
      "source": [
        "Для доступа к элементам и по строке и по столбцу используется следующая конструкция:\n",
        "\n",
        "- DataFrame.iloc[строка, столбце]\n",
        "- DataFrame.iloc[диапазон:строк, диапазон:столбцов]"
      ]
    },
    {
      "cell_type": "code",
      "execution_count": null,
      "metadata": {
        "id": "hVJK49j4z5-f"
      },
      "outputs": [],
      "source": [
        "df.iloc[0,1] # по индексу вернет элемент DataFrame на пересечении 0 строки и 1 столбца [строка, столбца]\n",
        "\n",
        "df.iloc[:, 1] # вернет все элементы 1 столбца для всех строк\n",
        "\n",
        "df.iloc[0:2,:] # вернет значения всех стобцов для 0 и 1 строк"
      ]
    },
    {
      "cell_type": "code",
      "source": [
        "#[dimension 1\n",
        "#    [dimension 2\n",
        "#        [ dimension 3 ]\n",
        "#    ]\n",
        "#    []\n",
        "#    []\n",
        "#    []\n",
        "#]\n",
        "# многомерная индексация как обращение ко вложенным одномерным массивам\n",
        "df.iloc[0, 1] # 1 строка, 2 столбец"
      ],
      "metadata": {
        "id": "Be-_Dbw1QXLh"
      },
      "execution_count": null,
      "outputs": []
    },
    {
      "cell_type": "code",
      "execution_count": null,
      "metadata": {
        "id": "Klzj5wY00_NT"
      },
      "outputs": [],
      "source": [
        "df.loc[:, 'Name'] # доступ по метке: вернет значения всех элементов в столбце Name для всех строк\n",
        "\n",
        "df.loc[0:1, 'Name'] # доступ по метке: вернет значения всех элементов в столбце Name для 0 и 1 строк"
      ]
    },
    {
      "cell_type": "markdown",
      "metadata": {
        "id": "VHNEszhQ04z4"
      },
      "source": [
        "Методы .loc[], .iloc[] также применимы к структуре Series."
      ]
    },
    {
      "cell_type": "markdown",
      "metadata": {
        "id": "qbeWwv-f3Bgt"
      },
      "source": [
        "Также в поле для индекса можно писать логические условия для фильтрации значений."
      ]
    },
    {
      "cell_type": "code",
      "execution_count": null,
      "metadata": {
        "id": "5Y1QTo8k2_1Z"
      },
      "outputs": [],
      "source": [
        "#  Вывести все строки, в которых значение в столбце Age больше и равно 20\n",
        "df[df['Age'] >= 20]"
      ]
    },
    {
      "cell_type": "markdown",
      "metadata": {
        "id": "7fylmNI5MMU9"
      },
      "source": [
        "###Методы и атрибуты DataFrame"
      ]
    },
    {
      "cell_type": "markdown",
      "metadata": {
        "id": "FEFaFiZ8MtNv"
      },
      "source": [
        "У объекта DataFrame (также как и у Series) есть атрибуты через которые можно получить индексы, а также метод позволяющий получить названия колонок."
      ]
    },
    {
      "cell_type": "code",
      "execution_count": null,
      "metadata": {
        "id": "abiPbN5nN9Rg"
      },
      "outputs": [],
      "source": [
        "d = [{\"Name\": \"Виктор\", \"Age\": 18},\n",
        "     {\"Name\": \"Мария\", \"Age\": 21},\n",
        "     {\"Name\": \"Иван\", \"Age\": 19}]\n",
        "\n",
        "df = pd.DataFrame(d)\n",
        "\n",
        "print(df.index) # возвращает индексы DataFrame\n",
        "print(df.columns) # возвращает названия колонок\n",
        "print(df.head(2)) # вывод первых двух строк DataFrame\n",
        "print(df.tail(2)) # вывод последних двух строк DataFrame"
      ]
    },
    {
      "cell_type": "code",
      "source": [
        "print(df[:2])"
      ],
      "metadata": {
        "id": "b7Q5_Diwvvix"
      },
      "execution_count": null,
      "outputs": []
    },
    {
      "cell_type": "code",
      "source": [
        "print(df.head(2))"
      ],
      "metadata": {
        "id": "wH3f2byHvzYY"
      },
      "execution_count": null,
      "outputs": []
    },
    {
      "cell_type": "markdown",
      "metadata": {
        "id": "0gQt1YtXOLqF"
      },
      "source": [
        "DataFrame - это двумерная структура, напоминающая таблицу размерностью NxM, где N - это количество строк, M - количество стобцов.\n",
        "\n",
        "**shape** - атрибут DataFrame, который возвращает его размерность."
      ]
    },
    {
      "cell_type": "code",
      "execution_count": null,
      "metadata": {
        "id": "83Et_c1POoHW"
      },
      "outputs": [],
      "source": [
        "df.shape"
      ]
    },
    {
      "cell_type": "code",
      "execution_count": null,
      "metadata": {
        "id": "dX4SOif7Orq3"
      },
      "outputs": [],
      "source": [
        "df.info() # метод возвращает полную информацию о данном DataFrame"
      ]
    },
    {
      "cell_type": "markdown",
      "metadata": {
        "id": "DfVT9252O2IR"
      },
      "source": [
        "Часто при работе с данными, их необходимо проверять на пропуски (NaN).\n",
        "\n",
        "Для этого существуют методы - **isna()**, **isnull()**.\n",
        "\n",
        "Они возвращают два объекта DataFrame с булевыми значениями, где True для значений NaN в DataFrame, а False — на его отсутствие. Эти функции часто используются в фильтрах для создания условий."
      ]
    },
    {
      "cell_type": "code",
      "execution_count": null,
      "metadata": {
        "id": "aqh43r-JPiwe"
      },
      "outputs": [],
      "source": [
        "d = [{\"Name\": \"Виктор\", \"Age\": 18},\n",
        "     {\"Name\": \"Мария\", \"Age\": np.NaN},\n",
        "     {\"Name\": \"Иван\", \"Age\": 19}]\n",
        "\n",
        "df = pd.DataFrame(d)\n",
        "\n",
        "df.isna()"
      ]
    },
    {
      "cell_type": "code",
      "execution_count": null,
      "metadata": {
        "id": "y67HxhXuPklr"
      },
      "outputs": [],
      "source": [
        "df.isnull()"
      ]
    },
    {
      "cell_type": "code",
      "execution_count": null,
      "metadata": {
        "id": "kChKfdezQBEg"
      },
      "outputs": [],
      "source": [
        "# Фильтр, который вернет все строки, в которых отсутствуют пустые значения в колонке Age\n",
        "\n",
        "df[df['Age'].isnull()==False]"
      ]
    },
    {
      "cell_type": "code",
      "execution_count": null,
      "metadata": {
        "id": "z7QuMla2Q1sj"
      },
      "outputs": [],
      "source": [
        "# подсчет пустых значений в каждой колонке DataFrame\n",
        "df.isna().sum()"
      ]
    },
    {
      "cell_type": "code",
      "source": [
        "df['Name'].unique()\n"
      ],
      "metadata": {
        "id": "yTwJ10GVwhBZ"
      },
      "execution_count": null,
      "outputs": []
    },
    {
      "cell_type": "code",
      "source": [
        "np.unique(df['Name'], return_counts=True)"
      ],
      "metadata": {
        "id": "7T95Mr34nuEW"
      },
      "execution_count": null,
      "outputs": []
    },
    {
      "cell_type": "code",
      "execution_count": null,
      "metadata": {
        "id": "Tv0OLbDyRPsU"
      },
      "outputs": [],
      "source": [
        "d = [{\"Name\": \"Виктор\", \"Age\": 18},\n",
        "     {\"Name\": \"Мария\", \"Age\": np.NaN},\n",
        "     {\"Name\": \"Иван\", \"Age\": 19},\n",
        "     {\"Name\": \"Иван\", \"Age\": 25}]\n",
        "\n",
        "df = pd.DataFrame(d)\n",
        "\n",
        "# Подсчет уникальных значений в стобце\n",
        "df['Name'].unique()\n",
        "\n",
        "# Подсчет количества вхождений для каждого уникального значения в столбце\n",
        "df['Name'].value_counts()"
      ]
    },
    {
      "cell_type": "markdown",
      "metadata": {
        "id": "YCIsd0CqSA70"
      },
      "source": [
        "Удаление значений из DataFrame.\n",
        "\n",
        "Существуют различные методы, позволяющие удалять сроки или столбцы из DataFrame.\n",
        "\n",
        "`DataFrame.drop(labels=None, axis=0, index=None, columns=None, level=None, inplace=False, errors='raise')`\n",
        "\n",
        "- labels - Метки индекса или столбца, которые нужно удалить\n",
        "- axis - {0 или 'index', 1 или 'columns'}\n",
        "- index - Альтернатива указанию оси (эквивалент axis=0)\n",
        "- columns - Альтернатива указанию оси (эквивалент axis=1)\n",
        "- level - Для MultiIndex - уровень, с которого будут удалены метки\n",
        "- inplace - Если False, вернет копию DataFrame. В противном случае перезапишет изменения в этот же DataFrame.\n"
      ]
    },
    {
      "cell_type": "code",
      "execution_count": null,
      "metadata": {
        "id": "8WPstwddSVee"
      },
      "outputs": [],
      "source": [
        "d = [{\"Name\": \"Виктор\", \"Age\": 18},\n",
        "     {\"Name\": \"Мария\", \"Age\": np.NaN},\n",
        "     {\"Name\": \"Иван\", \"Age\": 19},\n",
        "     {\"Name\": \"Иван\", \"Age\": 25}]\n",
        "\n",
        "df = pd.DataFrame(d)\n",
        "\n",
        "# Удалить столбцы\n",
        "df.drop(['Age'], axis=1)"
      ]
    },
    {
      "cell_type": "code",
      "execution_count": null,
      "metadata": {
        "id": "FSiT_yz0Ts0Y"
      },
      "outputs": [],
      "source": [
        "# по умолчанию inplace = False, поэтому в предыдущей ячейке\n",
        "# операция drop() вернула копию измененного DataFrame\n",
        "# исходный DataFrame остался без изменений\n",
        "df"
      ]
    },
    {
      "cell_type": "code",
      "execution_count": null,
      "metadata": {
        "id": "egqM2WbJT-JZ"
      },
      "outputs": [],
      "source": [
        "df.drop(['Age'], axis=1, inplace=True)\n",
        "df"
      ]
    },
    {
      "cell_type": "code",
      "execution_count": null,
      "metadata": {
        "id": "-6G4rwk-UByu"
      },
      "outputs": [],
      "source": [
        "d = [{\"Name\": \"Виктор\", \"Age\": 18},\n",
        "     {\"Name\": \"Мария\", \"Age\": np.NaN},\n",
        "     {\"Name\": \"Иван\", \"Age\": 19},\n",
        "     {\"Name\": \"Иван\", \"Age\": 25}]\n",
        "\n",
        "df = pd.DataFrame(d)\n",
        "\n",
        "df.drop(columns=['Age'])"
      ]
    },
    {
      "cell_type": "code",
      "source": [
        "df"
      ],
      "metadata": {
        "id": "6pHbsoR5w6EW"
      },
      "execution_count": null,
      "outputs": []
    },
    {
      "cell_type": "code",
      "execution_count": null,
      "metadata": {
        "id": "eijfXA16UMgf"
      },
      "outputs": [],
      "source": [
        "df.drop([0, 1])"
      ]
    },
    {
      "cell_type": "markdown",
      "metadata": {
        "id": "ZuQneaHSUO0N"
      },
      "source": [
        "Также существует метод dropna(), который позволяет удалять строки или столбцы, содержащие пустые значения.\n",
        "\n",
        "`DataFrame.dropna(axis=0, how='any', thresh=None, subset=None, inplace=False)`\n",
        "\n",
        "- axis - {0 или 'index', 1 или 'columns'}, по умолчанию 0. Определяет, удаляются строки или столбцы, содержащие отсутствующие значения. 0 или «index»: удалить строки, содержащие пропущенные значения. 1 или «columns»: удалить столбцы, содержащие отсутствующее значение.\n",
        "- how - Определяет, удаляется ли строка или столбец из DataFrame, когда у нас есть хотя бы одно NA или все NA. 'any': если присутствуют какие-либо значения NA, отбросьте эту строку или столбец. 'all': если все значения - NA, отбросьте эту строку или столбец."
      ]
    },
    {
      "cell_type": "code",
      "execution_count": null,
      "metadata": {
        "id": "OxbqFdmwVC3s"
      },
      "outputs": [],
      "source": [
        "d = [{\"Name\": \"Виктор\", \"Age\": 18},\n",
        "     {\"Name\": \"Мария\", \"Age\": np.NaN},\n",
        "     {\"Name\": \"Иван\", \"Age\": 19},\n",
        "     {\"Name\": \"Иван\", \"Age\": 25},\n",
        "     {\"Name\": np.NaN, \"Age\": np.NaN}]\n",
        "\n",
        "df = pd.DataFrame(d)\n",
        "df"
      ]
    },
    {
      "cell_type": "code",
      "execution_count": null,
      "metadata": {
        "id": "C1VHCxFOVNan"
      },
      "outputs": [],
      "source": [
        "# удалить строки (axis=0), которые содержат хотя бы одно пропущенное значение\n",
        "df.dropna(axis=0, how='any')"
      ]
    },
    {
      "cell_type": "code",
      "execution_count": null,
      "metadata": {
        "id": "GL8flIZawWW7"
      },
      "outputs": [],
      "source": [
        "# удалить столбцы (axis=1), которые содержат хотя бы одно пропущенное значение\n",
        "df.dropna(axis=1, how='any')"
      ]
    },
    {
      "cell_type": "code",
      "execution_count": null,
      "metadata": {
        "id": "q-nVbxseVjbq"
      },
      "outputs": [],
      "source": [
        "# удалить строки (axis=0), которые содержат только пропущенные значения\n",
        "df.dropna(axis=0, how='all')"
      ]
    },
    {
      "cell_type": "code",
      "execution_count": null,
      "metadata": {
        "id": "xgqupXZvwbbV"
      },
      "outputs": [],
      "source": [
        "# удалить столбцы (axis=1), которые содержат только пропущенные значения\n",
        "df.dropna(axis=1, how='all')"
      ]
    },
    {
      "cell_type": "markdown",
      "metadata": {
        "id": "VrNE6glJ2327"
      },
      "source": [
        "Добавление строк или столбцов в существующий DataFrame.\n",
        "\n",
        "Добавить новый столбец в существующий DataFrame можно воспользовавшись следующей конструкцией:\n",
        "\n",
        "`df['new_column'] = values`\n",
        "\n",
        "- values - значения в новом столбце (числов, список, Series)\n"
      ]
    },
    {
      "cell_type": "code",
      "execution_count": null,
      "metadata": {
        "id": "_ZBenIni38_4"
      },
      "outputs": [],
      "source": [
        "d = [{\"Name\": \"Виктор\", \"Age\": 18},\n",
        "     {\"Name\": \"Мария\", \"Age\": 21},\n",
        "     {\"Name\": \"Иван\", \"Age\": 19},\n",
        "     {\"Name\": \"Иван\", \"Age\": 25},\n",
        "     {\"Name\": \"Алексей\", \"Age\": 20}]\n",
        "\n",
        "df = pd.DataFrame(d)\n",
        "\n",
        "df"
      ]
    },
    {
      "cell_type": "code",
      "execution_count": null,
      "metadata": {
        "id": "OkzW64DG4XXq"
      },
      "outputs": [],
      "source": [
        "# Добавление нового столбца - значения которого переданы в виде списка\n",
        "df['Phone'] = ['asd1', 'asd2', 'asd3', 'asd4', 'asd5']\n",
        "\n",
        "df"
      ]
    },
    {
      "cell_type": "code",
      "execution_count": null,
      "metadata": {
        "id": "71Z0mIt05lV_"
      },
      "outputs": [],
      "source": [
        "# Добавление нового столбца - все значения будут одинаковы и равны 'bachelor'\n",
        "df['level'] = 'bachelor'\n",
        "df"
      ]
    },
    {
      "cell_type": "markdown",
      "metadata": {
        "id": "1E3c6sz46Vpn"
      },
      "source": [
        "Также существует метод позволяющий объединять объекты Series и DataFrame.\n",
        "\n",
        "`pandas.concat( objs , axis = 0 , join = 'outer' , ignore_index = False , keys = None , levels = None , names = None , verify_integrity = False , sort = False , copy = True )`\n",
        "\n",
        "- objs последовательность или сопоставление объектов Series или DataFrame\n",
        "- ось {0 / 'index', 1 / 'columns'}, по умолчанию 0. Ось для объединения (объединение по столбцам или по строкам).\n"
      ]
    },
    {
      "cell_type": "code",
      "execution_count": null,
      "metadata": {
        "id": "c2mbuPiK7FQI"
      },
      "outputs": [],
      "source": [
        "# Объединение двух Series\n",
        "# так как параметр ignore_index по умолчанию False\n",
        "# то сохраняется старая нумерация в Series\n",
        "s1 = pd.Series(['a', 'b'])\n",
        "s2 = pd.Series(['c', 'd'])\n",
        "pd.concat([s1, s2])"
      ]
    },
    {
      "cell_type": "code",
      "execution_count": null,
      "metadata": {
        "id": "8G-tofzE7cGF"
      },
      "outputs": [],
      "source": [
        "# Объединение двух Series\n",
        "# очистить существующий индекс и сбросить его в результате\n",
        "# можно задав ignore_index=True\n",
        "s1 = pd.Series(['a', 'b'])\n",
        "s2 = pd.Series(['c', 'd'])\n",
        "pd.concat([s1, s2], ignore_index=True)"
      ]
    },
    {
      "cell_type": "code",
      "execution_count": null,
      "metadata": {
        "id": "hCwKeyS2-0EO"
      },
      "outputs": [],
      "source": [
        "# Объединение двух DataFrame\n",
        "df1 = pd.DataFrame([['Петр', 19], ['Иван', 22]], columns=['Name', 'Age'])\n",
        "df1"
      ]
    },
    {
      "cell_type": "code",
      "execution_count": null,
      "metadata": {
        "id": "DGfjaKTv_LAH"
      },
      "outputs": [],
      "source": [
        "df2 = pd.DataFrame([['Мария', 20], ['Анастасия', 18]], columns=['Name', 'Age'])\n",
        "df2"
      ]
    },
    {
      "cell_type": "code",
      "execution_count": null,
      "metadata": {
        "id": "OSi_Krnt_Rp8"
      },
      "outputs": [],
      "source": [
        "#  объединение по строкам\n",
        "pd.concat([df1, df2])"
      ]
    },
    {
      "cell_type": "code",
      "execution_count": null,
      "metadata": {
        "id": "Mo4Ym1mA_ckJ"
      },
      "outputs": [],
      "source": [
        "# объединение по столбцам\n",
        "pd.concat([df1, df2], axis=1)"
      ]
    },
    {
      "cell_type": "markdown",
      "metadata": {
        "id": "MXBtu4fJ_5oC"
      },
      "source": [
        "## Импорт данных"
      ]
    },
    {
      "cell_type": "markdown",
      "metadata": {
        "id": "BLs9OEcBAVfZ"
      },
      "source": [
        "Для создания DataFrame можно использовать внешние данные, например из файлов .csv или  .xlsx.\n",
        "\n",
        "**CSV** (Comma-Separated Values — значения, разделённые запятыми) — текстовый формат, предназначенный для представления табличных данных.\n",
        "\n",
        "Каждая строка - это отдельная строка таблицы, а столбцы отделены один от другого специальными символами - разделителями (например, запятой).\n",
        "\n",
        "Для загрузки .csv файла с данными в pandas используется функция **read_csv()**.\n",
        "\n",
        "У функции есть ряд ключевых параметров:\n",
        "- filepath_or_buffer - путь к файлу, который необходимо считать\n",
        "- sep - Используемый разделитель\n",
        "\n",
        "По умолчанию предполагается, что поля разделены запятыми."
      ]
    },
    {
      "cell_type": "code",
      "execution_count": null,
      "metadata": {
        "id": "AkBKwwCRAAhc"
      },
      "outputs": [],
      "source": [
        "import pandas as pd\n",
        "\n",
        "df = pd.read_csv(\"/content/sample_data/california_housing_test.csv\", sep=',')\n",
        "df.head(10)"
      ]
    },
    {
      "cell_type": "code",
      "source": [
        "df[:10]"
      ],
      "metadata": {
        "id": "jnBrAkHaTN23"
      },
      "execution_count": null,
      "outputs": []
    },
    {
      "cell_type": "markdown",
      "metadata": {
        "id": "Dn8KnEOIBFzD"
      },
      "source": [
        "Существует аналогичная функция для чтения данных с Excel."
      ]
    },
    {
      "cell_type": "markdown",
      "metadata": {
        "id": "PkaYOncOCgbs"
      },
      "source": [
        "## Экспорт данных"
      ]
    },
    {
      "cell_type": "markdown",
      "metadata": {
        "id": "r2NDSDxjCo4p"
      },
      "source": [
        "DataFrame и Series можно сохранять в виде файлов .csv и .xlsx\n",
        "\n",
        "`DataFrame.to_csv(path_or_buf=None, sep=',', na_rep='', float_format=None, columns=None, header=True, index=True, index_label=None, mode='w', encoding=None, compression='infer', quoting=None, quotechar='\"', line_terminator=None, chunksize=None, date_format=None, doublequote=True, escapechar=None, decimal='.', errors='strict', storage_options=None)`\n",
        "\n",
        "- path_or_buf - пусть к файлу\n",
        "- sep - Строка длиной 1. Разделитель полей для выходного файла.\n",
        "\n",
        "Чтобы записать отдельный объект в файл Excel .xlsx, необходимо только указать имя целевого файла. Для записи на несколько листов необходимо создать объект ExcelWriter с именем целевого файла и указать лист в файле для записи.\n",
        "\n",
        "`DataFrame.to_excel(excel_writer, sheet_name='Sheet1', na_rep='', float_format=None, columns=None, header=True, index=True, index_label=None, startrow=0, startcol=0, engine=None, merge_cells=True, encoding=None, inf_rep='inf', verbose=True, freeze_panes=None, storage_options=None)`"
      ]
    },
    {
      "cell_type": "code",
      "execution_count": null,
      "metadata": {
        "id": "fw-19iieCvhB"
      },
      "outputs": [],
      "source": [
        "d = [{\"Name\": \"Виктор\", \"Age\": 18},\n",
        "     {\"Name\": \"Мария\", \"Age\": 21},\n",
        "     {\"Name\": \"Иван\", \"Age\": 19},\n",
        "     {\"Name\": \"Иван\", \"Age\": 25},\n",
        "     {\"Name\": \"Алексей\", \"Age\": 20}]\n",
        "\n",
        "df = pd.DataFrame(d)\n",
        "\n",
        "df.to_csv(\"my\")"
      ]
    },
    {
      "cell_type": "code",
      "source": [
        "df.to_csv(\"to_csv_func_test.csv\", index=False)"
      ],
      "metadata": {
        "id": "xn42gUUSThQq"
      },
      "execution_count": null,
      "outputs": []
    },
    {
      "cell_type": "code",
      "source": [
        "# можно сохранять прямо в архиве\n",
        "compression_opts = dict(method='zip',\n",
        "                        archive_name='out.csv')\n",
        "df.to_csv(\"to_csv_func_test.zip\", index=False,\n",
        "          compression=compression_opts)"
      ],
      "metadata": {
        "id": "x58xSy1sTsCM"
      },
      "execution_count": null,
      "outputs": []
    },
    {
      "cell_type": "code",
      "source": [
        "# архивация на колабе\n",
        "!zip -r /content/zip_test.zip /content/sample_data"
      ],
      "metadata": {
        "id": "i-EHgFa2UAVH"
      },
      "execution_count": null,
      "outputs": []
    },
    {
      "cell_type": "code",
      "source": [
        "# распаковка\n",
        "!unzip /content/zip_test.zip -d /content/sample_data2"
      ],
      "metadata": {
        "id": "xvJuI-pwUGtA"
      },
      "execution_count": null,
      "outputs": []
    },
    {
      "cell_type": "code",
      "execution_count": null,
      "metadata": {
        "id": "VSerg2GsBLnU"
      },
      "outputs": [],
      "source": [
        "# запись в xlsx файл\n",
        "with pd.ExcelWriter('output.xlsx') as writer:\n",
        "    df.to_excel(writer, sheet_name='Sheet_name_1')\n",
        "    df.to_excel(writer, sheet_name='Sheet_name_2')\n",
        "df = pd.read_excel(\"output.xlsx\")\n",
        "df"
      ]
    },
    {
      "cell_type": "markdown",
      "source": [
        "\n",
        "---\n",
        "\n",
        "\n",
        "# 3. Визуализация данных в Python\n",
        "\n",
        "\n",
        "---\n"
      ],
      "metadata": {
        "id": "jmB_0ImAy0fv"
      }
    },
    {
      "cell_type": "markdown",
      "metadata": {
        "id": "zlXg7a6vF_Cl"
      },
      "source": [
        "# Matplotlib\n",
        "\n",
        "[Matplotlib](https://matplotlib.org/) - базовый модуль для построения графиков в Python. Кроме matplotlib существуют и более сложные инструменты для построения графиков, мы коснёмся их в данном уроке лишь чуть-чуть."
      ]
    },
    {
      "cell_type": "code",
      "execution_count": null,
      "metadata": {
        "id": "X1xMWLvsF8TK"
      },
      "outputs": [],
      "source": [
        "# проверяем установку модуля\n",
        "!pip install matplotlib"
      ]
    },
    {
      "cell_type": "code",
      "execution_count": null,
      "metadata": {
        "id": "1vTKHeAE79EF"
      },
      "outputs": [],
      "source": [
        "#классический вариант подключения модуля\n",
        "#Модуль pyplot — это коллекция функций в стиле команд, которая позволяет использовать matplotlib почти так же, как MATLAB.\n",
        "import matplotlib.pyplot as plt"
      ]
    },
    {
      "cell_type": "markdown",
      "metadata": {
        "id": "KX2bxKZS8DYk"
      },
      "source": [
        "#### Небольшое отвлечение в сторону\n",
        "\n",
        "В google colab по-умолчанию графики отображаются встроенными в ноутбук. Однако в других случаях это происходит не всегда. Проверить, встроены ли графики в ноутбук или отделены можно с помощью команды\n",
        "\n",
        "```\n",
        "matplotlib.get_backend()\n",
        "```\n",
        "Сделать так, чтобы они были встроены с помощью\n",
        "\n",
        "\n",
        "```\n",
        "%matplotlib inline\n",
        "```\n",
        "В большинстве случаев лучше по умолчанию использовать эту команду, чтобы не было проблем с переносом кода на другие устройства и платформы.\n",
        "\n",
        "\n"
      ]
    },
    {
      "cell_type": "code",
      "execution_count": null,
      "metadata": {
        "id": "kOrCgIS_77Zj"
      },
      "outputs": [],
      "source": [
        "import matplotlib\n",
        "matplotlib.get_backend()"
      ]
    },
    {
      "cell_type": "code",
      "execution_count": null,
      "metadata": {
        "id": "qZncDGCS7n_f"
      },
      "outputs": [],
      "source": [
        "%matplotlib inline"
      ]
    },
    {
      "cell_type": "markdown",
      "metadata": {
        "id": "FNwwc-N58mz7"
      },
      "source": [
        "## Первое знакомство\n",
        "\n",
        "Просто график можно пострость с помощью метода `plot(x, y)`."
      ]
    },
    {
      "cell_type": "code",
      "execution_count": null,
      "metadata": {
        "id": "wTJzsJr58mOZ"
      },
      "outputs": [],
      "source": [
        "plt.plot([1, 2, 3, 4, 5], [1, 2, -1, 4, 5])\n",
        "# если не добавить команду show(), то кроме самого графика, в ноутбуке отборазится ещё и название используемого объекта.\n",
        "plt.show()"
      ]
    },
    {
      "cell_type": "code",
      "execution_count": null,
      "metadata": {
        "id": "rRzVgHpKBRiV"
      },
      "outputs": [],
      "source": [
        "import numpy as np"
      ]
    },
    {
      "cell_type": "code",
      "execution_count": null,
      "metadata": {
        "id": "Mg6qjvCmBIkY"
      },
      "outputs": [],
      "source": [
        "# то же самое, но используем команду numpy для создания дискретного набора от 0 до 5 (50 точек)\n",
        "x = np.linspace(0, 5, 50)\n",
        "y = x"
      ]
    },
    {
      "cell_type": "code",
      "execution_count": null,
      "metadata": {
        "id": "VkegSpwbBKvY"
      },
      "outputs": [],
      "source": [
        "plt.title(\"Линейная зависимость y = x\") # подпись для заголовка\n",
        "plt.xlabel(\"x\") # подись для оси х\n",
        "plt.ylabel(\"y\") # подись для оси y\n",
        "plt.grid()      # включение отображение крупной сетки\n",
        "plt.plot(x, y)\n",
        "plt.show()"
      ]
    },
    {
      "cell_type": "code",
      "execution_count": null,
      "metadata": {
        "id": "ok0JxOx5ByDw"
      },
      "outputs": [],
      "source": [
        "plt.title(\"y = x и y=x^3\")\n",
        "plt.xlabel(\"x\")\n",
        "plt.ylabel(\"y\")\n",
        "plt.grid()\n",
        "# можно менять цвет и формат вывода графика, вариантов много\n",
        "plt.plot(x, y, \"r*\", label='y=x')\n",
        "plt.plot(x, [i**3 for i in x], \"g*\", label='y=x^3')\n",
        "plt.legend()\n",
        "plt.show()"
      ]
    },
    {
      "cell_type": "markdown",
      "metadata": {
        "id": "6rGGiitjDrwi"
      },
      "source": [
        "## Несколько графиков"
      ]
    },
    {
      "cell_type": "code",
      "execution_count": null,
      "metadata": {
        "id": "moCMn2E5DypG"
      },
      "outputs": [],
      "source": [
        "y1 = x\n",
        "y2 = [i**3 for i in x]\n",
        "\n",
        "# Построение графиков\n",
        "plt.figure(figsize=(9, 9)) # создаём фигуру и задаём её размеры\n",
        "plt.subplot(2, 1, 1) # выбираем нужную фигуру\n",
        "plt.plot(x, y1)\n",
        "plt.plot(x, y2)\n",
        "plt.ylabel(\"y1\", fontsize=14)\n",
        "plt.grid(True)\n",
        "plt.subplot(2, 1, 2) # выбираем следующую фигуру\n",
        "plt.plot(x, y2, c='r')\n",
        "plt.xlabel(\"x\", fontsize=14)\n",
        "plt.ylabel(\"y2\", fontsize=14)\n",
        "plt.grid(True)"
      ]
    },
    {
      "cell_type": "code",
      "execution_count": null,
      "metadata": {
        "id": "IW5AN9OSEOO3"
      },
      "outputs": [],
      "source": [
        "# размер меньше, чем у фигур выше\n",
        "# оба графика на одной фигуре\n",
        "plt.xlabel(\"x\")\n",
        "plt.ylabel(\"y1, y2\")\n",
        "plt.grid()\n",
        "plt.scatter(x, y1, x, y2) # цвета графиков будут задавать последовательно в стандартном порядке\n",
        "plt.show()"
      ]
    },
    {
      "cell_type": "code",
      "source": [
        "# размер меньше, чем у фигур выше\n",
        "# оба графика на одной фигуре\n",
        "plt.xlabel(\"x\")\n",
        "plt.ylabel(\"y1, y2\")\n",
        "plt.grid()\n",
        "plt.plot(x, y1) # цвета графиков будут задавать последовательно в стандартном порядке\n",
        "plt.plot(x, y2)\n",
        "plt.show()"
      ],
      "metadata": {
        "id": "HqCXaD0Kq6br"
      },
      "execution_count": null,
      "outputs": []
    },
    {
      "cell_type": "markdown",
      "metadata": {
        "id": "WdY_FvGWFR_o"
      },
      "source": [
        "На всякий случай мы подобрали картинку, которая показывает разные параметры фигуры в библиотеке matplotlib\n",
        "\n",
        "![Разные параметры диаграммы.py](https://drive.google.com/uc?id=1Y1dDMy991toCzuLIb-tctWSs18FGzMfZ)"
      ]
    },
    {
      "cell_type": "markdown",
      "metadata": {
        "id": "kQn0DgIGGHq8"
      },
      "source": [
        "## Диаграмма разброса точек\n",
        "\n",
        "Следующий популярный вид графика - график разброса точек. При построении этого графика используем другой подход, нежели использовали раннее. Поработаем с объектами.\n",
        "\n",
        "Заметим, что получить график разброса точек можно и из обычного графка plot. Но при профессиональном использовании scatter даёт больше возможностей."
      ]
    },
    {
      "cell_type": "code",
      "execution_count": null,
      "metadata": {
        "id": "_glhWTPkGKsh"
      },
      "outputs": [],
      "source": [
        "x = np.random.rand(1000)    #  x - координаты точек\n",
        "y = np.random.rand(1000)    #  y - координаты точек\n",
        "\n",
        "fig, ax = plt.subplots(2, 2)\n",
        "\n",
        "ax[0, 0].scatter(x, y, c = 'deeppink')    #  цвет точек\n",
        "ax[1, 0].scatter(x, y, c = 'red')    #  цвет точек\n",
        "x2 = np.linspace(0, 5, 50)\n",
        "y2 = x2\n",
        "ax[0, 1].plot(x2, y2, c = 'red')    #  цвет точек\n",
        "x2 = np.linspace(0, 5, 50)\n",
        "y2 = np.cos(x2)\n",
        "ax[1, 1].plot(x2, y2, c = 'blue')    #  цвет точек\n",
        "\n",
        "#ax.set_facecolor('black')     #  цвет области Axes\n",
        "\n",
        "plt.show()"
      ]
    },
    {
      "cell_type": "markdown",
      "metadata": {
        "id": "CUsM0UMb5y-J"
      },
      "source": [
        "Построим чуть более сложный вариант, на котором разместим данные разного типа."
      ]
    },
    {
      "cell_type": "code",
      "execution_count": null,
      "metadata": {
        "id": "encbceDw5nna"
      },
      "outputs": [],
      "source": [
        "x = np.random.rand(5000)\n",
        "# создадим четыре варианта данных в случайном диапазоне, используя гамма-распределение (или любое другое)\n",
        "# количество точек - 5000\n",
        "y1 = np.random.gamma(1, size = 5000)\n",
        "y2 = np.random.gamma(2, size = 5000)\n",
        "y3 = np.random.gamma(4, size = 5000)\n",
        "y4 = np.random.gamma(8, size = 5000)\n",
        "\n",
        "fig, ax = plt.subplots()\n",
        "\n",
        "# s определяет размер точек\n",
        "# ключ цвета из {'b', 'g', 'r', 'c', 'm', 'y', 'k', 'w'}:\n",
        "ax.scatter(x, y1, c = 'r', s = 1)\n",
        "# RGB:\n",
        "ax.scatter(x + 1, y2, c = [[0.1, 0.63, 0.55]], s = 5)\n",
        "# hex RGB:\n",
        "ax.scatter(x + 2, y3, c = '#ad09a3', s = 10)\n",
        "# уровень серого в интервале [0, 1]:\n",
        "ax.scatter(x + 3, y4, c = ['0.4'], s = 20)\n",
        "\n",
        "#  Увеличим размер графика:\n",
        "fig.set_figwidth(14)\n",
        "fig.set_figheight(14)\n",
        "\n",
        "plt.show()"
      ]
    },
    {
      "cell_type": "markdown",
      "metadata": {
        "id": "BqzSnN-36yoD"
      },
      "source": [
        "## Гистограммы\n",
        "\n",
        "Крайне популярный вариант диаграмм, который показывает сколько объектов (в общечеловеческом смысле) относятся к тому или иному типу. Иначе говоря, распределение объектов по разным типам или классам."
      ]
    },
    {
      "cell_type": "code",
      "execution_count": null,
      "metadata": {
        "id": "s_k-xqOn7fVh"
      },
      "outputs": [],
      "source": [
        "x = np.arange(1, 5)\n",
        "y = np.random.randint(1, 20, size = 4)\n",
        "\n",
        "fig, ax = plt.subplots()\n",
        "\n",
        "ax.bar(x, y)\n",
        "\n",
        "ax.set_facecolor('black') # обратите внимание, что теперь можно явно видеть часть figure и часть axes на графике.\n",
        "fig.set_facecolor('floralwhite')\n",
        "\n",
        "plt.show()\n"
      ]
    },
    {
      "cell_type": "markdown",
      "metadata": {
        "id": "00vKI5zu8nnI"
      },
      "source": [
        "Можно создавать несколько диаграм на разных частях фигуры. Для этого нужно использовать команду subplots.\n",
        "\n",
        "В случае с гистограммами это крайне важно, так как иначе они начинают перекрывать друг друга."
      ]
    },
    {
      "cell_type": "code",
      "execution_count": null,
      "metadata": {
        "id": "HQthuKBn8HiQ"
      },
      "outputs": [],
      "source": [
        "x1 = np.arange(1, 8)\n",
        "y1 = np.random.randint(1, 20, size = 7)\n",
        "x2 = np.arange(1, 51)\n",
        "y2 = np.random.randint(1, 20, size = 50)\n",
        "\n",
        "fig, axes = plt.subplots(2, 1)\n",
        "\n",
        "axes[0].bar(x1, y1)\n",
        "axes[1].bar(x2, y2)\n",
        "\n",
        "axes[0].set_facecolor('yellow')\n",
        "axes[1].set_facecolor('white')\n",
        "fig.set_facecolor('floralwhite')\n",
        "\n",
        "plt.show()"
      ]
    },
    {
      "cell_type": "code",
      "execution_count": null,
      "metadata": {
        "id": "vPKrrDqO8aId"
      },
      "outputs": [],
      "source": [
        "x = np.arange(1, 8)\n",
        "y1 = np.random.randint(1, 25, size = 7)\n",
        "y2 = np.random.randint(1, 25, size = 7)\n",
        "\n",
        "fig, ax = plt.subplots()\n",
        "\n",
        "ax.bar(x, y1)\n",
        "ax.bar(x, y2)\n",
        "\n",
        "fig.set_figwidth(12)    #  ширина Figure\n",
        "fig.set_figheight(6)    #  высота Figure\n",
        "\n",
        "ax.set_title('На этой диаграмме одни столбики перекрывают другие столбики')\n",
        "\n",
        "plt.show()"
      ]
    },
    {
      "cell_type": "code",
      "execution_count": null,
      "metadata": {
        "id": "VYlqSnc79Y0i"
      },
      "outputs": [],
      "source": [
        "fig, ax = plt.subplots()\n",
        "\n",
        "ax.bar(x-0.2, y1, width = 0.4) #небольшой лайфхак, сдвигаем позицию X и влево\n",
        "# или вправо относительно центра расположения столбика, вместе с коррекцией\n",
        "# ширины столбика\n",
        "ax.bar(x+0.2, y2, width = 0.4)\n",
        "\n",
        "plt.show()"
      ]
    },
    {
      "cell_type": "markdown",
      "metadata": {
        "id": "0D-1qY6D96t6"
      },
      "source": [
        "## Несколько других видов графиков"
      ]
    },
    {
      "cell_type": "markdown",
      "metadata": {
        "id": "zTn_IqKa993u"
      },
      "source": [
        "### Коррелограмма\n",
        "\n",
        "Данный вид графика используется для того, что визуализировать наличие корелляционной связи между различными рядами данных. Нам потребуется использовать графики такого типа. Для их использования необходимо подключить другой модуль seaborn."
      ]
    },
    {
      "cell_type": "code",
      "execution_count": null,
      "metadata": {
        "id": "XQyVxhCl-O7X"
      },
      "outputs": [],
      "source": [
        "import seaborn as sns\n",
        "import pandas as pd"
      ]
    },
    {
      "cell_type": "code",
      "source": [
        "df = pd.read_csv(\"https://github.com/selva86/datasets/raw/master/mtcars.csv\")\n",
        "df = df.drop(['cars', 'carname'], axis=1)\n",
        "df.corr()"
      ],
      "metadata": {
        "id": "u-vpxMwl07qh"
      },
      "execution_count": null,
      "outputs": []
    },
    {
      "cell_type": "code",
      "execution_count": null,
      "metadata": {
        "id": "Q4NzCBky99AO"
      },
      "outputs": [],
      "source": [
        "df = pd.read_csv(\"https://github.com/selva86/datasets/raw/master/mtcars.csv\")\n",
        "df = df.drop(['cars', 'carname'], axis=1)\n",
        "# обратите внимание, pandas способен считывать данные из файла по ссылке\n",
        "\n",
        "# Plot\n",
        "plt.figure(figsize=(12,10), dpi= 80)\n",
        "sns.heatmap(df.corr(), xticklabels=df.corr().columns,\n",
        "            yticklabels=df.corr().columns, cmap='RdYlGn', center=0, annot=True)\n",
        "\n",
        "# Decorations\n",
        "plt.title('Коррелограмма для набора данных mtcars', fontsize=22)\n",
        "plt.xticks(fontsize=12)\n",
        "plt.yticks(fontsize=12)\n",
        "plt.show()"
      ]
    },
    {
      "cell_type": "markdown",
      "metadata": {
        "id": "Op02D5FC-x_K"
      },
      "source": [
        "### Парные зависимости\n",
        "\n",
        "Ещё один функциональный вариант графиков, который пригодится при работе с наборами данных из модуля sns. Визуализирует разброс каждой пары данных."
      ]
    },
    {
      "cell_type": "code",
      "execution_count": null,
      "metadata": {
        "id": "pCes0Mwh-z4p"
      },
      "outputs": [],
      "source": [
        "df = sns.load_dataset('iris')\n",
        "\n",
        "# Plot\n",
        "plt.figure(figsize=(10,8), dpi= 80)\n",
        "sns.pairplot(df, kind=\"reg\", hue=\"species\")\n",
        "plt.show()"
      ]
    },
    {
      "cell_type": "markdown",
      "source": [
        "\n",
        "---\n",
        "\n",
        "\n",
        "# 4. Пакет Networkx\n",
        "\n",
        "\n",
        "---\n"
      ],
      "metadata": {
        "id": "lNeWUGiKyvQq"
      }
    },
    {
      "cell_type": "markdown",
      "source": [
        "**Граф** — это форма визуализации, позволяющая показывать и анализировать отношения между сущностями.\n",
        "\n",
        "* **Узел (Node)** — фундаментальный элемент графа, общеизвестный под названием вершина.\n",
        "* **Ребро (Edge)** — соединение узлов графа."
      ],
      "metadata": {
        "id": "Cgt1sK5euZLv"
      }
    },
    {
      "cell_type": "markdown",
      "source": [
        "![image.png](data:image/png;base64,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)"
      ],
      "metadata": {
        "id": "b3w_TODGuVGx"
      }
    },
    {
      "cell_type": "markdown",
      "source": [
        "\n",
        "\n",
        "**Неориентированный граф** не имеет направления между узлами, то есть не имеет стрелок, а его ребра двунаправлены. Пример подобного графа приведен в следующей ячейке."
      ],
      "metadata": {
        "id": "XujfHOclt-d_"
      }
    },
    {
      "cell_type": "markdown",
      "source": [
        "![image.png](data:image/png;base64,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)"
      ],
      "metadata": {
        "id": "WcjnnNYKucQP"
      }
    },
    {
      "cell_type": "markdown",
      "source": [
        "Пакет [NetworkX](https://networkx.org/documentation/stable/index.html#) предназначен для создания, манипуляции и изучения структуры, динамики и функционирования сложных сетевых структур, графов. Данный пакет понадобится в нам дальнейшем для реализации функциональной семантической сети."
      ],
      "metadata": {
        "id": "8XaLzS-d0rxc"
      }
    },
    {
      "cell_type": "markdown",
      "source": [
        "По более формальному определению, граф - это набор узлов (вершин) вместе с идентифицированными парами узлов (называемыми ребрами, связями и т. д.). В NetworkX узлами могут быть любые хэшируемые объекты, например, текстовая строка, изображение, объект XML, другой граф, настраиваемый объект узла и т.д. (за исключением объекта Python - None)"
      ],
      "metadata": {
        "id": "HiCh3Inm1ZC0"
      }
    },
    {
      "cell_type": "markdown",
      "source": [
        "NetworkX уже предустановлен в Google Colab. Если необходимо установить пакет локальной, воспользуйтесь следующей командой:"
      ],
      "metadata": {
        "id": "bQUzgGAO1vg_"
      }
    },
    {
      "cell_type": "code",
      "source": [
        "!pip install networkx"
      ],
      "metadata": {
        "id": "yyoffa-1153Z"
      },
      "execution_count": null,
      "outputs": []
    },
    {
      "cell_type": "markdown",
      "source": [
        "Граф G может быть построен несколькими способами. NetworkX включает в себя  [множество функций генератора графов](https://networkx.org/documentation/stable/reference/generators.html), а также [средства для чтения и записи графов в различных форматах](https://networkx.org/documentation/stable/reference/readwrite/index.html). В целях реализации функциональной семантической сети, рассмотрим способы задания графа вручную. Функция `nx.Graph()` позволяет создать пустой неориентированный граф без вершин и ребер."
      ],
      "metadata": {
        "id": "LXmhhJVH2cVP"
      }
    },
    {
      "cell_type": "code",
      "source": [
        "import networkx as nx\n",
        "G = nx.Graph()"
      ],
      "metadata": {
        "id": "QSbE42T00nXS"
      },
      "execution_count": null,
      "outputs": []
    },
    {
      "cell_type": "markdown",
      "source": [
        "Вершины можно добавлять по одной c помощью функции `add_node` и добавлять сразу несколько вершин, списком, с помощью функции `add_nodes_from`."
      ],
      "metadata": {
        "id": "8yXdJHH53RQb"
      }
    },
    {
      "cell_type": "code",
      "source": [
        "G.add_node(1)\n",
        "G.add_nodes_from([2, 3])"
      ],
      "metadata": {
        "id": "_j51GVmC3qaC"
      },
      "execution_count": null,
      "outputs": []
    },
    {
      "cell_type": "markdown",
      "source": [
        "Функция `add_nodes_from` позволяет также добавлять вершины в форме кортежа `(node, node_attribute_dict)`, одновременно задавая хранимую в них информацию."
      ],
      "metadata": {
        "id": "fG8HxDkF37J0"
      }
    },
    {
      "cell_type": "code",
      "source": [
        "G.add_nodes_from([(4, {\"color\": \"red\"}), (5, {\"color\": \"green\"})])"
      ],
      "metadata": {
        "id": "c0YgB6rv4dmN"
      },
      "execution_count": null,
      "outputs": []
    },
    {
      "cell_type": "markdown",
      "source": [
        "Узлы из одного графа также могут быть включены в другой с помощью функции `add_nodes_from`, пример приведен в последующей ячейке кода"
      ],
      "metadata": {
        "id": "Ky9SIblY4tTR"
      }
    },
    {
      "cell_type": "code",
      "source": [
        "H = nx.path_graph(10)\n",
        "G.add_nodes_from(H)"
      ],
      "metadata": {
        "id": "JVL7h9Mq4wHZ"
      },
      "execution_count": null,
      "outputs": []
    },
    {
      "cell_type": "markdown",
      "source": [
        "Граф G теперь содержит узлы H как узлы G. В противоположность этому, можно использовать граф H как узел в G."
      ],
      "metadata": {
        "id": "8vSaVBk94yhS"
      }
    },
    {
      "cell_type": "code",
      "source": [
        "G.add_node(H)"
      ],
      "metadata": {
        "id": "lSmCV86Q48kB"
      },
      "execution_count": null,
      "outputs": []
    },
    {
      "cell_type": "markdown",
      "source": [
        "Граф G теперь содержит H как узел. Это позволяет создавать графы графов, графы файлов, графы функций и многое другое."
      ],
      "metadata": {
        "id": "HqKhO06w4-WN"
      }
    },
    {
      "cell_type": "markdown",
      "source": [
        "После задания вершин, необходимо добавить ребра графа. В граф G можно добавляя по одному ребру за раз с помощью функции `add_edge` или списком с помощью функции `add_edges_from` (передавая как кортежи `(node, node node_attribute_dict)`, да, ребра тоже могут хранить атрибуты):"
      ],
      "metadata": {
        "id": "zkhtqBEt5nZn"
      }
    },
    {
      "cell_type": "code",
      "source": [
        "G.add_edge(1, 2)\n",
        "e = (2, 3)\n",
        "G.add_edge(*e)"
      ],
      "metadata": {
        "id": "GxhfkMt154Vh"
      },
      "execution_count": null,
      "outputs": []
    },
    {
      "cell_type": "code",
      "source": [
        "G.add_edges_from([(1, 2), (1, 3)])"
      ],
      "metadata": {
        "id": "bwXf5OtJHxj8"
      },
      "execution_count": null,
      "outputs": []
    },
    {
      "cell_type": "code",
      "source": [
        "G.add_edges_from([(1, 2), (2, 3, {'weight': 3.1415})])\n",
        "# можно передать и из другого графа\n",
        "G.add_edges_from(H.edges)"
      ],
      "metadata": {
        "id": "72ET1wP-IZDm"
      },
      "execution_count": null,
      "outputs": []
    },
    {
      "cell_type": "markdown",
      "source": [
        "`G.clear()` позволяет очистить граф от вершин и ребер.\n",
        "\n",
        "`G.nodes` позволяет получить список узлов.\n",
        "\n",
        "`G.edges` позволяет получить список ребер."
      ],
      "metadata": {
        "id": "MMwfnMkTIA3r"
      }
    },
    {
      "cell_type": "code",
      "source": [
        "G = nx.Graph()\n",
        "G.add_nodes_from([1, 2, 3, 'A'])\n",
        "G.add_edges_from([(1, 2), (2, 3, {'weight': 3.1415}), ('A', 4)])\n",
        "print(G.nodes)\n",
        "print(G.edges)\n",
        "G.clear()\n",
        "print(G.clear())"
      ],
      "metadata": {
        "id": "_-deNZIfJAY7"
      },
      "execution_count": null,
      "outputs": []
    },
    {
      "cell_type": "markdown",
      "source": [
        "Индексация графа по указанной вершине позволяет получить словарь соединенных с ней вершин:"
      ],
      "metadata": {
        "id": "RyzOHgDtLdTo"
      }
    },
    {
      "cell_type": "code",
      "source": [
        "G = nx.Graph()\n",
        "G.add_nodes_from([1, 2, 3, 'A'])\n",
        "G.add_edges_from([(1, 2), (2, 3, {'weight': 3.1415}), ('A', 3)])\n",
        "print('Узлы, соединенные с узлом A:', G['A'])\n",
        "print('Узлы, соединенные с узлом 2:', G[2])"
      ],
      "metadata": {
        "id": "9jqTlPOXKlmB"
      },
      "execution_count": null,
      "outputs": []
    },
    {
      "cell_type": "markdown",
      "source": [
        "Индексация графа **через параметры nodes и edges** позволяет изменить хранимые атрибуты:"
      ],
      "metadata": {
        "id": "QXwOpjjmLsp6"
      }
    },
    {
      "cell_type": "code",
      "source": [
        "print(G.nodes['A'])\n",
        "print(G.edges['A', 3])\n",
        "G.nodes['A']['weight'] = 12\n",
        "G.edges['A', 3]['weight'] = 12\n",
        "G.edges[('A', 3)]['weight'] = 12\n",
        "print(G.nodes['A'])\n",
        "print(G.edges['A', 3])"
      ],
      "metadata": {
        "id": "NpsWPs2eJaAO"
      },
      "execution_count": null,
      "outputs": []
    },
    {
      "cell_type": "markdown",
      "source": [
        "NetworkX не является в первую очередь пакетом для рисования графов, но включены базовые возможности рисования с помощью Matplotlib, а также интерфейс для использования программного пакета Graphviz с открытым исходным кодом. Они являются частью модуля networkx.drawing. Для простого отображения графа можно использовать встроенный метод `draw`:"
      ],
      "metadata": {
        "id": "K3r3rMccMJNx"
      }
    },
    {
      "cell_type": "code",
      "source": [
        "import matplotlib.pyplot as plt\n",
        "G = nx.petersen_graph()\n",
        "subax1 = plt.subplot(121)\n",
        "nx.draw(G, with_labels=True, font_weight='bold')\n",
        "subax2 = plt.subplot(122)\n",
        "nx.draw_shell(G, nlist=[range(5, 10), range(5)], with_labels=True, font_weight='bold')\n",
        "plt.show()"
      ],
      "metadata": {
        "id": "PGLzEaJ8MUEa"
      },
      "execution_count": null,
      "outputs": []
    },
    {
      "cell_type": "code",
      "source": [
        "# можно кастомизировать настройки отображения\n",
        "options = {\n",
        "    'node_color': 'black',\n",
        "    'node_size': 100,\n",
        "    'width': 3,\n",
        "}\n",
        "subax1 = plt.subplot(221)\n",
        "nx.draw_random(G, **options)\n",
        "subax2 = plt.subplot(222)\n",
        "nx.draw_circular(G, **options)\n",
        "subax3 = plt.subplot(223)\n",
        "nx.draw_spectral(G, **options)\n",
        "subax4 = plt.subplot(224)\n",
        "nx.draw_shell(G, nlist=[range(5,10), range(5)], **options)"
      ],
      "metadata": {
        "id": "NTrbODEuMmSx"
      },
      "execution_count": null,
      "outputs": []
    },
    {
      "cell_type": "markdown",
      "source": [
        "Существуют и иные функции, где можно еще больше кастомизировать отображение:\n",
        "\n",
        "* nx.draw_networkx_nodes() — рисует все узлы графа;\n",
        "* nx.draw_networkx_labels() — рисует метки на каждом узле;\n",
        "* nx.draw_networkx_edges() — рисует ребра, соединяющие узлы.\n",
        "\n",
        "Эти функции позволяют настраивать внешний вид отдельных узлов, меток и ребер.\n",
        "Параметр pos позволяетс установить порядок компоновки и позиционирование ребер и вершин в целях отображения (по кругу, по свецифичным алгоритмам и т.д.)"
      ],
      "metadata": {
        "id": "LKThWbxSNRoL"
      }
    },
    {
      "cell_type": "code",
      "source": [
        "G = nx.Graph()\n",
        "G.add_edge(\"Singapore\",\"San Francisco\")\n",
        "G.add_edge(\"San Francisco\",\"Tokyo\")\n",
        "G.add_edges_from(\n",
        "    [\n",
        "        (\"Riga\",\"Copenhagen\"),\n",
        "        (\"Copenhagen\",\"Singapore\"),\n",
        "        (\"Singapore\",\"Tokyo\"),\n",
        "        (\"Riga\",\"San Francisco\"),\n",
        "        (\"San Francisco\",\"Singapore\"),\n",
        "    ]\n",
        ")\n",
        "\n",
        "pos = nx.circular_layout(G)\n",
        "nx.draw(G, pos, with_labels = True)\n",
        "nx.draw_networkx_edge_labels(\n",
        "    G,\n",
        "    pos,\n",
        "    edge_labels={\n",
        "        (\"Singapore\",\"Tokyo\"): '2 flights daily',\n",
        "        (\"San Francisco\",\"Singapore\"): '5 flights daily',\n",
        "    },\n",
        "    font_color='red'\n",
        ")"
      ],
      "metadata": {
        "id": "M_UCmRk0NKDq"
      },
      "execution_count": null,
      "outputs": []
    },
    {
      "cell_type": "code",
      "source": [
        "G = nx.Graph()\n",
        "G.add_edge(\"Singapore\",\"San Francisco\")\n",
        "G.add_edge(\"San Francisco\",\"Tokyo\")\n",
        "G.add_edges_from(\n",
        "    [\n",
        "        (\"Riga\",\"Copenhagen\"),\n",
        "        (\"Copenhagen\",\"Singapore\"),\n",
        "        (\"Singapore\",\"Tokyo\"),\n",
        "        (\"Riga\",\"San Francisco\"),\n",
        "        (\"San Francisco\",\"Singapore\"),\n",
        "    ]\n",
        ")\n",
        "\n",
        "pos = nx.spring_layout(G)\n",
        "nx.draw(G, pos, with_labels = True)\n",
        "nx.draw_networkx_edge_labels(\n",
        "    G,\n",
        "    pos,\n",
        "    edge_labels={\n",
        "        (\"Singapore\",\"Tokyo\"): '2 flights daily',\n",
        "        (\"San Francisco\",\"Singapore\"): '5 flights daily',\n",
        "    },\n",
        "    font_color='red'\n",
        ")"
      ],
      "metadata": {
        "id": "Fh3I2Zv1OCmr"
      },
      "execution_count": null,
      "outputs": []
    },
    {
      "cell_type": "markdown",
      "source": [
        "\n",
        "---\n",
        "\n",
        "\n",
        "# 5. Функциональные семантические сети\n",
        "\n",
        "\n",
        "---\n"
      ],
      "metadata": {
        "id": "dd3mMsGOyooY"
      }
    },
    {
      "cell_type": "markdown",
      "source": [],
      "metadata": {
        "id": "yJrX802I6R8E"
      }
    },
    {
      "cell_type": "markdown",
      "source": [
        "**Знакомство с методологией построения функциональный семантических сетей**\n",
        "\n",
        "\n",
        "---"
      ],
      "metadata": {
        "id": "THjr629pykAq"
      }
    },
    {
      "cell_type": "markdown",
      "source": [
        "Стандартного определения семантической сети не существует, но обычно под ней подразумевают систему знаний, имеющую определенный смысл в виде целостного образа сети, узлы которой соответствуют понятиям и объектам, а дуги – отношениям и связям. Подмножеством семантических сетей является сеть специального вида, носящая название  «**функциональная семантическая сеть**» (**ФСС**). Она представляется в виде графа с вершинами двух типов.\n",
        "\n",
        "**Вершинам первого типа** соответствуют различные параметры, участвующие в решении задачи. Эти параметры могут либо задаваться как исходные данные, либо вычисляться по ходу выполнения будущей программы решения задач.\n",
        "\n",
        "**Вершинам второго типа** соответствуют функциональные отношения, связывающие между собой эти параметры.  Поясним, как используется ФСС при решении конкретных задач, связанных с планированием вычислений. Пусть проблемная область – это планиметрия треугольника и необходимо решать задачи из планиметрии треугольника, вычисляя одни параметры через другие.  Причём исходными данными являются не формулы, а заранее заданные математические отношения ($\\mathrm{R}_i$), поскольку до формулировки задачи не известно, что является исходными данными  и что должно быть результатом.\n",
        "\n",
        "\\begin{array}{|c|c|}\n",
        "\\hline & Математические \\; отношения \\\\ \\hline\n",
        "\\mathrm{R}_1 & \\alpha + \\beta + \\gamma - \\pi = 0 \\\\ \\hline\n",
        "\\mathrm{R}_2 & (a / \\sin \\alpha) - (b / \\sin \\beta) \\\\ \\hline\n",
        "\\mathrm{R}_3 & h_c - b \\cdot (\\sin \\alpha) = 0 \\\\ \\hline\n",
        "\\mathrm{R}_4 & c \\cdot (\\sin \\gamma) - b \\cdot (\\sin \\beta) = 0 \\\\ \\hline\n",
        "\\mathrm{R}_5 & a + b + c - p = 0 \\\\ \\hline\n",
        "\\mathrm{R}_6 & (c \\cdot h_c) / 2 - S = 0 \\\\ \\hline\n",
        "\\mathrm{R}_7 & \\sqrt{\\frac{p}{2}\\cdot(\\frac{p}{2}-a)\\cdot(\\frac{p}{2}-b)\\cdot(\\frac{p}{2}-c)} - S = 0 \\\\ \\hline\n",
        "\\end{array}\n",
        "\n",
        "Фрагмент ФСС, соответствующий проблемной области показан ниже."
      ],
      "metadata": {
        "id": "mW84yZgsqBpU"
      }
    },
    {
      "cell_type": "markdown",
      "source": [
        "![ф2.png](data:image/png;base64,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)"
      ],
      "metadata": {
        "id": "jFo24aWvqUrJ"
      }
    },
    {
      "cell_type": "markdown",
      "source": [
        "Здесь кружки соответствуют параметрам, а прямоугольники – функциональным отношениям между ними. Будем считать, что все отношения имеют разрешения относительно всех входящих в них параметров. Так, например, отношение **R6**  будет иметь три различных разрешения, показанных ниже."
      ],
      "metadata": {
        "id": "h_9rv9fMro8M"
      }
    },
    {
      "cell_type": "markdown",
      "source": [
        "![ф3.png](data:image/png;base64,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)"
      ],
      "metadata": {
        "id": "ecMn1LXgryzy"
      }
    },
    {
      "cell_type": "markdown",
      "source": [
        "Пусть пользователю необходимо решить задачу:\n",
        "«**Найти площадь треугольника $S$ по известной стороне $c$ и известным прилегающим углам $\\alpha$ и $\\beta$**».\n"
      ],
      "metadata": {
        "id": "UcJEOB96sAJj"
      }
    },
    {
      "cell_type": "markdown",
      "source": [
        "Известно несколько методов вывода или планирования в ФСС.\n",
        "\n",
        "Первый – метод распространяющейся волны. В наиболее простой форме он может быть описан следующим образом.\n",
        "\n",
        "По условию задачи $c$,$\\alpha$ и $\\beta$ известны. Тогда в ФСС как бы возбуждаются вершины, соответствующие этим параметрам. Это возбуждение распространяется от них по ребрам к вершинам-прямоугольникам. Условием возбуждения этих вершин является возбуждение $(m - 1)$ ребра, подходящих к ним, где $m$ – число ребер, подходящих к вершинам-прямоугольникам. Возбуждение вершины-прямоугольника соответствует разрешению отношения, написанного внутри прямоугольника относительно параметра, которому соответствует невозбужденное ребро.\n",
        "\n",
        "В нашем примере возбуждение вершин $c$, $\\alpha$ и $\\beta$  приведет на следующем шаге к возбуждению вершины-прямоугольника $R1$ и разрешению относительно $\\gamma$. Далее возбуждение от вершин $c$, $\\gamma$ и $\\beta$ будет передано к вершине-прямоугольнику $R4$, которая возбудиться, дав разрешение относительно $b$. После этого произойдет возбуждение вершины-прямоугольника $R3$, которая даст разрешение относительно $h_c$ и, наконец, возбудится вершина-прямоугольник $R6$, дав разрешение относительно $S$. При возбуждении вершины, соответствующей $S$, прекращается распространение волны."
      ],
      "metadata": {
        "id": "7W_ady0ysLmG"
      }
    },
    {
      "cell_type": "markdown",
      "source": [
        "В последующей ячейке кода приведены программный модуль вычисления параметров. Для задания структуры сети используется пакет Networkx, функциональные отношения заданы с помощью пакета [SympPy](https://www.sympy.org/en/index.html).\n",
        "(пакет для символьных вычислений на питоне, подобный системе Mathematica. Он работает с выражениями, содержащими символы. SymPy и Networkx уже установлен в Google Colab.)"
      ],
      "metadata": {
        "id": "oquCpwYPtCDk"
      }
    },
    {
      "cell_type": "code",
      "source": [
        "import matplotlib.pyplot as plt\n",
        "import networkx as nx\n",
        "from sympy.solvers import solve\n",
        "from sympy import symbols, Eq, sin, sqrt\n",
        "import numpy as np\n",
        "\n",
        "# Семантическая сеть\n",
        "class SemanticNet:\n",
        "    def __init__(self, nodes_var, nodes_rel, edges, labels, relations, symbols):\n",
        "        # Задаем структуру семантической сети в виде ненаправленного графа\n",
        "        # Инициализируем объект - граф\n",
        "        self.graph = nx.Graph()\n",
        "        # Добавляем вершины-параметры (переменные)\n",
        "        self.graph.add_nodes_from(nodes_var)\n",
        "        # Добавляем вершины-функциональные отношения\n",
        "        self.graph.add_nodes_from(nodes_rel)\n",
        "        # Добавляем ребра\n",
        "        self.graph.add_edges_from(edges)\n",
        "        self.nodes_var = nodes_var\n",
        "        self.nodes_rel = nodes_rel\n",
        "        self.edges = edges\n",
        "        self.active_edges = []\n",
        "        # Устанавливаем порядок упорядочивания графа в случае визуализации\n",
        "        self.pos = nx.shell_layout(self.graph)\n",
        "        self.labels = labels\n",
        "        self.symbols = symbols\n",
        "        self.relations = relations\n",
        "        self.reset_state()\n",
        "        # Устанавливаем содержимое вершин-переменных\n",
        "        for var in nodes_var:\n",
        "          self.graph.nodes[var]['var'] = self.symbols[var]\n",
        "        # Устанавливаем содержимое вершин-функций\n",
        "        for rel in nodes_rel:\n",
        "          self.graph.nodes[rel]['rel'] = self.relations[rel]\n",
        "\n",
        "    # Функция сброса состояния вершин\n",
        "    def reset_state(self):\n",
        "        self.active_edges = []\n",
        "        for node in self.graph.nodes:\n",
        "          self.graph.nodes[node]['active'] = False\n",
        "\n",
        "    # Функция визуализации графа\n",
        "    def draw(self):\n",
        "        options = {\"edgecolors\": \"tab:gray\", \"node_size\": 800, \"alpha\": 1.}\n",
        "        nx.draw_networkx_nodes(self.graph, self.pos, nodelist=self.nodes_var,\n",
        "                               **options)\n",
        "        options['node_shape'] = 's'\n",
        "        nx.draw_networkx_nodes(self.graph, self.pos, nodelist=self.nodes_rel,\n",
        "                               **options)\n",
        "        nx.draw_networkx_edges(self.graph, self.pos, width=1.0, alpha=0.5)\n",
        "        nx.draw_networkx_edges(\n",
        "            self.graph,\n",
        "            self.pos,\n",
        "            edgelist=self.edges,\n",
        "            alpha=0.5,\n",
        "        )\n",
        "        nx.draw_networkx_labels(self.graph, self.pos, self.labels,\n",
        "                                font_size=18, font_color=\"whitesmoke\")\n",
        "        plt.tight_layout()\n",
        "        plt.axis(\"off\")\n",
        "        plt.show()\n",
        "\n",
        "    # Метод прямой волны\n",
        "    def forward(self, inputs, values, target):\n",
        "        self.values = values\n",
        "        print('Исходные вершины первого типа (переменные):', inputs)\n",
        "        print('Целевая вершина первого типа (переменная):', target)\n",
        "        self.reset_state()\n",
        "        self.inputs = inputs\n",
        "        self.target = target\n",
        "        for input in self.inputs:\n",
        "          if input not in self.nodes_var:\n",
        "            print('Ошибка в задании исходных вершин первого типа (переменных)')\n",
        "            return\n",
        "        if target not in self.nodes_var:\n",
        "            print('Ошибка в задании целевой вершины первого типа (переменной)')\n",
        "            return\n",
        "        if target in inputs:\n",
        "            print('Целевая вершина первого типа уже присутствует в исходных вершинах')\n",
        "            return\n",
        "        # Активация изначальных вершин и прилегающих ребер\n",
        "        for input_node in self.inputs:\n",
        "          self.graph.nodes[input_node]['active'] = True\n",
        "          print('Активация вершины', input_node)\n",
        "          for neighbour in self.graph[input_node].keys():\n",
        "            self.active_edges.append((neighbour, input_node))\n",
        "            print('Активация ребра', (neighbour, input_node))\n",
        "\n",
        "        # Цикл распространения прямой волны\n",
        "        changed = True\n",
        "        while changed:\n",
        "          changed = False\n",
        "          for edge in self.active_edges[::-1]:\n",
        "            node = edge[0]\n",
        "            if 'rel' in self.graph.nodes[edge[1]].keys(): node = edge[1]\n",
        "            if (self.graph.nodes[node]['active'] == False):\n",
        "              # Проверка условия активации вершины-функционального отношения\n",
        "              m = len(self.graph[node].keys())\n",
        "              active_inputs = 0\n",
        "              non_active_input = None\n",
        "              for neighbour in self.graph[node].keys():\n",
        "                if self.graph.nodes[neighbour]['active']: active_inputs += 1\n",
        "                else: non_active_input = neighbour\n",
        "              if active_inputs >= m - 1:\n",
        "                # Активация вершины-функционального отношения, прилегающих ребер и вершин-переменныз\n",
        "                self.graph.nodes[node]['active'] = True\n",
        "                changed = True\n",
        "                print('Активация функционального отношения', node)\n",
        "                if active_inputs == m - 1 and non_active_input != 'p' and node !='R7':\n",
        "                  print(self.symbols[non_active_input], '=', solve(self.graph.nodes[node]['rel'], self.symbols[non_active_input])[0])\n",
        "                  self.values[self.symbols[non_active_input]] = solve(self.graph.nodes[node]['rel'].subs(self.values), self.symbols[non_active_input])[0]\n",
        "                print(self.values)\n",
        "                for neighbour in self.graph[node].keys():\n",
        "                  if ((node, neighbour) not in self.active_edges):\n",
        "                    self.active_edges.append((node, neighbour))\n",
        "                    print('Активация ребра', (node, neighbour))\n",
        "                  if (self.graph.nodes[neighbour]['active'] == False):\n",
        "                    self.graph.nodes[neighbour]['active'] = True\n",
        "                    print('Активация вершины', neighbour)\n",
        "                    for neighbour_inner in self.graph[neighbour].keys():\n",
        "                      if ((neighbour_inner, neighbour) not in self.active_edges):\n",
        "                        self.active_edges.append((neighbour_inner, neighbour))\n",
        "                        print('Активация ребра', (neighbour_inner, neighbour))\n",
        "\n",
        "          if (self.graph.nodes[target]['active']):\n",
        "            print('Значение целевой переменной ', target, ' :', self.values[self.symbols[target]])\n",
        "            return\n",
        "\n",
        "        print('Значение целевой переменной недостижимо')\n"
      ],
      "metadata": {
        "id": "STSX1ZRF8hzj"
      },
      "execution_count": null,
      "outputs": []
    },
    {
      "cell_type": "markdown",
      "source": [
        "В последующей ячейке кода задаем предметную область и визуализируем граф."
      ],
      "metadata": {
        "id": "58UNXDQvvUVT"
      }
    },
    {
      "cell_type": "code",
      "source": [
        "nodes_var = ['alpha', 'beta', 'gamma', 'a', 'b', 'c', 'h_c', 'p', 'S']\n",
        "nodes_rel = ['R1', 'R2', 'R3', 'R4', 'R5', 'R6', 'R7']\n",
        "\n",
        "edges = [\n",
        "    ('R1', 'alpha'), ('R1', 'beta'), ('R1', 'gamma'),\n",
        "    ('R2', 'alpha'), ('R2', 'beta'), ('R2', 'a'), ('R2', 'b'),\n",
        "    ('R3', 'h_c'), ('R3', 'b'), ('R3', 'alpha'),\n",
        "    ('R4', 'b'), ('R4', 'c'), ('R4', 'beta'),('R4', 'gamma'),\n",
        "    ('R5', 'a'), ('R5', 'b'), ('R5', 'c'),('R5', 'p'),\n",
        "    ('R6', 'S'), ('R6', 'h_c'), ('R6', 'c'),\n",
        "    ('R7', 'a'), ('R7', 'b'), ('R7', 'c'), ('R7', 'p'), ('R7', 'S'),\n",
        "]\n",
        "\n",
        "labels = {\n",
        "  'alpha': r\"$\\alpha$\", 'beta': r\"$\\beta$\", 'gamma': r\"$\\gamma$\",\n",
        "  'R1': r\"$R1$\", 'R2': r\"$R2$\", 'R3': r\"$R3$\", 'R4': r\"$R4$\",\n",
        "  'R5': r\"$R5$\", 'R6': r\"$R6$\", 'R7': r\"$R7$\",\n",
        "  'a': r\"$a$\", 'b': r\"$b$\", 'c': r\"$c$\", 'h_c': r\"$h_c$\",\n",
        "  'p': r\"$p$\", 'S': r\"$S$\",\n",
        "}\n",
        "\n",
        "alpha, beta, gamma, pi, S, p, h_c, a, b, c = symbols('alpha beta gamma pi S p h_c a b c')\n",
        "keys = ['alpha', 'beta', 'gamma', 'pi', 'S', 'p', 'h_c', 'a', 'b', 'c']\n",
        "values = [alpha, beta, gamma, pi, S, p, h_c, a, b, c]\n",
        "symbols = dict(zip(keys, values))\n",
        "relations = {\n",
        "  'R1': Eq(alpha + beta + gamma - pi, 0),\n",
        "  'R2': Eq(a / sin(alpha) - b / sin(beta), 0),\n",
        "  'R3': Eq(h_c - b * sin(alpha), 0),\n",
        "  'R4': Eq(c * sin(gamma) - b * sin(beta), 0),\n",
        "  'R5': Eq(a + b + c - p, 0),\n",
        "  'R6': Eq((c * h_c) / 2 - S, 0),\n",
        "  'R7': Eq(sqrt(p / 2 * (p / 2 - a) * (p / 2 - b)* (p / 2 - c)) - S, 0)\n",
        "}\n",
        "\n",
        "net = SemanticNet(nodes_var, nodes_rel, edges, labels, relations, symbols)\n",
        "net.draw()"
      ],
      "metadata": {
        "id": "xSP4j8u9vRIS"
      },
      "execution_count": null,
      "outputs": []
    },
    {
      "cell_type": "markdown",
      "source": [
        "В последующей ячейке кода задаем условие задачи и вызываем метод прямой волны. Сначала будет выполнена вершина, вычисляющая значение параметра $\\gamma$, затем последовательно будут вычислены значения параметров $b$, $a$, $h_c$, $S$. Задача вычисления площади треугольника $S$ по известной стороне c и известным прилегающим углам $\\alpha$ и $\\beta$ успешно выполнена."
      ],
      "metadata": {
        "id": "8M2mmlwrvc0r"
      }
    },
    {
      "cell_type": "code",
      "source": [
        "inputs = ['alpha', 'beta', 'c']\n",
        "values = {alpha: np.radians(30.), beta: np.radians(25.), c: 10., pi: np.pi}\n",
        "target = 'S'\n",
        "\n",
        "net.forward(inputs, values, target)"
      ],
      "metadata": {
        "id": "74AZudnOvSvn"
      },
      "execution_count": null,
      "outputs": []
    },
    {
      "cell_type": "markdown",
      "source": [
        "---\n",
        "\n",
        "\n",
        "# 6. Задания\n",
        "\n",
        "\n",
        "---\n",
        "\n",
        "**Задание 1.** Выполнить несколько запусков функциональной семантической сети с разными входными параметрами:\n",
        "с корректно заданными исходными данными (входные переменные и целевая переменные, отличные от приведенных в примере),\n",
        "с недостаточным количеством исходных данных.\n",
        "\n",
        "**Задание 2.** Выполните, как минимум, 2 любые задачи из нижеприведенного списка. Приведите в отчете код и другие необходимые, на ваш взгляд, данные и графики."
      ],
      "metadata": {
        "id": "Ctsdirb9xzby"
      }
    },
    {
      "cell_type": "markdown",
      "metadata": {
        "id": "-EbFuvS-_y8x"
      },
      "source": [
        "**Задача 1.**\n",
        "\n",
        "Задан Series объект s, найти индекс первого элемента отсортированного s, где значения больше 5."
      ]
    },
    {
      "cell_type": "code",
      "execution_count": null,
      "metadata": {
        "id": "tkabp1FIoOVz"
      },
      "outputs": [],
      "source": [
        "# задано изначально\n",
        "import numpy as np\n",
        "import pandas as pd\n",
        "\n",
        "r = np.random.RandomState(1)\n",
        "s = pd.Series(r.uniform(0, 10, 100))\n",
        "\n",
        "# ваш код тут"
      ]
    },
    {
      "cell_type": "markdown",
      "metadata": {
        "id": "V-m7B2IxoeWO"
      },
      "source": [
        "**Задача 2.**\n",
        "\n",
        "Имеется небольшой игрушечный DataFrame, в котором необходимо провести несколько типов фильтраций и отобразить результат:\n",
        "\n",
        "* всех, кто старше 40\n",
        "* всех, кто имеет доход выше среднего по датасету\n",
        "* всех, кто имеет доход выше среднего по датасету, но надежность ниже среднего по датасету\n",
        "\n",
        "создать новые столбцы:\n",
        "\n",
        "* важность клиента = доход * надежность\n",
        "* возможная долгосрочность клиента = важность клиента * (средний возраст по датасету - возраст клиента)\n",
        "\n",
        "`подсказка: двойные условия записываются так: (условие 1) & (условие 2)`\n",
        "\n",
        "\n",
        "** примечание: столбцы не имеют отношения к реальным формулам или моделям, они необходимы только для наглядности"
      ]
    },
    {
      "cell_type": "code",
      "execution_count": null,
      "metadata": {
        "id": "78ojtEWTowvT"
      },
      "outputs": [],
      "source": [
        "# создадим тестовый датасет\n",
        "df = pd.DataFrame({\n",
        "    'имя': ['Петя', 'Вася', 'Аня', 'Света'],\n",
        "    'возраст': [45, 26, 41 , 21],\n",
        "    'доход': [100000, 80000, 150000, 60000],\n",
        "    'надежность клиента (0..1)': [0.65, 0.74, 0.87, 0.68],\n",
        "    'пол': ['муж', 'муж', 'жен', 'жен']},\n",
        "    index=[0, 1, 2, 3])\n",
        "\n",
        "df\n",
        "\n",
        "# ваш код тут\n"
      ]
    },
    {
      "cell_type": "markdown",
      "metadata": {
        "id": "jlID1qvxpNFh"
      },
      "source": [
        "**Задача 3.**\n",
        "\n",
        "Как объединить два DataFrame по двум столбцам так, чтобы остались только общие строки?\n",
        "\n",
        "Объедините df1 и df2 по столбцам fruit-frukt и weight-ves."
      ]
    },
    {
      "cell_type": "code",
      "execution_count": null,
      "metadata": {
        "id": "t-sK6pGypQQd"
      },
      "outputs": [],
      "source": [
        "df1 = pd.DataFrame({'fruit': ['apple', 'banana', 'orange'] * 3,\n",
        "                    'weight': ['low', 'medium', 'high'] * 3,\n",
        "                    'price': np.random.randint(0, 100, 9)})\n",
        "\n",
        "df2 = pd.DataFrame({'frukt': ['apple', 'banana', 'melon'] * 2,\n",
        "                    'ves': ['low', 'high'] * 3,\n",
        "                    'price': np.random.randint(0, 100, 6)})\n",
        "\n",
        "# ваш код тут"
      ]
    },
    {
      "cell_type": "markdown",
      "source": [
        "**Задача 4.**\n",
        "Сгенерировать и добавить номера телефонов следующего вида +7(000)000 00 00 в таблицу\n",
        "\n"
      ],
      "metadata": {
        "id": "ZEbxVO9XWHOn"
      }
    },
    {
      "cell_type": "code",
      "source": [
        "d = [{\"Name\": \"Виктор\", \"Age\": 18},\n",
        "     {\"Name\": \"Мария\", \"Age\": 21},\n",
        "     {\"Name\": \"Иван\", \"Age\": 19},\n",
        "     {\"Name\": \"Иван\", \"Age\": 25},\n",
        "     {\"Name\": \"Алексей\", \"Age\": 20}]\n",
        "\n",
        "df = pd.DataFrame(d)\n",
        "\n",
        "df\n",
        "\n",
        "# ваш код тут"
      ],
      "metadata": {
        "id": "Q953FlkvWGfY"
      },
      "execution_count": null,
      "outputs": []
    },
    {
      "cell_type": "markdown",
      "source": [
        "**Задача 5.**\n",
        "\n",
        "Скачать файл по ссылке https://disk.yandex.ru/d/ZeDbB3rqhIr1NA , считать через pandas. Получить список уникальных значений - стран в колонке \"Country\", отфильтровать и получить данные только по выпускникам колледжа. Убрать строки с пропусками в данных (NaN). (В случае ошибок типов можете конвертировать колонки к нужным типам через .astype(str) или .astype(int). Подсчитать макс значение, среднее и СКО для числа детей (household_children) в отфильтрованных данных."
      ],
      "metadata": {
        "id": "35SFuZanav5c"
      }
    },
    {
      "cell_type": "markdown",
      "source": [
        "**Задача 6.**\n",
        "\n",
        "Скачать файл по ссылке https://disk.yandex.ru/i/uoN5eQE1qPCXCQ , считать через pandas второй лист (Olympics). Отфильтровать данные по России и золотым медалистам, построить график разброса возраст-вид_спорта. Построить линейный график на следущих данных - df.groupby('Year').Age.mean().dropna(). Сохранить графики в pdf. Отфильтровать изначальные данные только по летнему сезону, убрать колонку Город, создать колонку Год рождения, вычислить её через Возраст и Дату проведения, датафрейм сохранить вместе с графиками в архиве и скачать (командами, не через GUI)."
      ],
      "metadata": {
        "id": "0jPGWKogi3Pv"
      }
    },
    {
      "cell_type": "markdown",
      "source": [
        "Задание 3. **(Необязательное)** Адаптировать программную реализацию к иной предметной области."
      ],
      "metadata": {
        "id": "enrd1AMyyM-U"
      }
    },
    {
      "cell_type": "markdown",
      "source": [
        "\n",
        "*Предметная область 1*.\n",
        "\n",
        "![6.png](data:image/png;base64,iVBORw0KGgoAAAANSUhEUgAAAUIAAAE/CAYAAAAzEcqDAAAAAXNSR0IArs4c6QAAAARnQU1BAACxjwv8YQUAAAAJcEhZcwAADsMAAA7DAcdvqGQAAABhaVRYdFNuaXBNZXRhZGF0YQAAAAAAeyJjbGlwUG9pbnRzIjpbeyJ4IjowLCJ5IjowfSx7IngiOjMyMiwieSI6MH0seyJ4IjozMjIsInkiOjMxOX0seyJ4IjowLCJ5IjozMTl9XX2iq5l8AAA2O0lEQVR4Xu2dCZDUVP7HwynLVVwDogjIMAOsW4LLIQoDigqClnhws4hWYalAcZTigsohln8QFUGRxS0VcOXw5hIBURRGRAUERIThdlVYuS+5hPz7m/5lfHmd7ukr6STv96n6TSd5mU7yjm+/98s7iukhNIZhGIUpTp8MwzDKwkLIMIzysBAyDKM8LIQMwygPCyHDMMrDQsgwjPKwEDIMozwshAzDKA8LIcMwysNCyDCM8rAQMgyjPCyEDMMoDwshwzDKw0LIMIzysBAyDKM8LIQMwygPCyHDMMrDQsgwjPKwEDIMozwshAzDKA8LIcMwysNCyDCM8rAQMgyjPCyEDMMoDwshwzDKw0LIMIzysBAyDKM8LIQMwygPCyHDMMrDQsgwjPKwEDIMozwshAzDKA8LIcMwysNCyDCM8rAQMgyjPCyEDMMoDwshwzDKw0LIMIzysBAyDKM8LIQMwygPCyHDMMrDQsgwjPKwEDIMozzF9BC0zTCusmPHDm3r1q3anj17tBMnTmjHjx83PqNtm58VKlTQKlasaHxG2zY/69atqzVs2FCrX78+XZVhImEhZBzlzJkzhtjZ2dmzZ+ks57nkkksMQbSzMmXK0FmMqrAQMmnlm2++0T777DMtPz/fELudO3dSiHfJzs42BLF169Zau3bttBYtWlAIowoshExKoHkL4TPtwIEDFOJfsrKyDEE0jZvVwYeFkEmIQ4cOWYSvoKCAQhKnZs2ahc3TSpUqRfXzwcB1112nHTt2zNgWgXBNnjxZO3/+vMW3ePTo0cJm+L59++jsxMnNzbUIY9WqVSmECQoshEyRnDx5Ups1a5Zhq1atoqPxgxqVKXiiJSIon3/+uXbjjTfSXiT9+/fXXnnlFdqLBAJuiqJoqNEmSl5enta7d2/DypcvT0cZP8NCyETlk08+0WbPnm0IIGpb8VCtWrXCmlPLli0NwcOLilSZNGmSNnToUNrTtMaNG2sbN26kvTBLlizROnToQHvxgRc2EMQ1a9YU1nIPHjxIobEpVapUoSDefPPNdJTxIyyEjIVdu3YV1v62bdtGR6NTokQJQ/RQW8PntddeSyHp5a677tLmzZtHe5o2ffp0ozm8YcMGOqJpTZo00b777jvaSx7zhY9pFy5coJDoNGjQoFAU69WrR0cZv8BCyBiY4vfxxx/Tkeg0bdq0sNYHK126NIU4R+XKlQ2fn8nu3bsN/6RcAxw1apT21FNP0V7qnDt3ziKK69ato5DodOzYsVAUGZ8AIWTUJNQs1MeNG6dnZWXhxzCm5eTk6GPGjNG3b99O/+0eoVqe5V7q1q1LIbo+YMAASxhs7dq1FJp+8PyIB8SHfF3ZEK+IX8Qz421YCBUkVMuJSwBDzV69T58++pIlS+g/M8OLL75oua8777yTQnT9xIkTeq1atSzhN910E4U6C+IF8YN4Eq8vmymIiHfGm7AQKgQK4vjx4/Xq1avbFljTWrVqpU+dOlU/duwY/WdmgfCJ9zd9+nQKCRNq0lvCYZMnT6ZQ50E8Ib4Qb/J9iIZ4R/yzIHoPFkIFOH/+vP7ss8/GFMCKFSvqjz76qNEM9RpoCov3unv3bgr5k+7du1vO+ctf/mJ7ntMg/hCPiE/xfkRDOiA9kC6MN2AhDDAXL140ClyNGjVsCySsQoUK+ujRoz1T+5OR/YOVKlWiECt79uwxxE88F+KYKRCfiFfEr3hPoiFdkD5IJyazsBAGlA8++EDPzc21LYCw8uXL66NGjfKsAJrE8g/KvPTSS5ZzYWg2ZxJTEBHf8r2ZhnRCejGZg4UwYOzfv1/v27evbYGDlStXzhDAo0eP0n94G9k/iDe2scCLEvF8vEjBC5VMg/hGvCP+xfsTDemG9GPch4UwQEybNs1oOtoVMhTAkSNH+kYATWT/4IoVKyjEHnSdEc+H9e/fn0IzD+If6RBNEJF+SEfGXVgIA8CmTZv0jh072hYs2LBhw/QjR47Q2f4hXv+gDGpe4v/BMt0FSAbpgXSR79M0pCfSlXEHFkKfM3bsWNuCBGvdurWen59PZ/qPRPyDMk2aNLH8L/a9CNIH6STeq2hIX8Z5WAh9yqeffqo3bdrUtvCgg+9zzz1HZ/qXRP2DIkuXLrX8Lww1Ra+C9IrWMRvpjPRmnIOF0IdMmjTJtsDA7r77br2goIDO9Deyf/DDDz+kkPiAb1D8f5iTw+9SBemG9JPv2TQ3O4mrBguhz+jXr59tIalZs6Y+c+ZMOsv/2PkHE/VzZnL4XSogHZGe4n2bhvRn0g8LoU/YvHmz3rJlS9vC8dBDD/nubXBRYBid+Iw33HADhSRGpoffJQvSE+kq3zsM+QD5gUkfLIQ+YO7cubbdLTCSItMdhp3ivvvuszzrkCFDKCRx7IbfYSSKH0D6yiNmYMgPyBdMemAh9DhPPvlkRCGANW/ePNDdK1L1D4p4bfhdoiCdkd7i/ZuG/MGkDguhRzl48KDeuXNn28x///33B3p8KiZLkJ851X6QaA7L3+mn2jTSG+kuPwMM+QT5hUkeFkIPsmHDBj07O9s200+cOJHOCi6o/YnPnK4+gF4dfpcISH/xGUxDfkG+YZKDhdBjrF692na2mNq1a+vLli2js4JNOv2DIl4ffhcvyAfID/KzIN8g/zCJw0LoIZYvX247bVOnTp30X3/9lc4KPun0D8rYDb9D52u/sW/fPiNfyM+C/IN8xCQGC6FHWLBggV68ePGIjD1o0CA6Qw3gC5TjIN0TrPpl+F08IH+IzwJDPkJ+YuKHhdADoBuEnJlhw4cPpzPUwSn/oAgmYBCvAfPy8LuiQD6RnwfG3Wvih4Uww7zxxhu2mVjVwfYYTyzGQ7r8gzJ+G35XFNEm30D+YoqGhTCDTJkyxTbzPv/883SGemAEiRgX6fQPivh1+F0skG/E5zEN+YyJDQthhpgwYYJtpsVqaKrihn9QxG74Hab79zPIP/IzwZDfmOiwEGaA1157zTazzpgxg85QEzf8gzJ+Hn4XDeQj8ZlMQ75j7CkeiiDGRRYvXqz169eP9v7knXfe0fr27Ut7arJx40baChNqJtOWc4wfP14LiR/tadrp06e1f/7zn7TnT5CPkJ9kkO+Q/5hIWAhdZP369VqPHj1o708WLVqkde3alfbUZcOGDbQVpm3btrTlHHXr1jXEUOTtt9/WZs+eTXv+BPkJ+UoG+Q/5kJGgmiHjML/88ouek5MT0VxRvTlsAv+gvPCUmwu0B2H4nR12zWTkQ5U66McDC6ELYMB8mzZtIjLkuHHj6AwGq9OJceN2J2e74XcDBgygUH+DfCY/G/IjLyz/JyyELtCtW7eIjKjaiJGikBdqwnhjtwnK8Ds7Bg8eHPFsfpqKzGlYCB3GLgNCGBkr8kJNmKE6EwRp+J2M3Q8y8ifDQugodk2SvLw8bpLYkEn/oEjQht+JIN8h/8nPxy4aFkLHWLx4cUSGg5MaL00YK/JCTZh9JpMEbfidCF6S2L20Q35VGe4+4wDHjh3TBg4cSHthypcvr82ZM0e77LLL6Ahj8vnnn9NWmFBzlLYyw7PPPqvVqlWL9sIMHz6ctvxNzZo1tblz5xr5UWTAgAFGvlUVFkIHgAju2rWL9sI88sgjWtOmTWmPEfniiy9oK0znzp1pKzNAJCCGIsuXL9defvll2vM3f//73438KLJ79+6IH2+loJohkybsxnqOGDGCQhk75IlYM+UflAni8DsR5Evx+WCqjnVnIUwjGzdujJhctW3bthTK2GG3kLtXgCCXKVPGcn9B63KC/Ck+H/Iv8rFqcNM4jcDPcvHiRdrTtJIlS2qvvPIK7TF2yP5BN8YXxwuG38lN5CAMvxNB/kQ+NUH+RT5WDRbCNIGB+vn5+bQXBpnsqquuoj3GDtk/mOkXJTKDBg3SbrrpJtoLgxcnp06doj1/g/wp/1gjH/t94omEoZohkwLz58+3NC9gffv2pVAmFrJ/EEPtvEaQh9+ZIL/Kz4h8rQoshCly4MCBiJmO0U/r5MmTdAYTDS/7B2WCPPwOIL/K/QuRr5G/VYCbxikyevRo7eeff6a9MFOmTNHKlStHe0w0vOwflHnqqae0xo0b016YIDUfkV+Rb0WQr5G/VYCFMAW++uorberUqbQXBhmnffv2tMfEwuv+QRn5xQnmTwySUCDfys+D/I18HnioZsgkQSjjWJoSoRoDhTDxIPsHnVqoKZ3YDb9bt24dhQYD5GPx+ZDPgw4LYZK8+eablswCmzdvHoUyRWHnH8TkrF7HbvW7m2++mUKDAfKx+HywmTNnUmgw4aZxEqCvldyE6NKlS8aHhvkJeVp+NItDYkh73iXow+8A8jHys8iYMWMsfWSDBgthEiBTYGymCJzpTPz4zT8o0qtXL61bt260FwYvTvbu3Ut7/kfOz8jvyPeBhWqGTJxs27YtotnAY4kTx4/+QRGnht8dPHhQX7VqlR6qdRrf16xZMwpxH7uxyMj/QYSFMEF69OhhyRhXXHGFfvbsWQpl4gEiIsYhzA/+QZnJkydHPAcWjU+FDh06WL7v4YcfphD3Qb5G/hbvB/k/iLAQJsCiRYssmQL2+uuvUygTL5lYyN0p5NXvIBzp6ExvznwzZ84cOpIZkL/F54OhHAQNFsIEaNmypSVDtGvXjkKYRMDCTGI8DhkyhEL8h1PD77Kzs43vQlM50yCfi8+HchA0WAjjxK42uHLlSgplEsHv/kGZkSNHWp4HlsrwO/gI8R2Z9A+KIJ/Lzxe0WiG/NY4TeYaOnj17anl5ebTHxMvRo0e1PXv20F4YP70xtmPs2LFpHX738ccfG5/9+vUzPjMN8jnyu0jQppdjIYyD1atXF2ZOExXnbEsHduuTYN4/v5PO4XfLli0zPkNNUOPTC8j5HeUB5SIosBDGgfzrd+utt2qtWrWiPSYRNm7cSFthvDzRQiJ06NBB69+/P+2FQU1x/fr1tBcfhw4d0tauXatlZ2cbtczFixdrzZs314oVK6ZVqVLFuAbOcRvkdzyjSKBqhdREZqLw448/RvhHFi5cSKFMooSEzxKXfvcPiqRj+B3eEuP/0G3G3JYNXWwyAfK9fC8oH0GAa4RFIP/qtWjRQrv99ttpj0kE+Ae9tnRnOsHwu/Hjx9NemESH361cudL4PHz4sDZv3jyjiR0qp9rOnTu1Zs2aGWFLly6NqFm7AfI98r9IYGqFYT1k7Ni/f3/EL2DQB587SZD6D8aiW7duludMZPU7s9vMtGnT6MifhMSw8DvxZjkTIP+b92Aayonf4RphDORfu5ycHO3ee++lPSZRguoflMGLkzJlytCepp0+fTqut8iIH9T84B988MEH6eif1KtXj7YyB/I/yoFIEGqFLIRROH/+fEQCq/KmGA76Hj16FDro586daxzH5xNPPGFsJ4M840zbtm1pK1jgLbj8Fhmr382ZM4f27FmzZo3xOWzYMOMzFhUqVKAt95HLAcoJyouvoZohIxFKXEv1v2rVqnoosSk0mGAUA4Z2oXlmDu1Ccwwdex9//HEjHuyabPGAscSYc1CMU4w5DjKJDr8zxxmHfjDoiBWzo3XlypXpSGZAOahWrZrl2VBe/AwLYRTkt5tYvCfIQAQheDB5WBdmQjHjIVohLQqsTifGZ1D9gyKJDr9DOH6EomH+GCE9Ms3o0aMtz4Xy4mdYCG0QndKmFRQUUGjwMEUQNQ08u8xHH31kxEEqNZEXX3zREp8Yb6wC8Q6/M+M42mwzSCPEP0z+ocoE27dvj3iuHTt2UKj/YB+hDe+++y5thWnTpk2EgzhITJw40ejEi4V67BzymzdvNj7hN0wWeSLWoPoHZeIdfvfll18an9G6ZiGNjhw5or311lta1apV6WjmqF+/fkQavvfee7TlQ0gQGYGmTZtafulefvllCgkept8pVpMsHVNCqeYfFFmyZInl2WFoWoqY3Wbsantmx+pU4t8JUC7EZ0K58SsshBLyokKwffv2UWjwKErkUDDNeLBrNseDHKeYfUY1ilr9DvGPZi/8f2Y8wx+LpjKOe00EgV0/W6S1H+GmsYRcvb/tttu0Sy+9lPaCBcasolsHuOWWW4xPGTTJAPq2JduPLcijSeIFI05q1apFe2HEJjLcDnBPYGYejCBB16V77rlHC4mgtn379pTcEk5Ro0aNiKa8b5vHJIgMkZuba/mFmzFjBoUEj6LmvUM4aiM4J5Up4++8805LnE6fPp1C1OKtt96yxAPspZdeolB/gvIhPg/Kjx9hIRSQJ6AsUaKEfurUKQoNHma3GDv/IEQQ/doggDgHbzWTRZ6IVSX/oIzd8Ds/g/JRsmRJyzP5ccJibhoLyNX6rl27amXLlqW94FG7dm3jc+fOndqrr75qbO/atcsYPTJ06FBt1qxZhXPjNWzY0Bhxkuhgf4wmESdixdrFQZh/MFkw4kQefudnUD7kNZD92DxmIRSwE8Igg5lE4IMCDz30kOGXgi9w3bp12pIlS7Rjx44ZIgm2bt1qdPGQu4IUhewfDOr44nixG36HeJ9TxPA7LyOXE1/6CalmqDxr1qyxVO/R3UMF0AQ2u27AVyi+nRQ78SY7mkH2D44ZM4ZC1Map1e8yhelLNg3lyU9wjZAICQJthZFn4w0qrVu31nbs2IEfRO3bb7+1vJ1Ex13Miwd77LHH6GhiqDLRQqLI8xb+97//TWmdk0zTvn172gojlyevUwxqSNtK07lzZ23BggW0p2lTpkzhdUlSBCJ4zTXX0F7YP4jREW4DHyW6oMAKCgqMT4h7qAamnThxovATYFYXTLBqfmL2ndzcXGNkkWnp8nGOGjVKe/rpp2kvDCZdlUXFD2AGmoEDB9Kept1xxx3a/Pnzac8HQAiZyKr9xo0bKYRJFnl8MZrJbvDll1/q48aN0zt16qSHxMxyD+kwfCe+G9fAtVKhcePGlu8O/XBQiL9AeRGfA+XJT7AQhgg1CS2JWKNGDQphUsEt/+Dvv/9uzJx8++236+XKlbNc0w3DNXFt3APuJRHiGX7nF6pXr255DpQrv8BCGEKuuXTp0oVCmFSQ+w+me6GmefPm6b1799ZLly5tuU4mDfeCe8K9xUtRw+/8AsqN+AwTJ06kEO/DPsIQd999txYqpLSnaZMnT9YGDRpEe0wy2PkHd+/ebXymwrlz5wz/LQzfFw9ZWVkWPx+2MdwNPkDYlVdeSWeGwffCbwj7+eefLb5F2G+//UZnxgbfC78ZLCSQdDQS+Cf/+te/Gtcyufnmm7VPPvmE9vzBSy+9pA0ePJj2NO2uu+7SPvjgA9rzOIYcKo482+769espJH1gIL14jWhmjuZANxYvzDuXLBhGJz5XqhN3hsTHmBy3SpUqlu+1M3RFQa0Ms2lv2bKFviE68v8XBb7z1VdfNa6Ba8n/LxvuGfeOZ4hGEIbfodyI949y5ReUF0J5ZhSnE8+cgBOGmV9EIJYQQHPKdjicUxnalkkw8ar5nLBU/INPP/20MdxR/D7Z6tevb8zgnMzsJ/J3JQquOWLECOMe5O8SDc+AZ4mGPPyubNmy+t69eynUH7hRqXAC5YUQv7piwoWq8xTiDOK0VrHW/4AgmueJnZz9Qjr8g++++67eqFEjy/eIhjGu8K9hGYBUkL83FXAvuCd5/K1oeKZ33nmH/uNPMAa7TJkylnN79OhBof4A5Ue8/8mTJ1OIt1FeCLt27WpJOKcdvGKN0Jx3LhrmpAgwzE3nF1CgzfuGYZQOFm+KF0z5Lr9xFg0LaeHN6oEDB+g/UkP+/nSAe8M94l7l7zcNzyhPbw/hkM+bPXs2hXoflB/x3v3y4lF5IZSn3XL6lb+5AI/djC8yYu0RzWW/IC/knoh/cNGiRXpWVpbl/01DtyYUtHPnztHZ6UG+TjrBveKece/ydWB4VjyzSLt27Szn+Gn4ndwVLScnh0K8jdJCeOHCBb1YsWKWhHN62i2M58V14p3fz/QXwoqqQXoF2T84ZMgQConNCy+8YPk/0YYOHaofP36czkwv8rWcAPeOZ5CvZRqe3UQWE1is1e+8BMqPfO8oZ15HaSHcunWrJcHwy+sk4pvjeP1+Zg0S5pcXJ8n4Bx944AHL/5jWsWNHx2vp8jWdBM+CUSnyNWGIAxO71e+WLVtGod5GfpOOcuZ1lBbChQsXWhIMTRInEV+AxNs1RvQTJjsDjJvAF2jer2nwGUYDPw55eXkR/wN75pln6Cxnka/rBng2+bowxIVZ8/fr8Du5aY9y5nWUnn0Gs66IoLOtk8ybN8/4xJoU8S7JiDkB/YTd+iTRJinARK/XXXddxEwlFStW1N5//30tVBumI8EDz4ZnxLOKIC4QJ4gbed7C7777ThszZgzteRe5HKETutdRWgjlBHJaCM3ZnhOZXQSTpJpcf/31tOVd5Bmso03EOnHiRGNhLHmURvPmzbWvvvrKGO0TdPCMeFY8swjiBHHzww8/aP3796ejYZ566ilt/fr1tOdNWAh9BoZNiTgphBAIcwqqjh07Gp/xINZaGzVqRFveRa4R2s0/+O9//1t75JFHaO9P+vTpYwgDhpupAp4Vz4xnl0EcNWjQQLv88svpSBivz1voRyFU2kdYp04diy8jnuFYySL6+uIFfQfN/5FHoXiRePyDoSZfxDkwt/yBdsj3kimi+Q2HDRsWcQyLq3sVlCPxXlHOvI6yQnj69GlLYsHOnz9PoenH7AaTSH9Av70xlvsPNmnShELCfP/990bnavEc2Pvvv09nZAb5fjIJ4kK+H8SZ2I0K5uXhdyhH4r3CUN68jLJNY7m6jkWLSpYsSXvpBQupY+ZhgBk54gGryf3rX/8ytkOFQOvUqZOx7WVi+Qfx0qd3797a0aNH6UgYrJSngj8wXhAXiBMRxFlI9Cyr3/3++++ebSKjHKE8iXi9ecxCSDjpH/z6669pS9NatmxJW7HBW0X4FCtXrqxNnTqVjnqbWOuTQAQ3bdpEe2GwbkevXr1ojzFBnMhrmmAVwXr16tFemLlz53p29Tu/+QmVFUL8woo4KYSLFi0yPiFq8SyHiTeFb7/9tvGrumLFiogC4EVQa7HrOgMefvhhLdS0N7ZNsB6MnxcrchrEjbxmzpYtW2xfnKB26DXk8iSXN6+hrBBi0k2RVCcMjQaaxfjlBuIKcXagOXzrrbcaTWI0h1GTTHQd4UyB2qDY7DX7D/7f//2fNm3aNDoaBgv7YGJVJjaII8SVyC+//EJbYbD6XbIrDDqJXJ7MxbG8irJCKCcMZipONxC2kSNHRl25DeH5+fnahAkTjL5kqAGiuwyaO1hgPd5O117giy++oK0wEMKFCxdqTzzxBB0Jg+OyD4yJDuJKnOnbDqwg57XZrOXyJFc8vAbXCAks35huIGzmCw+A7WLFihUawvGL/9lnnxmdrNF8hBAWVXP0IrJ/EMujjhgxgvbCQNhnz57tyI9OUEFcQQzlH0XxxQnwmptBLk8shB7FjRqhHu6eFNOwvi5qf88884wv3gzbYecf/PTTT42RESIQQT90CvcaiDPEnciZM2doK4zXht/J5Ymbxh7FjRqhKsj+QSyOJPsAhwwZ4suFy70C4g5xGAsMv4MgegFuGvsEOWG4uZY8crNYjlu8NJG7gzCJgzisU6cO7YW55JJLaCuMV16ccNPYJ7jRNFYF+UXJr7/+Slthxo0bF1FgmcRBHMo/KGfPnqWtMMuXL/fEG3m/NY2VXdcYLysYhnGP6dOna/fddx/teQtla4QMwzAmLIQMwygPCyHDMMqjrBCWLl2atsLA6Sz272OLz6JNw4+hgnbne9Fk7M7xoiGORe69917a+pOBAwfa/q/TJvdzRHnzqn8QKCuEfnu970XQbWbPnj20Z4VnlXEeOY4xQQeGdIrgDXImht/5rXuaskLot9f7XkQeTWKCHxkWQudBHIs/6JiAAQuDyRN1ZGL4nSyEXh+wwEJIcI0wceT+gyaYe7BEiRK0xzgF4lj+wcFQPLmvYSaG3/mtny43jQkWwsSRR5SY9OzZk7YYp5GFEBN4wHeIOSBF3B5+x01jn8BN49SI5h+sVq2a1qZNG9pjnAZxjTg3OXDggPbtt98aayJncvU7bhr7BG4ap0a02uCNN95IW4xbyHGOlyYQHnmBeLw0cWv4HdcIfYL8C8U1wsSYP38+bVlhIXQfOc7RPAbw1Xbr1s3YNkGt8KeffqI952AfoU/gGmFqRKsRtmvXjrYYt5DjXHyJhRcnmVj9jpvGPoF9hMkTzT9YvXp1rUGDBrTHuAXiHHFvgs7MWAYCXHnllRFvkbGGjrmOjlNwjdAn8Fvj5IlWG2zYsCFtMW4jxz2W/zQZPHhwRK0RtUInV79jH6FPkBNGnGGZiU20/oMshJlDjvtt27bRVhj5xQn8hE42keXyxE1jjyLP9Ov1Bai9RLQRJdwszhxy3Is1QoARJ24Ov5PLk1zevIayQui3lfi9An7po40v5hph5pDjHqshyowdO9a14XdyeZLLm9dgISR27typ/fHHH7THRCNabRCIHXsZd5HjPtrLP7vhdxh1kk5QjlCeRFgIPQq6FHDzOHE2btxIW5FUrFiRthi3keM+mhDaDb/DOOR0Dr+zaxbL6zB7DWWFEHDzOHFmzJhBW5F43SEeZOS4P378OG1F4vTwO781iwELoQALYWxi+QcBC2HmkOM+Vr9YnOvk8DsWQp/BQpgYsfyDgIUwcyQ6QCDa8DvMaZgqLIQ+g4UwMWT/oLzcAXdKzxzJDGnDixNxvWl0sE7HAvEshD6DhTAx5BphIs0xxlnkuI9HCDH8Tm4ip2P4nR+FUNkF3sHFixe1kiVLGovNmJw6dUorW7Ys7TEm8A9WrlyZ9sJkZ2dbukn8+OOPvuxLKC/2n0qRwBhfdGbevHmzMQsMhralo5ZVFLhmo0aNaC/crxDpEQ833XRT4Yw1oHbt2sb/JlMOUKssV64c7YW5cOGCVry4t+tcStcIkTjyr9WWLVtoixGRa4NNmjTRqlSpQnthuEYY/nG47bbbDH/b0qVLtb/97W8U4izyW+JE/LXpHH4nlx+UL6+LIFBaCIHc037VqlW0xYjI/sEbbrghorBhdmTVQW1SrFFee+21tOUsBw8epK0wiQhhOoffyeVHLl9eRXkhzMvLo60wLIT2yDPOtG3bVqtfvz7thZHHt6qK+aMBgalataqx7TRy3MtpUxQYfnf11VfTXphkaoVy+ZHLl1dhIWQhLBL4B+2axrI/UJ7xRFXQJAZdu3Y1Pt1AjvtkfLVyEzmZ4Xdy+fHL+jXKCyEKtDhOE00MN1f78gOoDYrTKiHO6tatW+SMJ6pivni4/vrrjU83kOM+mZmAUh1+h/PEJjrKFfKKH1BeCAHXCmMjN4vNzC3XOlgIw5g1wtatWxufbiDHfTI1QpDK8Du/NosBC2EIFsLYyBOxwj8I6tWrZxlM/9tvvynVPF68eLHWo0cPo/sN3qBPmDBBy8/PN8K6d+9ufLoB4hxxb4I0QdokA16yJDv8zq/NYgOd0b/99lu85iu06tWrUwgDKlWqZImf3bt3U4iud+jQwRI2depUCvEP4v3DiiLU/DOeu3LlyvqcOXOMYzt37tSbNWtmGL5j2rRpxnE3QJyL9x9q4lJI8nTt2tXynWXLltV/+uknCrWnRo0alv9BufILXCMMgbd7Ymdh/Lpu2rSJ9tRG9g/CNwgzkdfCwJq6QQZvhNEl5tChQ8YICtQIAWpgjzzyiLZ27Vpjv2XLlsanG8hxno4lVVErlIffxWoio7z873//oz3NKE8oV36BhZDg5rE9dm+LRewWFw8qEL977rlHO3z4sPbaa69F7RoDEXCz/5wTQmg3/C5U+406/M7P/kHAQkiwENoj+wc7d+5MW2GaN2+uZWVl0V74rfvKlStpL1hgxhYMKRw3bpyt0JnPbdYS3QDXFN/UIi2QJukgkdXv/C6E7CMk1qxZY/FvwC/G6HqoGWyJF9E/aNK9e3fLOQ8++CCF+APx3mF2hAq6EZadnU1HrMBvCJ8hzjH9hm7w0EMPWe4daZFOZP85bODAgRT6J7IfGeXJT7AQClx22WWWxHz//fcpRE2+++47S3xE+3GYP3++5bwKFSrof/zxB4V6H/HeYXaYL4WiiVyoGVn4/3hx4gaIY8S1eV0Y0iLdPPnkk5ZrwD755BMK1Y1yIoahHPkNFkKBQYMGWRI01MShEDV58cUXLfFx5513UkgkV1xxheXcN998k0K8j3jfMBkImxlmJ3I4ZtYG8dbYLRDH5n3BkAZOcfXVV1uudc0111CIbpQTMQzlyG+wj1CgS5cutBXm3XfftfWHqILsH4w1SqBnz560FWb27Nm05X+++eYb2gq/HRbBCxT0GTRHZLRv3974dAM5juU0SCfyixNz+B3Kx3vvvUdHw8jlyA+wEArAwSsOTcI8ahBDVbGbaCEavXr1oq0wS5YsiRBSv4JpqaKBWVv69eunHTlyxNhv1aqV8ek0eJuPOBaR0yCdRBt+9/zzz1uWwc3NzfXfixJANUOGeOKJJyzV/Ntuu41C1CJe/6AIOvKK/3PHHXdQiLcR7xkm89FHHxWGhcTAOIbmMPyG5r7ZNMZLE/gLnQZxa94TLB2dqIvi+PHj+uWXX265brVq1Sz7KD9+hIVQIlQLsiQsbP/+/RSqDon4B02WLl1q+R9YqFZIod5FvmcZ8Y2waKIomscwogR5yEkQp+J9wBD3bvCf//wn4tqi4QfUj7AQ2mAOkzLt5ZdfphB1gPCJcRBqBlFIbNq3b2/5v3gENNOI9wuzA+Jm5gt8opZoYgolutagm43TyGmDOHcTefidaU2bNqUz/AcLoQ3jx4+3JHCbNm0oRB3k/oMffvghhcRmyZIllv+DudmvLhnk+/UyiEv5fhHnbrJr1y69VKlSEfeBcuNXWAhtEJs6phUUFFBo8LHzDx45coRCi+aWW26x/H+dOnX0M2fOUKj3EO8V5lUQh/IPFOLaLZAH4DJp0qSJ5R5M27FjB53pP/itsQ3oIiGP13zrrbdoK/jIb4vRbSYkhrRXNBiCJrJ3715t+PDhtMckC+Jwz549tBdGjut0Y85Ofv/99xvjj4cOHRqRPwDWsMHCVb6FBJGReOWVVyy/dlWrVtXPnz9PocHmvvvuszz7kCFDKCR+7EYjuOXQTxT5Pr2I3YsoxLFTrFixwvALyzXQaIby4mdYCKNw7tw5vUqVKpbEnjRpEoUGm2T9gzJXXXWV5XvwY7JlyxYK9Q7iPcK8BuIMcSfeI+I23RTV9I1meFGE8uJnWAhjMHLkSEuC5+TkUEhwwaQK4jPDEvEPiixYsCDiuzA068SJE3SGN5Dv0UsgruyECXGbDpC2qP2hFSBPnGBnuBdZlFFO/A4LYQzQf1BMcNjMmTMpNJig9ic+LzJ+KjzzzDOW74N5raO1fH9eQu44DUOcpkoiTV8IJIQSL9Hk8c2wIPSzZSEsAkw5JCZ6ixYtKCSYpMM/KCNPFQUbMGAAhWYe+d68AuJIvjfEZbIk0vSF+N1www3G+WKL4Nprr7WcZzcllx9hISyCH3/80ZLwsIULF1Jo8EiXf1AGQxXF74V5pd+ZfF9eQO7LCktmuGcyTV/UFO1GiCDfy+ejfAQBFsI46NWrlyXxMcY0iKDQiM8Js5uINRmOHj0aMZUTbNasWXRG5pDvKdMgTuR7QtwhDuMl2aZvLOSx5CgXQYGFMA6+/PJLSwaA5efnU2hwSLd/UOb777+3rZVkegJc+X4yiTzJKQxxhrgrinQ0faOB/C5/B8pFUGAhjJOOHTtaMkHPnj0pJDigBiE+Yzr8gzKLFy+2XMO0dLwASBb5XjKF3YslGOIsGuls+sYC+V38HpSHIMFCGCeLFi2yZATYypUrKTQYoIYgPl+6/IMyr776quU6pvXp0ycjU/zL9+E2eGY8u3wfMMSVHU40faOBfC5/J8pDkGAhTICWLVtaMkO7du0oxP846R+044UXXoi4Hqx58+b6Dz/8QGe5g3wPboJnxTPL9wBDHIk42fSNBfK5+N0oB0GDhTAB7GqFr7/+OoX6G6f9g3ZgKqvq1atbrgurWLGiq35D+fpugWfEs8rXR5yY03y51fSNBvK3fI2g1QYBC2GCyAvVYMGcs2fPUqh/ccM/aAdm+snLy7Nc2zS3/Ibydd0gmj8QcYE4cbPpGw3ka3lRrqAuaMZCmCDbtm2zZAzYiBEjKNS/yJN9OuUfjMYDDzxgub5pnTp1MtbWdRL5mk6CZ5FfvJnWt2/fjDR9o4F8LV8X+T+IsBAmgTwGGea2XyudoCDJzS4n/YPRiOY3hA0dOtRYM8MJ5Gs5Ae4dzyBfyzT4CTPR9I0G8rN87SCMKY4GC2ESXLhwQb/yyistmaRLly4U6j/QDBOfxQ3/YDTgf8rKyrLcj2k1atTQJ06cmPaZTuTrpBPcK+4Z9y5fB1aiRAnb46I51fSNBfKzeA/I78j3QYWFMEkw+YKYUWDz5s2jUH+B5pX4HCh0mQQzHctNddEw+8no0aP1AwcO0H+khvz96QD3hnuUZ2qJ19xo+kYD+Vi+Hz8t2J8MLIQpIC9U1LhxYwrxF7LoTJ8+nUIyyzvvvKM3atTIcm+ilSxZUu/fv79Ro00F+XtTAfeCe8K9yd8bj7nV9I0F8rF4T24vDpUJWAhTYPXq1ZYMA0MtwG94wT8Yi6effrrIJmT9+vUN534yAiJ/V6Lgmo8//rhxD/J3xWOZaPpGA/lXvj/k86DDQpgi+PWXM45Xp6S3A4VPvHd01/Aiv/32mz5q1KiIWcPtDF0+evfubawxHM+M2PL/FwW+E9+Na8jdS+K1TDZ9o2G3HADytwoUw5/QAzNJcvDgQe2aa67Rfv75ZzqiaTk5OVpIYLRy5crREe8yadIkY0Eek1AzWfvwww9pz3ucO3dOmzJlimGhmisdjU316tWNNIHl5uYan7Vq1dLKly9vGBYlEsH3njx50jCka0FBgbZ9+3bDsH3gwAE6M3FCTV8jjjt37mxse4VTp04Z+RjPaII4Qj6uVq0aHQkwhhwyKTF//vyIX1L0CfMDXvUPxgOc+qiVlS5d2vIMXjMvNX2jgfwq3zfytSqwEKaJxx57LCIjRRsw7yXkkQte8w/Gw++//268xb/99tv1UC3c8jyZMi82faNhNwkG8rNKcNM4jeTl5Wn5+fm0p2klS5Y01oC96qqr6Ii3wL2hOWQSKrxaqNDSnn9ZvXq1tnLlSm3VqlXGJ5q4buHVpm80fvjhB+M+//jjDzqiaa1btzbiTiVYCNPIpk2bDGG5ePEiHdG0tm3bGgtkexG/+QeTBYuimz4+0893+PBhQyBPnDhR+AkqVKhg+A1LlSqlnTlzRjt06JB2+vRpIywa+AFB3A0ePNgX4icSqrVqX3zxBe1pWvHixQ2/4NVXX01HFAFCyKSPqVOnWpoYMK+ORZb9g+i/pjJowsJHGhIzS7zYmZ+avtGwG0uM/KsiLIQO8I9//CMig3mxf6HsH0y1Y7IfgYjhufEyA+ImxoedIc4y3eE5Hdj1F0S+VRUWQgfAIjvyWORQc0tfu3YtnZF5UJDF+4MIqASeP9PTXGWKdevWGflRfMZ69eoltDhU0GAhdAi7tTlycnL0X375hc7ILPL4YjSTg04iTV+Y35u+diD/IR/KzxprXRQVYCF0kHHjxkVkOEy8efHiRTojc6jiH1S16WsH8p3dJLjIp6rDQugwgwcPjsh43bp1o9DMITcJ3Z6I1WlUbvpGA/lOfnbkT4aF0BW6d+8ekQEHDRpEoe6DAi/eC4QgCM0/bvpGB/lNfn4v/CB7BRZCF0CTpE2bNhEZMVNNEoiFeB8QBL/CTd+isXPRID96wUXjFVgIXeLXX3+1dVLPmDGDznAPiIZ4D24t1JROuOkbH8hfcnx46aWdV2AhdBF0W6hQoUJExnR7eUS/+ge56ZsYdsvPIv8hHzJWWAhdBuvVypkThtmY3QCTKsjX9rJQmE1f1Fq56Rs/yE928WOul8xYYSHMAK+99pptJnWjmYzan3hN1K68iNn0jXe4m6pNXzvsmsMw5DvGHhbCDDFhwgTbzOr0WE8v+we56Zs6dmPdYchvTHRYCDPIlClTbDPt888/T2ekH6/5B7npmz6Qb+ziDPmMiQ0LYYZ54403bDPv2LFj6Yz0AdGRr5OpiVi56ZtekF/s4g75iykaFkIPMHfuXNtMPHz4cDojPWTaP8hNX2dAPrGLP+QrJj5YCD3CggUL9OLFi0dk5nSOQEENTPxuN/yD3PR1FrsRI8hHyE9M/LAQeojly5fb9jPs1KmT0SE7VVDDEr/XSf9gok1fTAKB/+HaX3zs27fPyBdyXCL/IB8xicFC6DGwmHaNGjUiMjjWz122bBmdlThu+Ae56esOyAe1a9eOiE/kGxUWY3cCFkIPsmHDBj07Ozsio8NeeOEFOisxnPIPctPXXSZOnGgbr8gvyDdMcrAQepSDBw/qnTt3ts30999/f8ID5tPtH+Smr7sgvZHudvGLfIL8wiQPC6HHefLJJ20zf7NmzfRNmzbRWUUjT8SajH+Qm76ZAencvHlz2zhG/mBSh4XQB6AbhN3C5WXKlNFnzZpFZ0UHQiQ3W+P1D3LTN7MgfZHOcjwjP3D3mPTBQugTNm/erLds2TKiQMAefPDBmAvvQMjE8+PxD3LTN7MgPZGudvGNfID8wKQPFkKf0a9fP9vCcemll+ozZ86ks6ygeSqei1Eadqja9J0zZ47eoUOHwufCiwccyxRIR6SnGNemIf2Z9MNC6EMmT55sW0hgd999t15QUEBnhpH9gxA7E5WbvnjLCl+rKXzmC4eHH37YeFa338Ii3ZB+cpybNmnSJDqTSTcshD7l008/1Zs2bWpbYDCy4LnnnqMzdVv/oOpNXwhf5cqVDSEU37hiG8fw3KtWraKjzoP0shtZBEM6I70Z52Ah9DnRBtvDWrdubdT+xGPVqlVT/q0vanp4PlkEwc6dOw2BRFPZDfLz8410kuPeNCcm32AiYSEMAOhe0bFjR9uClKip8NbX7KzuZo1P5vDhw/qwYcMi4t80pGci3aOY1GAhDBDTpk2Ly88nm0pvfdEkxjO7VeOTQfyOHDnStjsUDGmBdGTchYUwYOzfv1/v27evbSGTTcUOz6b/z22xQXeYUaNGRRVAGNIN6ce4DwthQPnggw/03Nxc2wIHK1u2rFEwjx07Rv+hBubzu9UsRvwinsuXL2+Jf9GQTkgvJnOwEAYYjE999tlnbWezMQ3TNo0ePVoJQYT4mc8dSwjTIZKIT8Sr3bRqpiFdkD680HrmYSFUgPPnzxsFrnr16rYFElaxYkX90UcfDfRLEvNtMQzxYQeazKk0mxF/iEfEpxi/oiEdcH2kC+MNWAgV4ty5c/r48eNjCiKsVatWxmpoQawlomsMnhGfEDyz+wxqgXiBgs7UiYJ4Qnwh3uS4FA3xjvhHOjDegoVQQVAQx40bp2dlZdkWWNNKlCih9+nTR1+yZAn9p/8x3xrbWbRaYjQQL4gfxJPd95mGeEZ8swB6FxZChTl79mxcggjLyckx+hdu376d/tu/fPTRR4Vvj2Hdu3eP2y+I50c8ID7E+LEzUwARz4y3KYY/oURjFGfWrFmGffzxx3QkOk2bNtXatWtXaKVLl6aQ4BGqxWmfffZZoa1bt45CotOxY0etd+/ehjH+gIWQsbBr165CUdy2bRsdjU6oWWgRxRYtWlCIf/n6668N0VuxYoXxeeHCBQqJToMGDQrFr169enSU8QsshExUli9fXiiK58+fp6OxqVatWqEotmzZUmvYsKF2ySWXUKj3CDVbta1bt2pr1qwprPUdPHiQQmNTqlQpQ/h69eql3XLLLXSU8SMshEyRnDx5slAQV61aRUfjp379+oYgyla1alU6w3kOHTpkCJ5sO3bsoDPiJy8vr7D2V758eTrK+BkWQiYhIChmzQlWUFBAIYlTs2bNQlGsVKmSVqFCBcMqVqxo+RS3ITwQ5hMnTmjHjx83PqNtHz16tFDw9u3bR1dNnNzcXEvz300BZ9yBhZBJCdSoRGE8cOAAhfiXrKwsi/ChRssEGxZCJq188803hiDm5+cbNbGdO3dSiHfJzs42aqWtW7c2hC8IL3yYxGAhZBzlzJkzhc1T0/A2Gp8Ic4syZcoYYoe3u2Zz3DSEMWrDQshkDDSrIYh79+4t9OvZ+frkTzs/op0/EZ916tQxxI6bt0wsWAgZhlGe4vTJMAyjLCyEDMMoDwshwzDKw0LIMIzysBAyDKM8LIQMwygPCyHDMMrDQsgwjPKwEDIMozwshAzDKA8LIcMwysNCyDCM8rAQMgyjPCyEDMMoDwshwzDKw0LIMIzysBAyDKM8LIQMwygPCyHDMMrDQsgwjPKwEDIMozwshAzDKA8LIcMwysNCyDCM8rAQMgyjPCyEDMMoDwshwzDKw0LIMIzysBAyDKM8LIQMwygPCyHDMMrDQsgwjPKwEDIMozwshAzDKA8LIcMwysNCyDCM8rAQMgyjPCyEDMMoDwshwzDKw0LIMIzysBAyDKM8LIQMwygPCyHDMMrDQsgwjOJo2v8DEh586ZsJwiIAAAAASUVORK5CYII=)\n",
        "\n",
        "Переменные:\n",
        "\n",
        "$a$ - сторона треугольника\n",
        "\n",
        "$b$ - сторона треугольника\n",
        "\n",
        "$c$ - сторона треугольника\n",
        "\n",
        "$\\alpha$ - угол треугольника\n",
        "\n",
        "$\\beta$ - угол треугольника\n",
        "\n",
        "$\\gamma$ - угол треугольника\n",
        "\n",
        "$d$ - диаметр вписанной окружности\n",
        "\n",
        "$D$ - диаметр описанной окружности\n",
        "\n",
        "$p$ - периметр треугольника\n",
        "\n",
        "$S$ - площадь треугольника\n"
      ],
      "metadata": {
        "id": "uZLuTNl5yOPH"
      }
    },
    {
      "cell_type": "markdown",
      "source": [
        "*Предметная область 2.*\n",
        "\n",
        "![7.png](data:image/png;base64,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)\n",
        "\n",
        "Переменные:\n",
        "\n",
        "$a$ -\tсторона трапеции\n",
        "\n",
        "$b$ -\tсторона трапеции\n",
        "\n",
        "$c$ -\tсторона трапеции\n",
        "\n",
        "$\\alpha$ - угол трапеции\n",
        "\n",
        "$h$ -\tвысота\n",
        "\n",
        "$d$ -\tдиагональ\n",
        "\n",
        "$D$\t- диаметр описанной окружности\n",
        "\n",
        "$p$\t- периметр трапеции\n",
        "\n",
        "$S$ -\tплощадь трапеции\n"
      ],
      "metadata": {
        "id": "f-i8fWf8ySSe"
      }
    },
    {
      "cell_type": "markdown",
      "source": [
        "---\n",
        "\n",
        "\n",
        "# 7. Выполнение работы\n",
        "\n",
        "\n",
        "---\n",
        "\n",
        "1. Изучить теоретический и практический материал лабораторной работы.\n",
        "2. Выполнить, задания 1 и задания 2 из раздела 6.\n",
        "3. Оформить отчёт о выполненной работе.\n"
      ],
      "metadata": {
        "id": "BS3N-c4nyZuH"
      }
    },
    {
      "cell_type": "markdown",
      "source": [
        "\n",
        "---\n",
        "\n",
        "\n",
        "# 8. Отчет\n",
        "\n",
        "\n",
        "---\n",
        "Оформить отчёт со следующим содержанием:\n",
        "* Титульный лист.\n",
        "* Введение (цель работы, постановка задачи).\n",
        "* Ход выполнения заданий и описание результатов.\n",
        "Приведите решение задач в виде кода, скриншоты результатов тестирования.\n",
        "* Заключение (выводы).\n",
        "\n",
        "Отчет должен быть оформлен согласно требованиям ОС ТУСУР (https://regulations.tusur.ru/documents/70)."
      ],
      "metadata": {
        "id": "JihuKMeVybO2"
      }
    }
  ]
}